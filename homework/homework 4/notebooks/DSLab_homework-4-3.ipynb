{
 "cells": [
  {
   "cell_type": "markdown",
   "metadata": {},
   "source": [
    "# Homework 4 - More trains (Part III)\n",
    "\n",
    "__Hand-in:__\n",
    "\n",
    "- __Due: 12.05.2020 23:59:59 CET__\n",
    "- `git push` your final verion to your group's Renku repository before the due\n",
    "- check if `Dockerfile`, `environment.yml` and `requirements.txt` are properly written\n",
    "- add necessary comments and discussion to make your codes readable\n",
    "\n",
    "For this homework, you will be working with the real-time streams of the NS, the train company of the Netherlands. You can see an example webpage that uses the same streams to display the train information on a map: https://spoorkaart.mwnn.nl/ . \n",
    "\n",
    "To help you and avoid having too many connections to the NS streaming servers, we have setup a service that collects the streams and pushes them to our Kafka instance. The related topics are: \n",
    "\n",
    "`ndovloketnl-arrivals`: For each arrival of a train in a station, describe the previous and next station, time of arrival (planned and actual), track number,...\n",
    "\n",
    "`ndovloketnl-departures`: For each departure of a train from a station, describe the previous and next station, time of departure (planned and actual), track number,...\n",
    "\n",
    "`ndovloketnl-gps`: For each train, describe the current location, speed, bearing.\n",
    "\n",
    "The events are serialized in JSON (actually converted from XML), with properties in their original language. Google translate could help you understand all of them, but we will provide you with some useful mappings."
   ]
  },
  {
   "cell_type": "markdown",
   "metadata": {},
   "source": [
    "---\n",
    "## Set up environment\n",
    "\n",
    "Run the following cells below before running the other cells of this notebook. Run them whenever you need to recreate a Spark context. Pay particular attention to your `username` settings, and make sure that it is properly set to your user name, both locally and on the remote Spark Driver.\n",
    "\n",
    "Configure your spark settings:\n",
    "1. name your spark application as `\"YOUR_GASPAR_homework_4\"`.\n",
    "2. make the required kafka jars available on the remote Spark driver.\n",
    "\n",
    "<div class=\"alert alert-block alert-warning\"><b>Any application without a proper name would be promptly killed.</b></div>"
   ]
  },
  {
   "cell_type": "code",
   "execution_count": 1,
   "metadata": {},
   "outputs": [
    {
     "data": {
      "text/html": [
       "Current session configs: <tt>{'driverMemory': '1000M', 'executorMemory': '4G', 'executorCores': 4, 'numExecutors': 10, 'kind': 'pyspark'}</tt><br>"
      ],
      "text/plain": [
       "<IPython.core.display.HTML object>"
      ]
     },
     "metadata": {},
     "output_type": "display_data"
    },
    {
     "data": {
      "text/html": [
       "<table>\n",
       "<tr><th>ID</th><th>YARN Application ID</th><th>Kind</th><th>State</th><th>Spark UI</th><th>Driver log</th><th>Current session?</th></tr><tr><td>5694</td><td>application_1589299642358_0181</td><td>pyspark</td><td>idle</td><td><a target=\"_blank\" href=\"http://iccluster044.iccluster.epfl.ch:8088/proxy/application_1589299642358_0181/\">Link</a></td><td><a target=\"_blank\" href=\"http://iccluster072.iccluster.epfl.ch:8042/node/containerlogs/container_e06_1589299642358_0181_01_000001/ebouille\">Link</a></td><td></td></tr><tr><td>5699</td><td>application_1589299642358_0186</td><td>pyspark</td><td>busy</td><td><a target=\"_blank\" href=\"http://iccluster044.iccluster.epfl.ch:8088/proxy/application_1589299642358_0186/\">Link</a></td><td><a target=\"_blank\" href=\"http://iccluster072.iccluster.epfl.ch:8042/node/containerlogs/container_e06_1589299642358_0186_01_000001/ebouille\">Link</a></td><td></td></tr><tr><td>5700</td><td>application_1589299642358_0187</td><td>pyspark</td><td>idle</td><td><a target=\"_blank\" href=\"http://iccluster044.iccluster.epfl.ch:8088/proxy/application_1589299642358_0187/\">Link</a></td><td><a target=\"_blank\" href=\"http://iccluster069.iccluster.epfl.ch:8042/node/containerlogs/container_e06_1589299642358_0187_01_000001/ebouille\">Link</a></td><td></td></tr><tr><td>5701</td><td>application_1589299642358_0188</td><td>pyspark</td><td>idle</td><td><a target=\"_blank\" href=\"http://iccluster044.iccluster.epfl.ch:8088/proxy/application_1589299642358_0188/\">Link</a></td><td><a target=\"_blank\" href=\"http://iccluster066.iccluster.epfl.ch:8042/node/containerlogs/container_e06_1589299642358_0188_01_000001/ebouille\">Link</a></td><td></td></tr><tr><td>5702</td><td>application_1589299642358_0189</td><td>pyspark</td><td>idle</td><td><a target=\"_blank\" href=\"http://iccluster044.iccluster.epfl.ch:8088/proxy/application_1589299642358_0189/\">Link</a></td><td><a target=\"_blank\" href=\"http://iccluster070.iccluster.epfl.ch:8042/node/containerlogs/container_e06_1589299642358_0189_01_000001/ebouille\">Link</a></td><td></td></tr><tr><td>5705</td><td>application_1589299642358_0192</td><td>pyspark</td><td>busy</td><td><a target=\"_blank\" href=\"http://iccluster044.iccluster.epfl.ch:8088/proxy/application_1589299642358_0192/\">Link</a></td><td><a target=\"_blank\" href=\"http://iccluster071.iccluster.epfl.ch:8042/node/containerlogs/container_e06_1589299642358_0192_01_000001/ebouille\">Link</a></td><td></td></tr><tr><td>5706</td><td>application_1589299642358_0193</td><td>pyspark</td><td>idle</td><td><a target=\"_blank\" href=\"http://iccluster044.iccluster.epfl.ch:8088/proxy/application_1589299642358_0193/\">Link</a></td><td><a target=\"_blank\" href=\"http://iccluster068.iccluster.epfl.ch:8042/node/containerlogs/container_e06_1589299642358_0193_01_000001/ebouille\">Link</a></td><td></td></tr></table>"
      ],
      "text/plain": [
       "<IPython.core.display.HTML object>"
      ]
     },
     "metadata": {},
     "output_type": "display_data"
    }
   ],
   "source": [
    "%%info"
   ]
  },
  {
   "cell_type": "code",
   "execution_count": 2,
   "metadata": {},
   "outputs": [
    {
     "data": {
      "text/html": [
       "Current session configs: <tt>{'conf': {'spark.app.name': 'lyan_homework_4', 'spark.jars.packages': 'org.apache.spark:spark-streaming-kafka-0-8_2.11:2.3.1,org.apache.kafka:kafka_2.11:1.0.1'}, 'kind': 'pyspark'}</tt><br>"
      ],
      "text/plain": [
       "<IPython.core.display.HTML object>"
      ]
     },
     "metadata": {},
     "output_type": "display_data"
    },
    {
     "data": {
      "text/html": [
       "<table>\n",
       "<tr><th>ID</th><th>YARN Application ID</th><th>Kind</th><th>State</th><th>Spark UI</th><th>Driver log</th><th>Current session?</th></tr><tr><td>5694</td><td>application_1589299642358_0181</td><td>pyspark</td><td>idle</td><td><a target=\"_blank\" href=\"http://iccluster044.iccluster.epfl.ch:8088/proxy/application_1589299642358_0181/\">Link</a></td><td><a target=\"_blank\" href=\"http://iccluster072.iccluster.epfl.ch:8042/node/containerlogs/container_e06_1589299642358_0181_01_000001/ebouille\">Link</a></td><td></td></tr><tr><td>5699</td><td>application_1589299642358_0186</td><td>pyspark</td><td>busy</td><td><a target=\"_blank\" href=\"http://iccluster044.iccluster.epfl.ch:8088/proxy/application_1589299642358_0186/\">Link</a></td><td><a target=\"_blank\" href=\"http://iccluster072.iccluster.epfl.ch:8042/node/containerlogs/container_e06_1589299642358_0186_01_000001/ebouille\">Link</a></td><td></td></tr><tr><td>5700</td><td>application_1589299642358_0187</td><td>pyspark</td><td>idle</td><td><a target=\"_blank\" href=\"http://iccluster044.iccluster.epfl.ch:8088/proxy/application_1589299642358_0187/\">Link</a></td><td><a target=\"_blank\" href=\"http://iccluster069.iccluster.epfl.ch:8042/node/containerlogs/container_e06_1589299642358_0187_01_000001/ebouille\">Link</a></td><td></td></tr><tr><td>5701</td><td>application_1589299642358_0188</td><td>pyspark</td><td>idle</td><td><a target=\"_blank\" href=\"http://iccluster044.iccluster.epfl.ch:8088/proxy/application_1589299642358_0188/\">Link</a></td><td><a target=\"_blank\" href=\"http://iccluster066.iccluster.epfl.ch:8042/node/containerlogs/container_e06_1589299642358_0188_01_000001/ebouille\">Link</a></td><td></td></tr><tr><td>5702</td><td>application_1589299642358_0189</td><td>pyspark</td><td>idle</td><td><a target=\"_blank\" href=\"http://iccluster044.iccluster.epfl.ch:8088/proxy/application_1589299642358_0189/\">Link</a></td><td><a target=\"_blank\" href=\"http://iccluster070.iccluster.epfl.ch:8042/node/containerlogs/container_e06_1589299642358_0189_01_000001/ebouille\">Link</a></td><td></td></tr><tr><td>5705</td><td>application_1589299642358_0192</td><td>pyspark</td><td>busy</td><td><a target=\"_blank\" href=\"http://iccluster044.iccluster.epfl.ch:8088/proxy/application_1589299642358_0192/\">Link</a></td><td><a target=\"_blank\" href=\"http://iccluster071.iccluster.epfl.ch:8042/node/containerlogs/container_e06_1589299642358_0192_01_000001/ebouille\">Link</a></td><td></td></tr><tr><td>5706</td><td>application_1589299642358_0193</td><td>pyspark</td><td>idle</td><td><a target=\"_blank\" href=\"http://iccluster044.iccluster.epfl.ch:8088/proxy/application_1589299642358_0193/\">Link</a></td><td><a target=\"_blank\" href=\"http://iccluster068.iccluster.epfl.ch:8042/node/containerlogs/container_e06_1589299642358_0193_01_000001/ebouille\">Link</a></td><td></td></tr></table>"
      ],
      "text/plain": [
       "<IPython.core.display.HTML object>"
      ]
     },
     "metadata": {},
     "output_type": "display_data"
    }
   ],
   "source": [
    "%%configure\n",
    "{\"conf\": {\n",
    "    \"spark.app.name\": \"lyan_homework_4\",\n",
    "    \"spark.jars.packages\": \"org.apache.spark:spark-streaming-kafka-0-8_2.11:2.3.1,org.apache.kafka:kafka_2.11:1.0.1\"\n",
    "}}"
   ]
  },
  {
   "cell_type": "markdown",
   "metadata": {},
   "source": [
    "Create a new session unless one was already created above (check for `✔` in current session)"
   ]
  },
  {
   "cell_type": "code",
   "execution_count": 3,
   "metadata": {},
   "outputs": [
    {
     "name": "stdout",
     "output_type": "stream",
     "text": [
      "Starting Spark application\n"
     ]
    },
    {
     "data": {
      "text/html": [
       "<table>\n",
       "<tr><th>ID</th><th>YARN Application ID</th><th>Kind</th><th>State</th><th>Spark UI</th><th>Driver log</th><th>Current session?</th></tr><tr><td>5707</td><td>application_1589299642358_0194</td><td>pyspark</td><td>idle</td><td><a target=\"_blank\" href=\"http://iccluster044.iccluster.epfl.ch:8088/proxy/application_1589299642358_0194/\">Link</a></td><td><a target=\"_blank\" href=\"http://iccluster072.iccluster.epfl.ch:8042/node/containerlogs/container_e06_1589299642358_0194_01_000001/ebouille\">Link</a></td><td>✔</td></tr></table>"
      ],
      "text/plain": [
       "<IPython.core.display.HTML object>"
      ]
     },
     "metadata": {},
     "output_type": "display_data"
    },
    {
     "data": {
      "application/vnd.jupyter.widget-view+json": {
       "model_id": "",
       "version_major": 2,
       "version_minor": 0
      },
      "text/plain": [
       "FloatProgress(value=0.0, bar_style='info', description='Progress:', layout=Layout(height='25px', width='50%'),…"
      ]
     },
     "metadata": {},
     "output_type": "display_data"
    },
    {
     "name": "stdout",
     "output_type": "stream",
     "text": [
      "SparkSession available as 'spark'.\n"
     ]
    },
    {
     "data": {
      "application/vnd.jupyter.widget-view+json": {
       "model_id": "",
       "version_major": 2,
       "version_minor": 0
      },
      "text/plain": [
       "FloatProgress(value=0.0, bar_style='info', description='Progress:', layout=Layout(height='25px', width='50%'),…"
      ]
     },
     "metadata": {},
     "output_type": "display_data"
    }
   ],
   "source": [
    "# Initialize spark application"
   ]
  },
  {
   "cell_type": "markdown",
   "metadata": {},
   "source": [
    "Set `username` to your GASPAR both locally and on the Spark driver."
   ]
  },
  {
   "cell_type": "code",
   "execution_count": 4,
   "metadata": {},
   "outputs": [],
   "source": [
    "%%local\n",
    "import os\n",
    "username = os.environ['JUPYTERHUB_USER']"
   ]
  },
  {
   "cell_type": "code",
   "execution_count": 5,
   "metadata": {},
   "outputs": [
    {
     "data": {
      "application/vnd.jupyter.widget-view+json": {
       "model_id": "",
       "version_major": 2,
       "version_minor": 0
      },
      "text/plain": [
       "FloatProgress(value=0.0, bar_style='info', description='Progress:', layout=Layout(height='25px', width='50%'),…"
      ]
     },
     "metadata": {},
     "output_type": "display_data"
    },
    {
     "name": "stdout",
     "output_type": "stream",
     "text": [
      "Successfully passed 'username' as 'username' to Spark kernel"
     ]
    }
   ],
   "source": [
    "%%send_to_spark -i username -t str -n username"
   ]
  },
  {
   "cell_type": "markdown",
   "metadata": {},
   "source": [
    "---"
   ]
  },
  {
   "cell_type": "markdown",
   "metadata": {},
   "source": [
    "## Create a Kafka client"
   ]
  },
  {
   "cell_type": "code",
   "execution_count": 6,
   "metadata": {
    "scrolled": true
   },
   "outputs": [
    {
     "data": {
      "application/vnd.jupyter.widget-view+json": {
       "model_id": "",
       "version_major": 2,
       "version_minor": 0
      },
      "text/plain": [
       "FloatProgress(value=0.0, bar_style='info', description='Progress:', layout=Layout(height='25px', width='50%'),…"
      ]
     },
     "metadata": {},
     "output_type": "display_data"
    }
   ],
   "source": [
    "from pykafka import KafkaClient\n",
    "from pykafka.common import OffsetType\n",
    "\n",
    "ZOOKEEPER_QUORUM = 'iccluster044.iccluster.epfl.ch:2181,'\\\n",
    "                   'iccluster054.iccluster.epfl.ch:2181,'\\\n",
    "                   'iccluster059.iccluster.epfl.ch:2181'\n",
    "\n",
    "client = KafkaClient(zookeeper_hosts=ZOOKEEPER_QUORUM)"
   ]
  },
  {
   "cell_type": "markdown",
   "metadata": {},
   "source": [
    "## Streams from Kafka"
   ]
  },
  {
   "cell_type": "code",
   "execution_count": 7,
   "metadata": {
    "scrolled": true
   },
   "outputs": [
    {
     "data": {
      "application/vnd.jupyter.widget-view+json": {
       "model_id": "",
       "version_major": 2,
       "version_minor": 0
      },
      "text/plain": [
       "FloatProgress(value=0.0, bar_style='info', description='Progress:', layout=Layout(height='25px', width='50%'),…"
      ]
     },
     "metadata": {},
     "output_type": "display_data"
    },
    {
     "name": "stdout",
     "output_type": "stream",
     "text": [
      "checkpoint created at hdfs:///user/lyan/checkpoint/"
     ]
    }
   ],
   "source": [
    "# Define the checkpoint folder\n",
    "checkpoint = 'hdfs:///user/{}/checkpoint/'.format(username)\n",
    "print('checkpoint created at hdfs:///user/{}/checkpoint/'.format(username))"
   ]
  },
  {
   "cell_type": "code",
   "execution_count": 8,
   "metadata": {
    "scrolled": true
   },
   "outputs": [
    {
     "data": {
      "application/vnd.jupyter.widget-view+json": {
       "model_id": "",
       "version_major": 2,
       "version_minor": 0
      },
      "text/plain": [
       "FloatProgress(value=0.0, bar_style='info', description='Progress:', layout=Layout(height='25px', width='50%'),…"
      ]
     },
     "metadata": {},
     "output_type": "display_data"
    }
   ],
   "source": [
    "from pyspark.streaming import StreamingContext\n",
    "from pyspark.streaming.kafka import KafkaUtils\n",
    "\n",
    "# Create a StreamingContext with two working thread and batch interval of 10 seconds.\n",
    "# Each time you stop a StreamingContext, you will need to recreate it.\n",
    "ssc = StreamingContext(sc, 10)\n",
    "ssc.checkpoint(checkpoint)\n",
    "\n",
    "group_id = 'ns-{0}'.format(username)\n",
    "\n",
    "# Input streams\n",
    "arrival_stream = KafkaUtils.createStream(ssc, ZOOKEEPER_QUORUM, group_id, { 'ndovloketnl-arrivals': 1})\n",
    "departure_stream = KafkaUtils.createStream(ssc, ZOOKEEPER_QUORUM, group_id, { 'ndovloketnl-departures': 1})"
   ]
  },
  {
   "cell_type": "markdown",
   "metadata": {},
   "source": [
    "For now, let's just print the content of the streams. Note: the output may be shown after you run `ssc.stop`."
   ]
  },
  {
   "cell_type": "code",
   "execution_count": 9,
   "metadata": {
    "scrolled": true
   },
   "outputs": [
    {
     "data": {
      "application/vnd.jupyter.widget-view+json": {
       "model_id": "",
       "version_major": 2,
       "version_minor": 0
      },
      "text/plain": [
       "FloatProgress(value=0.0, bar_style='info', description='Progress:', layout=Layout(height='25px', width='50%'),…"
      ]
     },
     "metadata": {},
     "output_type": "display_data"
    }
   ],
   "source": [
    "arrival_stream.pprint()\n",
    "departure_stream.pprint()\n",
    "\n",
    "ssc.start()\n",
    "ssc.awaitTermination(timeout=10)"
   ]
  },
  {
   "cell_type": "code",
   "execution_count": 10,
   "metadata": {
    "scrolled": true
   },
   "outputs": [
    {
     "data": {
      "application/vnd.jupyter.widget-view+json": {
       "model_id": "",
       "version_major": 2,
       "version_minor": 0
      },
      "text/plain": [
       "FloatProgress(value=0.0, bar_style='info', description='Progress:', layout=Layout(height='25px', width='50%'),…"
      ]
     },
     "metadata": {},
     "output_type": "display_data"
    },
    {
     "name": "stdout",
     "output_type": "stream",
     "text": [
      "-------------------------------------------\n",
      "Time: 2020-05-13 20:27:00\n",
      "-------------------------------------------\n",
      "(None, u'{\"ns1:PutReisInformatieBoodschapIn\": {\"@xmlns:ns1\": \"urn:ndov:cdm:trein:reisinformatie:messages:dynamischeaankomststaat:1\", \"@xmlns:ns2\": \"urn:ndov:cdm:trein:reisinformatie:data:4\", \"ns2:ReisInformatieProductDAS\": {\"@TimeStamp\": \"2020-05-13T17:56:25.129Z\", \"@Versie\": \"6.1\", \"ns2:RIPAdministratie\": {\"ns2:ReisInformatieProductID\": \"2005131956252300003\", \"ns2:AbonnementId\": \"55\", \"ns2:ReisInformatieTijdstip\": \"2020-05-13T17:57:00.000Z\"}, \"ns2:DynamischeAankomstStaat\": {\"ns2:RitId\": \"5075\", \"ns2:RitDatum\": \"2020-05-13\", \"ns2:RitStation\": {\"ns2:StationCode\": \"DTCP\", \"ns2:Type\": \"0\", \"ns2:KorteNaam\": \"Delft Camp\", \"ns2:MiddelNaam\": \"Delft Campus\", \"ns2:LangeNaam\": \"Delft Campus\", \"ns2:UICCode\": \"8400166\"}, \"ns2:TreinAankomst\": {\"ns2:TreinNummer\": \"5075\", \"ns2:TreinSoort\": {\"@Code\": \"SPR\", \"#text\": \"Sprinter\"}, \"ns2:TreinStatus\": \"2\", \"ns2:Vervoerder\": \"NS\", \"ns2:TreinHerkomst\": [{\"@InfoStatus\": \"Gepland\", \"ns2:StationCode\": \"GVC\", \"ns2:Type\": \"6\", \"ns2:KorteNaam\": \"Den Haag C\", \"ns2:MiddelNaam\": \"Den Haag C.\", \"ns2:LangeNaam\": \"Den Haag Centraal\", \"ns2:UICCode\": \"8400282\"}, {\"@InfoStatus\": \"Actueel\", \"ns2:StationCode\": \"GVC\", \"ns2:Type\": \"6\", \"ns2:KorteNaam\": \"Den Haag C\", \"ns2:MiddelNaam\": \"Den Haag C.\", \"ns2:LangeNaam\": \"Den Haag Centraal\", \"ns2:UICCode\": \"8400282\"}], \"ns2:PresentatieTreinHerkomst\": {\"ns2:Uitingen\": {\"ns2:Uiting\": \"Den Haag C.\"}}, \"ns2:AankomstTijd\": [{\"@InfoStatus\": \"Gepland\", \"#text\": \"2020-05-13T17:57:00.000Z\"}, {\"@InfoStatus\": \"Actueel\", \"#text\": \"2020-05-13T17:57:00.000Z\"}], \"ns2:ExacteAankomstVertraging\": \"PT0S\", \"ns2:GedempteAankomstVertraging\": \"PT0S\", \"ns2:TreinAankomstSpoor\": [{\"@InfoStatus\": \"Gepland\", \"ns2:SpoorNummer\": \"2\"}, {\"@InfoStatus\": \"Actueel\", \"ns2:SpoorNummer\": \"2\"}], \"ns2:PresentatieTreinAankomstSpoor\": {\"ns2:Uitingen\": {\"ns2:Uiting\": \"2\"}}, \"ns2:VerkorteRouteHerkomst\": [{\"@InfoStatus\": \"Gepland\", \"ns2:Station\": [{\"ns2:StationCode\": \"GV\", \"ns2:Type\": \"5\", \"ns2:KorteNaam\": \"Dn Haag HS\", \"ns2:MiddelNaam\": \"Den Haag HS\", \"ns2:LangeNaam\": \"Den Haag HS\", \"ns2:UICCode\": \"8400280\"}, {\"ns2:StationCode\": \"DT\", \"ns2:Type\": \"5\", \"ns2:KorteNaam\": \"Delft\", \"ns2:MiddelNaam\": \"Delft\", \"ns2:LangeNaam\": \"Delft\", \"ns2:UICCode\": \"8400170\"}]}, {\"@InfoStatus\": \"Actueel\", \"ns2:Station\": [{\"ns2:StationCode\": \"GV\", \"ns2:Type\": \"5\", \"ns2:KorteNaam\": \"Dn Haag HS\", \"ns2:MiddelNaam\": \"Den Haag HS\", \"ns2:LangeNaam\": \"Den Haag HS\", \"ns2:UICCode\": \"8400280\"}, {\"ns2:StationCode\": \"DT\", \"ns2:Type\": \"5\", \"ns2:KorteNaam\": \"Delft\", \"ns2:MiddelNaam\": \"Delft\", \"ns2:LangeNaam\": \"Delft\", \"ns2:UICCode\": \"8400170\"}]}], \"ns2:PresentatieVerkorteRouteHerkomst\": {\"ns2:Uitingen\": {\"ns2:Uiting\": \"Den Haag HS, Delft\"}}, \"ns2:WijzigingHerkomst\": {\"ns2:WijzigingType\": \"40\"}}}}}}')\n",
      "(None, u'{\"ns1:PutReisInformatieBoodschapIn\": {\"@xmlns:ns1\": \"urn:ndov:cdm:trein:reisinformatie:messages:dynamischeaankomststaat:1\", \"@xmlns:ns2\": \"urn:ndov:cdm:trein:reisinformatie:data:4\", \"ns2:ReisInformatieProductDAS\": {\"@TimeStamp\": \"2020-05-13T17:56:25.141Z\", \"@Versie\": \"6.1\", \"ns2:RIPAdministratie\": {\"ns2:ReisInformatieProductID\": \"2005131956252500002\", \"ns2:AbonnementId\": \"55\", \"ns2:ReisInformatieTijdstip\": \"2020-05-13T17:58:00.000Z\"}, \"ns2:DynamischeAankomstStaat\": {\"ns2:RitId\": \"15869\", \"ns2:RitDatum\": \"2020-05-13\", \"ns2:RitStation\": {\"ns2:StationCode\": \"AMF\", \"ns2:Type\": \"5\", \"ns2:KorteNaam\": \"Amersfrt C\", \"ns2:MiddelNaam\": \"Amersfoort C.\", \"ns2:LangeNaam\": \"Amersfoort Centraal\", \"ns2:UICCode\": \"8400055\"}, \"ns2:TreinAankomst\": {\"ns2:TreinNummer\": \"15869\", \"ns2:TreinSoort\": {\"@Code\": \"SPR\", \"#text\": \"Sprinter\"}, \"ns2:TreinStatus\": \"2\", \"ns2:Vervoerder\": \"NS\", \"ns2:TreinHerkomst\": [{\"@InfoStatus\": \"Gepland\", \"ns2:StationCode\": \"ASD\", \"ns2:Type\": \"6\", \"ns2:KorteNaam\": \"Amsterdm C\", \"ns2:MiddelNaam\": \"Amsterdam C.\", \"ns2:LangeNaam\": \"Amsterdam Centraal\", \"ns2:UICCode\": \"8400058\"}, {\"@InfoStatus\": \"Actueel\", \"ns2:StationCode\": \"ASD\", \"ns2:Type\": \"6\", \"ns2:KorteNaam\": \"Amsterdm C\", \"ns2:MiddelNaam\": \"Amsterdam C.\", \"ns2:LangeNaam\": \"Amsterdam Centraal\", \"ns2:UICCode\": \"8400058\"}], \"ns2:PresentatieTreinHerkomst\": {\"ns2:Uitingen\": {\"ns2:Uiting\": \"Amsterdam C.\"}}, \"ns2:AankomstTijd\": [{\"@InfoStatus\": \"Gepland\", \"#text\": \"2020-05-13T17:58:00.000Z\"}, {\"@InfoStatus\": \"Actueel\", \"#text\": \"2020-05-13T17:58:00.000Z\"}], \"ns2:ExacteAankomstVertraging\": \"PT0S\", \"ns2:GedempteAankomstVertraging\": \"PT0S\", \"ns2:TreinAankomstSpoor\": [{\"@InfoStatus\": \"Gepland\", \"ns2:SpoorNummer\": \"1\"}, {\"@InfoStatus\": \"Actueel\", \"ns2:SpoorNummer\": \"1\"}], \"ns2:PresentatieTreinAankomstSpoor\": {\"ns2:Uitingen\": {\"ns2:Uiting\": \"1\"}}, \"ns2:VerkorteRouteHerkomst\": [{\"@InfoStatus\": \"Gepland\", \"ns2:Station\": [{\"ns2:StationCode\": \"WP\", \"ns2:Type\": \"1\", \"ns2:KorteNaam\": \"Weesp\", \"ns2:MiddelNaam\": \"Weesp\", \"ns2:LangeNaam\": \"Weesp\", \"ns2:UICCode\": \"8400685\"}, {\"ns2:StationCode\": \"NDB\", \"ns2:Type\": \"1\", \"ns2:KorteNaam\": \"Naarden-Bu\", \"ns2:MiddelNaam\": \"Naarden-Bussum\", \"ns2:LangeNaam\": \"Naarden-Bussum\", \"ns2:UICCode\": \"8400452\"}, {\"ns2:StationCode\": \"HVS\", \"ns2:Type\": \"5\", \"ns2:KorteNaam\": \"Hilversum\", \"ns2:MiddelNaam\": \"Hilversum\", \"ns2:LangeNaam\": \"Hilversum\", \"ns2:UICCode\": \"8400322\"}, {\"ns2:StationCode\": \"BRN\", \"ns2:Type\": \"1\", \"ns2:KorteNaam\": \"Baarn\", \"ns2:MiddelNaam\": \"Baarn\", \"ns2:LangeNaam\": \"Baarn\", \"ns2:UICCode\": \"8400086\"}]}, {\"@InfoStatus\": \"Actueel\", \"ns2:Station\": [{\"ns2:StationCode\": \"WP\", \"ns2:Type\": \"1\", \"ns2:KorteNaam\": \"Weesp\", \"ns2:MiddelNaam\": \"Weesp\", \"ns2:LangeNaam\": \"Weesp\", \"ns2:UICCode\": \"8400685\"}, {\"ns2:StationCode\": \"NDB\", \"ns2:Type\": \"1\", \"ns2:KorteNaam\": \"Naarden-Bu\", \"ns2:MiddelNaam\": \"Naarden-Bussum\", \"ns2:LangeNaam\": \"Naarden-Bussum\", \"ns2:UICCode\": \"8400452\"}, {\"ns2:StationCode\": \"HVS\", \"ns2:Type\": \"5\", \"ns2:KorteNaam\": \"Hilversum\", \"ns2:MiddelNaam\": \"Hilversum\", \"ns2:LangeNaam\": \"Hilversum\", \"ns2:UICCode\": \"8400322\"}, {\"ns2:StationCode\": \"BRN\", \"ns2:Type\": \"1\", \"ns2:KorteNaam\": \"Baarn\", \"ns2:MiddelNaam\": \"Baarn\", \"ns2:LangeNaam\": \"Baarn\", \"ns2:UICCode\": \"8400086\"}]}], \"ns2:PresentatieVerkorteRouteHerkomst\": {\"ns2:Uitingen\": {\"ns2:Uiting\": \"Weesp, Naarden-Bussum, Hilversum, Baarn\"}}, \"ns2:WijzigingHerkomst\": {\"ns2:WijzigingType\": \"40\"}}}}}}')\n",
      "(None, u'{\"ns1:PutReisInformatieBoodschapIn\": {\"@xmlns:ns1\": \"urn:ndov:cdm:trein:reisinformatie:messages:dynamischeaankomststaat:1\", \"@xmlns:ns2\": \"urn:ndov:cdm:trein:reisinformatie:data:4\", \"ns2:ReisInformatieProductDAS\": {\"@TimeStamp\": \"2020-05-13T17:56:25.151Z\", \"@Versie\": \"6.1\", \"ns2:RIPAdministratie\": {\"ns2:ReisInformatieProductID\": \"2005131956252300005\", \"ns2:AbonnementId\": \"55\", \"ns2:ReisInformatieTijdstip\": \"2020-05-13T17:54:00.000Z\"}, \"ns2:DynamischeAankomstStaat\": {\"ns2:RitId\": \"2462\", \"ns2:RitDatum\": \"2020-05-13\", \"ns2:RitStation\": {\"ns2:StationCode\": \"ASDZ\", \"ns2:Type\": \"4\", \"ns2:KorteNaam\": \"Amsterdm Z\", \"ns2:MiddelNaam\": \"Amsterdam Z.\", \"ns2:LangeNaam\": \"Amsterdam Zuid\", \"ns2:UICCode\": \"8400061\"}, \"ns2:TreinAankomst\": {\"ns2:TreinNummer\": \"2462\", \"ns2:TreinSoort\": {\"@Code\": \"IC\", \"#text\": \"Intercity\"}, \"ns2:TreinStatus\": \"5\", \"ns2:Vervoerder\": \"NS\", \"ns2:TreinHerkomst\": [{\"@InfoStatus\": \"Gepland\", \"ns2:StationCode\": \"DDR\", \"ns2:Type\": \"5\", \"ns2:KorteNaam\": \"Dordrecht\", \"ns2:MiddelNaam\": \"Dordrecht\", \"ns2:LangeNaam\": \"Dordrecht\", \"ns2:UICCode\": \"8400180\"}, {\"@InfoStatus\": \"Actueel\", \"ns2:StationCode\": \"DDR\", \"ns2:Type\": \"5\", \"ns2:KorteNaam\": \"Dordrecht\", \"ns2:MiddelNaam\": \"Dordrecht\", \"ns2:LangeNaam\": \"Dordrecht\", \"ns2:UICCode\": \"8400180\"}], \"ns2:PresentatieTreinHerkomst\": {\"ns2:Uitingen\": {\"ns2:Uiting\": \"Dordrecht\"}}, \"ns2:AankomstTijd\": [{\"@InfoStatus\": \"Gepland\", \"#text\": \"2020-05-13T17:54:00.000Z\"}, {\"@InfoStatus\": \"Actueel\", \"#text\": \"2020-05-13T17:54:00.000Z\"}], \"ns2:ExacteAankomstVertraging\": \"PT0S\", \"ns2:GedempteAankomstVertraging\": \"PT0S\", \"ns2:TreinAankomstSpoor\": [{\"@InfoStatus\": \"Gepland\", \"ns2:SpoorNummer\": \"1\"}, {\"@InfoStatus\": \"Actueel\", \"ns2:SpoorNummer\": \"1\"}], \"ns2:PresentatieTreinAankomstSpoor\": {\"ns2:Uitingen\": {\"ns2:Uiting\": \"1\"}}, \"ns2:VerkorteRouteHerkomst\": [{\"@InfoStatus\": \"Gepland\", \"ns2:Station\": [{\"ns2:StationCode\": \"RTD\", \"ns2:Type\": \"6\", \"ns2:KorteNaam\": \"Rotterdm C\", \"ns2:MiddelNaam\": \"Rotterdam C.\", \"ns2:LangeNaam\": \"Rotterdam Centraal\", \"ns2:UICCode\": \"8400530\"}, {\"ns2:StationCode\": \"GV\", \"ns2:Type\": \"5\", \"ns2:KorteNaam\": \"Dn Haag HS\", \"ns2:MiddelNaam\": \"Den Haag HS\", \"ns2:LangeNaam\": \"Den Haag HS\", \"ns2:UICCode\": \"8400280\"}, {\"ns2:StationCode\": \"LEDN\", \"ns2:Type\": \"5\", \"ns2:KorteNaam\": \"Leiden C\", \"ns2:MiddelNaam\": \"Leiden C.\", \"ns2:LangeNaam\": \"Leiden Centraal\", \"ns2:UICCode\": \"8400390\"}, {\"ns2:StationCode\": \"SHL\", \"ns2:Type\": \"6\", \"ns2:KorteNaam\": \"Schiphol\", \"ns2:MiddelNaam\": \"Schiphol Airport\", \"ns2:LangeNaam\": \"Schiphol Airport\", \"ns2:UICCode\": \"8400561\"}]}, {\"@InfoStatus\": \"Actueel\", \"ns2:Station\": [{\"ns2:StationCode\": \"RTD\", \"ns2:Type\": \"6\", \"ns2:KorteNaam\": \"Rotterdm C\", \"ns2:MiddelNaam\": \"Rotterdam C.\", \"ns2:LangeNaam\": \"Rotterdam Centraal\", \"ns2:UICCode\": \"8400530\"}, {\"ns2:StationCode\": \"GV\", \"ns2:Type\": \"5\", \"ns2:KorteNaam\": \"Dn Haag HS\", \"ns2:MiddelNaam\": \"Den Haag HS\", \"ns2:LangeNaam\": \"Den Haag HS\", \"ns2:UICCode\": \"8400280\"}, {\"ns2:StationCode\": \"LEDN\", \"ns2:Type\": \"5\", \"ns2:KorteNaam\": \"Leiden C\", \"ns2:MiddelNaam\": \"Leiden C.\", \"ns2:LangeNaam\": \"Leiden Centraal\", \"ns2:UICCode\": \"8400390\"}, {\"ns2:StationCode\": \"SHL\", \"ns2:Type\": \"6\", \"ns2:KorteNaam\": \"Schiphol\", \"ns2:MiddelNaam\": \"Schiphol Airport\", \"ns2:LangeNaam\": \"Schiphol Airport\", \"ns2:UICCode\": \"8400561\"}]}], \"ns2:PresentatieVerkorteRouteHerkomst\": {\"ns2:Uitingen\": {\"ns2:Uiting\": \"Rotterdam C., Den Haag HS, Leiden C., Schiphol Airport\"}}, \"ns2:WijzigingHerkomst\": {\"ns2:WijzigingType\": \"40\"}}}}}}')\n",
      "(None, u'{\"ns1:PutReisInformatieBoodschapIn\": {\"@xmlns:ns1\": \"urn:ndov:cdm:trein:reisinformatie:messages:dynamischeaankomststaat:1\", \"@xmlns:ns2\": \"urn:ndov:cdm:trein:reisinformatie:data:4\", \"ns2:ReisInformatieProductDAS\": {\"@TimeStamp\": \"2020-05-13T17:56:20.360Z\", \"@Versie\": \"6.1\", \"ns2:RIPAdministratie\": {\"ns2:ReisInformatieProductID\": \"2005131956202100009\", \"ns2:AbonnementId\": \"55\", \"ns2:ReisInformatieTijdstip\": \"2020-05-13T17:56:00.000Z\"}, \"ns2:DynamischeAankomstStaat\": {\"ns2:RitId\": \"4875\", \"ns2:RitDatum\": \"2020-05-13\", \"ns2:RitStation\": {\"ns2:StationCode\": \"HLMS\", \"ns2:Type\": \"0\", \"ns2:KorteNaam\": \"Spaarnwde\", \"ns2:MiddelNaam\": \"Spaarnwoude\", \"ns2:LangeNaam\": \"Haarlem Spaarnwoude\", \"ns2:UICCode\": \"8400270\"}, \"ns2:TreinAankomst\": {\"ns2:TreinNummer\": \"4875\", \"ns2:TreinSoort\": {\"@Code\": \"SPR\", \"#text\": \"Sprinter\"}, \"ns2:TreinStatus\": \"5\", \"ns2:Vervoerder\": \"NS\", \"ns2:TreinHerkomst\": [{\"@InfoStatus\": \"Gepland\", \"ns2:StationCode\": \"ASD\", \"ns2:Type\": \"6\", \"ns2:KorteNaam\": \"Amsterdm C\", \"ns2:MiddelNaam\": \"Amsterdam C.\", \"ns2:LangeNaam\": \"Amsterdam Centraal\", \"ns2:UICCode\": \"8400058\"}, {\"@InfoStatus\": \"Actueel\", \"ns2:StationCode\": \"ASD\", \"ns2:Type\": \"6\", \"ns2:KorteNaam\": \"Amsterdm C\", \"ns2:MiddelNaam\": \"Amsterdam C.\", \"ns2:LangeNaam\": \"Amsterdam Centraal\", \"ns2:UICCode\": \"8400058\"}], \"ns2:PresentatieTreinHerkomst\": {\"ns2:Uitingen\": {\"ns2:Uiting\": \"Amsterdam C.\"}}, \"ns2:AankomstTijd\": [{\"@InfoStatus\": \"Gepland\", \"#text\": \"2020-05-13T17:56:00.000Z\"}, {\"@InfoStatus\": \"Actueel\", \"#text\": \"2020-05-13T17:56:00.000Z\"}], \"ns2:ExacteAankomstVertraging\": \"PT0S\", \"ns2:GedempteAankomstVertraging\": \"PT0S\", \"ns2:TreinAankomstSpoor\": [{\"@InfoStatus\": \"Gepland\", \"ns2:SpoorNummer\": \"2\"}, {\"@InfoStatus\": \"Actueel\", \"ns2:SpoorNummer\": \"2\"}], \"ns2:PresentatieTreinAankomstSpoor\": {\"ns2:Uitingen\": {\"ns2:Uiting\": \"2\"}}, \"ns2:VerkorteRouteHerkomst\": [{\"@InfoStatus\": \"Gepland\", \"ns2:Station\": {\"ns2:StationCode\": \"ASS\", \"ns2:Type\": \"5\", \"ns2:KorteNaam\": \"Sloterdijk\", \"ns2:MiddelNaam\": \"Sloterdijk\", \"ns2:LangeNaam\": \"Amsterdam Sloterdijk\", \"ns2:UICCode\": \"8400059\"}}, {\"@InfoStatus\": \"Actueel\", \"ns2:Station\": {\"ns2:StationCode\": \"ASS\", \"ns2:Type\": \"5\", \"ns2:KorteNaam\": \"Sloterdijk\", \"ns2:MiddelNaam\": \"Sloterdijk\", \"ns2:LangeNaam\": \"Amsterdam Sloterdijk\", \"ns2:UICCode\": \"8400059\"}}], \"ns2:PresentatieVerkorteRouteHerkomst\": {\"ns2:Uitingen\": {\"ns2:Uiting\": \"Sloterdijk\"}}, \"ns2:WijzigingHerkomst\": {\"ns2:WijzigingType\": \"40\"}}}}}}')\n",
      "(None, u'{\"ns1:PutReisInformatieBoodschapIn\": {\"@xmlns:ns1\": \"urn:ndov:cdm:trein:reisinformatie:messages:dynamischeaankomststaat:1\", \"@xmlns:ns2\": \"urn:ndov:cdm:trein:reisinformatie:data:4\", \"ns2:ReisInformatieProductDAS\": {\"@TimeStamp\": \"2020-05-13T17:56:27.145Z\", \"@Versie\": \"6.1\", \"ns2:RIPAdministratie\": {\"ns2:ReisInformatieProductID\": \"2005131956272300002\", \"ns2:AbonnementId\": \"55\", \"ns2:ReisInformatieTijdstip\": \"2020-05-13T17:58:00.000Z\"}, \"ns2:DynamischeAankomstStaat\": {\"ns2:RitId\": \"2475\", \"ns2:RitDatum\": \"2020-05-13\", \"ns2:RitStation\": {\"ns2:StationCode\": \"SDM\", \"ns2:Type\": \"0\", \"ns2:KorteNaam\": \"Schiedam C\", \"ns2:MiddelNaam\": \"Schiedam C.\", \"ns2:LangeNaam\": \"Schiedam Centrum\", \"ns2:UICCode\": \"8400553\"}, \"ns2:TreinAankomst\": {\"ns2:TreinNummer\": \"2475\", \"ns2:TreinSoort\": {\"@Code\": \"IC\", \"#text\": \"Intercity\"}, \"ns2:TreinStatus\": \"2\", \"ns2:Vervoerder\": \"NS\", \"ns2:TreinHerkomst\": [{\"@InfoStatus\": \"Gepland\", \"ns2:StationCode\": \"LLS\", \"ns2:Type\": \"5\", \"ns2:KorteNaam\": \"Lelystad C\", \"ns2:MiddelNaam\": \"Lelystad C.\", \"ns2:LangeNaam\": \"Lelystad Centrum\", \"ns2:UICCode\": \"8400394\"}, {\"@InfoStatus\": \"Actueel\", \"ns2:StationCode\": \"LLS\", \"ns2:Type\": \"5\", \"ns2:KorteNaam\": \"Lelystad C\", \"ns2:MiddelNaam\": \"Lelystad C.\", \"ns2:LangeNaam\": \"Lelystad Centrum\", \"ns2:UICCode\": \"8400394\"}], \"ns2:PresentatieTreinHerkomst\": {\"ns2:Uitingen\": {\"ns2:Uiting\": \"Lelystad C.\"}}, \"ns2:AankomstTijd\": [{\"@InfoStatus\": \"Gepland\", \"#text\": \"2020-05-13T17:58:00.000Z\"}, {\"@InfoStatus\": \"Actueel\", \"#text\": \"2020-05-13T17:58:00.000Z\"}], \"ns2:ExacteAankomstVertraging\": \"PT0S\", \"ns2:GedempteAankomstVertraging\": \"PT0S\", \"ns2:TreinAankomstSpoor\": [{\"@InfoStatus\": \"Gepland\", \"ns2:SpoorNummer\": \"3\"}, {\"@InfoStatus\": \"Actueel\", \"ns2:SpoorNummer\": \"3\"}], \"ns2:PresentatieTreinAankomstSpoor\": {\"ns2:Uitingen\": {\"ns2:Uiting\": \"3\"}}, \"ns2:VerkorteRouteHerkomst\": [{\"@InfoStatus\": \"Gepland\", \"ns2:Station\": [{\"ns2:StationCode\": \"SHL\", \"ns2:Type\": \"6\", \"ns2:KorteNaam\": \"Schiphol\", \"ns2:MiddelNaam\": \"Schiphol Airport\", \"ns2:LangeNaam\": \"Schiphol Airport\", \"ns2:UICCode\": \"8400561\"}, {\"ns2:StationCode\": \"LEDN\", \"ns2:Type\": \"5\", \"ns2:KorteNaam\": \"Leiden C\", \"ns2:MiddelNaam\": \"Leiden C.\", \"ns2:LangeNaam\": \"Leiden Centraal\", \"ns2:UICCode\": \"8400390\"}, {\"ns2:StationCode\": \"GV\", \"ns2:Type\": \"5\", \"ns2:KorteNaam\": \"Dn Haag HS\", \"ns2:MiddelNaam\": \"Den Haag HS\", \"ns2:LangeNaam\": \"Den Haag HS\", \"ns2:UICCode\": \"8400280\"}, {\"ns2:StationCode\": \"DT\", \"ns2:Type\": \"5\", \"ns2:KorteNaam\": \"Delft\", \"ns2:MiddelNaam\": \"Delft\", \"ns2:LangeNaam\": \"Delft\", \"ns2:UICCode\": \"8400170\"}]}, {\"@InfoStatus\": \"Actueel\", \"ns2:Station\": [{\"ns2:StationCode\": \"SHL\", \"ns2:Type\": \"6\", \"ns2:KorteNaam\": \"Schiphol\", \"ns2:MiddelNaam\": \"Schiphol Airport\", \"ns2:LangeNaam\": \"Schiphol Airport\", \"ns2:UICCode\": \"8400561\"}, {\"ns2:StationCode\": \"LEDN\", \"ns2:Type\": \"5\", \"ns2:KorteNaam\": \"Leiden C\", \"ns2:MiddelNaam\": \"Leiden C.\", \"ns2:LangeNaam\": \"Leiden Centraal\", \"ns2:UICCode\": \"8400390\"}, {\"ns2:StationCode\": \"GV\", \"ns2:Type\": \"5\", \"ns2:KorteNaam\": \"Dn Haag HS\", \"ns2:MiddelNaam\": \"Den Haag HS\", \"ns2:LangeNaam\": \"Den Haag HS\", \"ns2:UICCode\": \"8400280\"}, {\"ns2:StationCode\": \"DT\", \"ns2:Type\": \"5\", \"ns2:KorteNaam\": \"Delft\", \"ns2:MiddelNaam\": \"Delft\", \"ns2:LangeNaam\": \"Delft\", \"ns2:UICCode\": \"8400170\"}]}], \"ns2:PresentatieVerkorteRouteHerkomst\": {\"ns2:Uitingen\": {\"ns2:Uiting\": \"Schiphol Airport, Leiden C., Den Haag HS, Delft\"}}, \"ns2:WijzigingHerkomst\": {\"ns2:WijzigingType\": \"40\"}}}}}}')\n",
      "(None, u'{\"ns1:PutReisInformatieBoodschapIn\": {\"@xmlns:ns1\": \"urn:ndov:cdm:trein:reisinformatie:messages:dynamischeaankomststaat:1\", \"@xmlns:ns2\": \"urn:ndov:cdm:trein:reisinformatie:data:4\", \"ns2:ReisInformatieProductDAS\": {\"@TimeStamp\": \"2020-05-13T17:56:28.202Z\", \"@Versie\": \"6.1\", \"ns2:RIPAdministratie\": {\"ns2:ReisInformatieProductID\": \"2005131956282100003\", \"ns2:AbonnementId\": \"55\", \"ns2:ReisInformatieTijdstip\": \"2020-05-13T17:57:00.000Z\"}, \"ns2:DynamischeAankomstStaat\": {\"ns2:RitId\": \"5272\", \"ns2:RitDatum\": \"2020-05-13\", \"ns2:RitStation\": {\"ns2:StationCode\": \"TBU\", \"ns2:Type\": \"0\", \"ns2:KorteNaam\": \"Tilburg Un\", \"ns2:MiddelNaam\": \"Tilburg Uni.\", \"ns2:LangeNaam\": \"Tilburg Universiteit\", \"ns2:UICCode\": \"8400594\"}, \"ns2:TreinAankomst\": {\"ns2:TreinNummer\": \"5272\", \"ns2:TreinSoort\": {\"@Code\": \"SPR\", \"#text\": \"Sprinter\"}, \"ns2:TreinStatus\": \"2\", \"ns2:Vervoerder\": \"NS\", \"ns2:TreinHerkomst\": [{\"@InfoStatus\": \"Gepland\", \"ns2:StationCode\": \"WT\", \"ns2:Type\": \"4\", \"ns2:KorteNaam\": \"Weert\", \"ns2:MiddelNaam\": \"Weert\", \"ns2:LangeNaam\": \"Weert\", \"ns2:UICCode\": \"8400684\"}, {\"@InfoStatus\": \"Actueel\", \"ns2:StationCode\": \"WT\", \"ns2:Type\": \"4\", \"ns2:KorteNaam\": \"Weert\", \"ns2:MiddelNaam\": \"Weert\", \"ns2:LangeNaam\": \"Weert\", \"ns2:UICCode\": \"8400684\"}], \"ns2:PresentatieTreinHerkomst\": {\"ns2:Uitingen\": {\"ns2:Uiting\": \"Weert\"}}, \"ns2:AankomstTijd\": [{\"@InfoStatus\": \"Gepland\", \"#text\": \"2020-05-13T17:57:00.000Z\"}, {\"@InfoStatus\": \"Actueel\", \"#text\": \"2020-05-13T17:57:00.000Z\"}], \"ns2:ExacteAankomstVertraging\": \"PT0S\", \"ns2:GedempteAankomstVertraging\": \"PT0S\", \"ns2:TreinAankomstSpoor\": [{\"@InfoStatus\": \"Gepland\", \"ns2:SpoorNummer\": \"3\"}, {\"@InfoStatus\": \"Actueel\", \"ns2:SpoorNummer\": \"3\"}], \"ns2:PresentatieTreinAankomstSpoor\": {\"ns2:Uitingen\": {\"ns2:Uiting\": \"3\"}}, \"ns2:VerkorteRouteHerkomst\": [{\"@InfoStatus\": \"Gepland\", \"ns2:Station\": [{\"ns2:StationCode\": \"GP\", \"ns2:Type\": \"1\", \"ns2:KorteNaam\": \"Geldrop\", \"ns2:MiddelNaam\": \"Geldrop\", \"ns2:LangeNaam\": \"Geldrop\", \"ns2:UICCode\": \"8400245\"}, {\"ns2:StationCode\": \"EHV\", \"ns2:Type\": \"6\", \"ns2:KorteNaam\": \"Eindhovn C\", \"ns2:MiddelNaam\": \"Eindhoven C.\", \"ns2:LangeNaam\": \"Eindhoven Centraal\", \"ns2:UICCode\": \"8400206\"}, {\"ns2:StationCode\": \"BTL\", \"ns2:Type\": \"1\", \"ns2:KorteNaam\": \"Boxtel\", \"ns2:MiddelNaam\": \"Boxtel\", \"ns2:LangeNaam\": \"Boxtel\", \"ns2:UICCode\": \"8400129\"}, {\"ns2:StationCode\": \"TB\", \"ns2:Type\": \"5\", \"ns2:KorteNaam\": \"Tilburg\", \"ns2:MiddelNaam\": \"Tilburg\", \"ns2:LangeNaam\": \"Tilburg\", \"ns2:UICCode\": \"8400597\"}]}, {\"@InfoStatus\": \"Actueel\", \"ns2:Station\": [{\"ns2:StationCode\": \"GP\", \"ns2:Type\": \"1\", \"ns2:KorteNaam\": \"Geldrop\", \"ns2:MiddelNaam\": \"Geldrop\", \"ns2:LangeNaam\": \"Geldrop\", \"ns2:UICCode\": \"8400245\"}, {\"ns2:StationCode\": \"EHV\", \"ns2:Type\": \"6\", \"ns2:KorteNaam\": \"Eindhovn C\", \"ns2:MiddelNaam\": \"Eindhoven C.\", \"ns2:LangeNaam\": \"Eindhoven Centraal\", \"ns2:UICCode\": \"8400206\"}, {\"ns2:StationCode\": \"BTL\", \"ns2:Type\": \"1\", \"ns2:KorteNaam\": \"Boxtel\", \"ns2:MiddelNaam\": \"Boxtel\", \"ns2:LangeNaam\": \"Boxtel\", \"ns2:UICCode\": \"8400129\"}, {\"ns2:StationCode\": \"TB\", \"ns2:Type\": \"5\", \"ns2:KorteNaam\": \"Tilburg\", \"ns2:MiddelNaam\": \"Tilburg\", \"ns2:LangeNaam\": \"Tilburg\", \"ns2:UICCode\": \"8400597\"}]}], \"ns2:PresentatieVerkorteRouteHerkomst\": {\"ns2:Uitingen\": {\"ns2:Uiting\": \"Geldrop, Eindhoven C., Boxtel, Tilburg\"}}, \"ns2:WijzigingHerkomst\": {\"ns2:WijzigingType\": \"40\"}}}}}}')\n",
      "(None, u'{\"ns1:PutReisInformatieBoodschapIn\": {\"@xmlns:ns1\": \"urn:ndov:cdm:trein:reisinformatie:messages:dynamischeaankomststaat:1\", \"@xmlns:ns2\": \"urn:ndov:cdm:trein:reisinformatie:data:4\", \"ns2:ReisInformatieProductDAS\": {\"@TimeStamp\": \"2020-05-13T17:56:30.078Z\", \"@Versie\": \"6.1\", \"ns2:RIPAdministratie\": {\"ns2:ReisInformatieProductID\": \"2005131956302100002\", \"ns2:AbonnementId\": \"55\", \"ns2:ReisInformatieTijdstip\": \"2020-05-13T17:56:00.000Z\"}, \"ns2:DynamischeAankomstStaat\": {\"ns2:RitId\": \"9074\", \"ns2:RitDatum\": \"2020-05-13\", \"ns2:RitStation\": {\"ns2:StationCode\": \"HR\", \"ns2:Type\": \"4\", \"ns2:KorteNaam\": \"Heerenveen\", \"ns2:MiddelNaam\": \"Heerenveen\", \"ns2:LangeNaam\": \"Heerenveen\", \"ns2:UICCode\": \"8400305\"}, \"ns2:TreinAankomst\": {\"ns2:TreinNummer\": \"9074\", \"ns2:TreinSoort\": {\"@Code\": \"SPR\", \"#text\": \"Sprinter\"}, \"ns2:TreinStatus\": \"2\", \"ns2:Vervoerder\": \"NS\", \"ns2:TreinHerkomst\": [{\"@InfoStatus\": \"Gepland\", \"ns2:StationCode\": \"LW\", \"ns2:Type\": \"5\", \"ns2:KorteNaam\": \"Leeuwarden\", \"ns2:MiddelNaam\": \"Leeuwarden\", \"ns2:LangeNaam\": \"Leeuwarden\", \"ns2:UICCode\": \"8400387\"}, {\"@InfoStatus\": \"Actueel\", \"ns2:StationCode\": \"LW\", \"ns2:Type\": \"5\", \"ns2:KorteNaam\": \"Leeuwarden\", \"ns2:MiddelNaam\": \"Leeuwarden\", \"ns2:LangeNaam\": \"Leeuwarden\", \"ns2:UICCode\": \"8400387\"}], \"ns2:PresentatieTreinHerkomst\": {\"ns2:Uitingen\": {\"ns2:Uiting\": \"Leeuwarden\"}}, \"ns2:AankomstTijd\": [{\"@InfoStatus\": \"Gepland\", \"#text\": \"2020-05-13T17:56:00.000Z\"}, {\"@InfoStatus\": \"Actueel\", \"#text\": \"2020-05-13T17:57:02.000Z\"}], \"ns2:ExacteAankomstVertraging\": \"PT1M2S\", \"ns2:PresentatieAankomstVertraging\": {\"ns2:Uitingen\": {\"ns2:Uiting\": \"+1 min.\"}}, \"ns2:GedempteAankomstVertraging\": \"PT0S\", \"ns2:TreinAankomstSpoor\": [{\"@InfoStatus\": \"Gepland\", \"ns2:SpoorNummer\": \"3\"}, {\"@InfoStatus\": \"Actueel\", \"ns2:SpoorNummer\": \"3\"}], \"ns2:PresentatieTreinAankomstSpoor\": {\"ns2:Uitingen\": {\"ns2:Uiting\": \"3\"}}, \"ns2:WijzigingHerkomst\": [{\"ns2:WijzigingType\": \"11\"}, {\"ns2:WijzigingType\": \"40\"}]}}}}}')\n",
      "(None, u'{\"ns1:PutReisInformatieBoodschapIn\": {\"@xmlns:ns1\": \"urn:ndov:cdm:trein:reisinformatie:messages:dynamischeaankomststaat:1\", \"@xmlns:ns2\": \"urn:ndov:cdm:trein:reisinformatie:data:4\", \"ns2:ReisInformatieProductDAS\": {\"@TimeStamp\": \"2020-05-13T17:56:30.027Z\", \"@Versie\": \"6.1\", \"ns2:RIPAdministratie\": {\"ns2:ReisInformatieProductID\": \"2005131956302100000\", \"ns2:AbonnementId\": \"55\", \"ns2:ReisInformatieTijdstip\": \"2020-05-13T17:55:00.000Z\"}, \"ns2:DynamischeAankomstStaat\": {\"ns2:RitId\": \"5970\", \"ns2:RitDatum\": \"2020-05-13\", \"ns2:RitStation\": {\"ns2:StationCode\": \"ZLW\", \"ns2:Type\": \"1\", \"ns2:KorteNaam\": \"Lage Zwalu\", \"ns2:MiddelNaam\": \"Lage Zwaluwe\", \"ns2:LangeNaam\": \"Lage Zwaluwe\", \"ns2:UICCode\": \"8400382\"}, \"ns2:TreinAankomst\": {\"ns2:TreinNummer\": \"5970\", \"ns2:TreinSoort\": {\"@Code\": \"SPR\", \"#text\": \"Sprinter\"}, \"ns2:TreinStatus\": \"2\", \"ns2:Vervoerder\": \"NS\", \"ns2:TreinHerkomst\": [{\"@InfoStatus\": \"Gepland\", \"ns2:StationCode\": \"RSD\", \"ns2:Type\": \"5\", \"ns2:KorteNaam\": \"Roosendaal\", \"ns2:MiddelNaam\": \"Roosendaal\", \"ns2:LangeNaam\": \"Roosendaal\", \"ns2:UICCode\": \"8400526\"}, {\"@InfoStatus\": \"Actueel\", \"ns2:StationCode\": \"RSD\", \"ns2:Type\": \"5\", \"ns2:KorteNaam\": \"Roosendaal\", \"ns2:MiddelNaam\": \"Roosendaal\", \"ns2:LangeNaam\": \"Roosendaal\", \"ns2:UICCode\": \"8400526\"}], \"ns2:PresentatieTreinHerkomst\": {\"ns2:Uitingen\": {\"ns2:Uiting\": \"Roosendaal\"}}, \"ns2:AankomstTijd\": [{\"@InfoStatus\": \"Gepland\", \"#text\": \"2020-05-13T17:55:00.000Z\"}, {\"@InfoStatus\": \"Actueel\", \"#text\": \"2020-05-13T17:57:11.000Z\"}], \"ns2:ExacteAankomstVertraging\": \"PT2M11S\", \"ns2:PresentatieAankomstVertraging\": {\"ns2:Uitingen\": {\"ns2:Uiting\": \"+2 min.\"}}, \"ns2:GedempteAankomstVertraging\": \"PT0S\", \"ns2:TreinAankomstSpoor\": [{\"@InfoStatus\": \"Gepland\", \"ns2:SpoorNummer\": \"2\"}, {\"@InfoStatus\": \"Actueel\", \"ns2:SpoorNummer\": \"2\"}], \"ns2:PresentatieTreinAankomstSpoor\": {\"ns2:Uitingen\": {\"ns2:Uiting\": \"2\"}}, \"ns2:WijzigingHerkomst\": [{\"ns2:WijzigingType\": \"11\"}, {\"ns2:WijzigingType\": \"40\"}]}}}}}')\n",
      "(None, u'{\"ns1:PutReisInformatieBoodschapIn\": {\"@xmlns:ns1\": \"urn:ndov:cdm:trein:reisinformatie:messages:dynamischeaankomststaat:1\", \"@xmlns:ns2\": \"urn:ndov:cdm:trein:reisinformatie:data:4\", \"ns2:ReisInformatieProductDAS\": {\"@TimeStamp\": \"2020-05-13T17:56:30.043Z\", \"@Versie\": \"6.1\", \"ns2:RIPAdministratie\": {\"ns2:ReisInformatieProductID\": \"2005131956302500001\", \"ns2:AbonnementId\": \"55\", \"ns2:ReisInformatieTijdstip\": \"2020-05-13T17:58:00.000Z\"}, \"ns2:DynamischeAankomstStaat\": {\"ns2:RitId\": \"4075\", \"ns2:RitDatum\": \"2020-05-13\", \"ns2:RitStation\": {\"ns2:StationCode\": \"ASA\", \"ns2:Type\": \"4\", \"ns2:KorteNaam\": \"Amstel\", \"ns2:MiddelNaam\": \"Amstel\", \"ns2:LangeNaam\": \"Amsterdam Amstel\", \"ns2:UICCode\": \"8400057\"}, \"ns2:TreinAankomst\": {\"ns2:TreinNummer\": \"4075\", \"ns2:TreinSoort\": {\"@Code\": \"SPR\", \"#text\": \"Sprinter\"}, \"ns2:TreinStatus\": \"2\", \"ns2:Vervoerder\": \"NS\", \"ns2:TreinHerkomst\": [{\"@InfoStatus\": \"Gepland\", \"ns2:StationCode\": \"UTG\", \"ns2:Type\": \"1\", \"ns2:KorteNaam\": \"Uitgeest\", \"ns2:MiddelNaam\": \"Uitgeest\", \"ns2:LangeNaam\": \"Uitgeest\", \"ns2:UICCode\": \"8400615\"}, {\"@InfoStatus\": \"Actueel\", \"ns2:StationCode\": \"UTG\", \"ns2:Type\": \"1\", \"ns2:KorteNaam\": \"Uitgeest\", \"ns2:MiddelNaam\": \"Uitgeest\", \"ns2:LangeNaam\": \"Uitgeest\", \"ns2:UICCode\": \"8400615\"}], \"ns2:PresentatieTreinHerkomst\": {\"ns2:Uitingen\": {\"ns2:Uiting\": \"Uitgeest\"}}, \"ns2:AankomstTijd\": [{\"@InfoStatus\": \"Gepland\", \"#text\": \"2020-05-13T17:58:00.000Z\"}, {\"@InfoStatus\": \"Actueel\", \"#text\": \"2020-05-13T17:58:00.000Z\"}], \"ns2:ExacteAankomstVertraging\": \"PT0S\", \"ns2:GedempteAankomstVertraging\": \"PT0S\", \"ns2:TreinAankomstSpoor\": [{\"@InfoStatus\": \"Gepland\", \"ns2:SpoorNummer\": \"4\"}, {\"@InfoStatus\": \"Actueel\", \"ns2:SpoorNummer\": \"4\"}], \"ns2:PresentatieTreinAankomstSpoor\": {\"ns2:Uitingen\": {\"ns2:Uiting\": \"4\"}}, \"ns2:VerkorteRouteHerkomst\": [{\"@InfoStatus\": \"Gepland\", \"ns2:Station\": [{\"ns2:StationCode\": \"ZZS\", \"ns2:Type\": \"1\", \"ns2:KorteNaam\": \"Zaanse S.\", \"ns2:MiddelNaam\": \"Zaanse Schans\", \"ns2:LangeNaam\": \"Zaandijk Zaanse Schans\", \"ns2:UICCode\": \"8400364\"}, {\"ns2:StationCode\": \"ZD\", \"ns2:Type\": \"5\", \"ns2:KorteNaam\": \"Zaandam\", \"ns2:MiddelNaam\": \"Zaandam\", \"ns2:LangeNaam\": \"Zaandam\", \"ns2:UICCode\": \"8400731\"}, {\"ns2:StationCode\": \"ASS\", \"ns2:Type\": \"5\", \"ns2:KorteNaam\": \"Sloterdijk\", \"ns2:MiddelNaam\": \"Sloterdijk\", \"ns2:LangeNaam\": \"Amsterdam Sloterdijk\", \"ns2:UICCode\": \"8400059\"}, {\"ns2:StationCode\": \"ASD\", \"ns2:Type\": \"6\", \"ns2:KorteNaam\": \"Amsterdm C\", \"ns2:MiddelNaam\": \"Amsterdam C.\", \"ns2:LangeNaam\": \"Amsterdam Centraal\", \"ns2:UICCode\": \"8400058\"}]}, {\"@InfoStatus\": \"Actueel\", \"ns2:Station\": [{\"ns2:StationCode\": \"ZZS\", \"ns2:Type\": \"1\", \"ns2:KorteNaam\": \"Zaanse S.\", \"ns2:MiddelNaam\": \"Zaanse Schans\", \"ns2:LangeNaam\": \"Zaandijk Zaanse Schans\", \"ns2:UICCode\": \"8400364\"}, {\"ns2:StationCode\": \"ZD\", \"ns2:Type\": \"5\", \"ns2:KorteNaam\": \"Zaandam\", \"ns2:MiddelNaam\": \"Zaandam\", \"ns2:LangeNaam\": \"Zaandam\", \"ns2:UICCode\": \"8400731\"}, {\"ns2:StationCode\": \"ASS\", \"ns2:Type\": \"5\", \"ns2:KorteNaam\": \"Sloterdijk\", \"ns2:MiddelNaam\": \"Sloterdijk\", \"ns2:LangeNaam\": \"Amsterdam Sloterdijk\", \"ns2:UICCode\": \"8400059\"}, {\"ns2:StationCode\": \"ASD\", \"ns2:Type\": \"6\", \"ns2:KorteNaam\": \"Amsterdm C\", \"ns2:MiddelNaam\": \"Amsterdam C.\", \"ns2:LangeNaam\": \"Amsterdam Centraal\", \"ns2:UICCode\": \"8400058\"}]}], \"ns2:PresentatieVerkorteRouteHerkomst\": {\"ns2:Uitingen\": {\"ns2:Uiting\": \"Zaanse Schans, Zaandam, Sloterdijk, Amsterdam C.\"}}, \"ns2:WijzigingHerkomst\": {\"ns2:WijzigingType\": \"40\"}}}}}}')\n",
      "(None, u'{\"ns1:PutReisInformatieBoodschapIn\": {\"@xmlns:ns1\": \"urn:ndov:cdm:trein:reisinformatie:messages:dynamischeaankomststaat:1\", \"@xmlns:ns2\": \"urn:ndov:cdm:trein:reisinformatie:data:4\", \"ns2:ReisInformatieProductDAS\": {\"@TimeStamp\": \"2020-05-13T17:56:33.035Z\", \"@Versie\": \"6.1\", \"ns2:RIPAdministratie\": {\"ns2:ReisInformatieProductID\": \"2005131956332300001\", \"ns2:AbonnementId\": \"55\", \"ns2:ReisInformatieTijdstip\": \"2020-05-13T17:55:00.000Z\"}, \"ns2:DynamischeAankomstStaat\": {\"ns2:RitId\": \"3573\", \"ns2:RitDatum\": \"2020-05-13\", \"ns2:RitStation\": {\"ns2:StationCode\": \"ASDZ\", \"ns2:Type\": \"4\", \"ns2:KorteNaam\": \"Amsterdm Z\", \"ns2:MiddelNaam\": \"Amsterdam Z.\", \"ns2:LangeNaam\": \"Amsterdam Zuid\", \"ns2:UICCode\": \"8400061\"}, \"ns2:TreinAankomst\": {\"ns2:TreinNummer\": \"3573\", \"ns2:TreinSoort\": {\"@Code\": \"IC\", \"#text\": \"Intercity\"}, \"ns2:TreinStatus\": \"5\", \"ns2:Vervoerder\": \"NS\", \"ns2:TreinHerkomst\": [{\"@InfoStatus\": \"Gepland\", \"ns2:StationCode\": \"SHL\", \"ns2:Type\": \"6\", \"ns2:KorteNaam\": \"Schiphol\", \"ns2:MiddelNaam\": \"Schiphol Airport\", \"ns2:LangeNaam\": \"Schiphol Airport\", \"ns2:UICCode\": \"8400561\"}, {\"@InfoStatus\": \"Actueel\", \"ns2:StationCode\": \"SHL\", \"ns2:Type\": \"6\", \"ns2:KorteNaam\": \"Schiphol\", \"ns2:MiddelNaam\": \"Schiphol Airport\", \"ns2:LangeNaam\": \"Schiphol Airport\", \"ns2:UICCode\": \"8400561\"}], \"ns2:PresentatieTreinHerkomst\": {\"ns2:Uitingen\": {\"ns2:Uiting\": \"Schiphol Airport\"}}, \"ns2:AankomstTijd\": [{\"@InfoStatus\": \"Gepland\", \"#text\": \"2020-05-13T17:55:00.000Z\"}, {\"@InfoStatus\": \"Actueel\", \"#text\": \"2020-05-13T17:55:00.000Z\"}], \"ns2:ExacteAankomstVertraging\": \"PT0S\", \"ns2:GedempteAankomstVertraging\": \"PT0S\", \"ns2:TreinAankomstSpoor\": [{\"@InfoStatus\": \"Gepland\", \"ns2:SpoorNummer\": \"2\"}, {\"@InfoStatus\": \"Actueel\", \"ns2:SpoorNummer\": \"2\"}], \"ns2:PresentatieTreinAankomstSpoor\": {\"ns2:Uitingen\": {\"ns2:Uiting\": \"2\"}}, \"ns2:WijzigingHerkomst\": {\"ns2:WijzigingType\": \"40\"}}}}}}')\n",
      "...\n",
      "\n",
      "-------------------------------------------\n",
      "Time: 2020-05-13 20:27:00\n",
      "-------------------------------------------\n",
      "(None, u'{\"ns1:PutReisInformatieBoodschapIn\": {\"@xmlns:ns1\": \"urn:ndov:cdm:trein:reisinformatie:messages:5\", \"@xmlns:ns2\": \"urn:ndov:cdm:trein:reisinformatie:data:4\", \"ns2:ReisInformatieProductDVS\": {\"@TimeStamp\": \"2020-05-13T17:56:23.107Z\", \"@Versie\": \"6.2\", \"ns2:RIPAdministratie\": {\"ns2:ReisInformatieProductID\": \"2005131956232300001\", \"ns2:AbonnementId\": \"54\", \"ns2:ReisInformatieTijdstip\": \"2020-05-13T17:56:00.000Z\"}, \"ns2:DynamischeVertrekStaat\": {\"ns2:RitId\": \"3573\", \"ns2:RitDatum\": \"2020-05-13\", \"ns2:RitStation\": {\"ns2:StationCode\": \"ASDZ\", \"ns2:Type\": \"4\", \"ns2:KorteNaam\": \"Amsterdm Z\", \"ns2:MiddelNaam\": \"Amsterdam Z.\", \"ns2:LangeNaam\": \"Amsterdam Zuid\", \"ns2:UICCode\": \"8400061\"}, \"ns2:Trein\": {\"ns2:TreinNummer\": \"3573\", \"ns2:TreinSoort\": {\"@Code\": \"IC\", \"#text\": \"Intercity\"}, \"ns2:TreinFormule\": \"3\", \"ns2:TreinStatus\": \"2\", \"ns2:Vervoerder\": \"NS\", \"ns2:Reserveren\": \"N\", \"ns2:Toeslag\": \"N\", \"ns2:NietInstappen\": \"N\", \"ns2:AchterBlijvenAchtersteTreinDeel\": \"N\", \"ns2:RangeerBeweging\": \"N\", \"ns2:SpeciaalKaartje\": \"N\", \"ns2:ReisTip\": {\"ns2:ReisTipStation\": {\"ns2:StationCode\": \"ASB\", \"ns2:Type\": \"1\", \"ns2:KorteNaam\": \"Bijlmer A\", \"ns2:MiddelNaam\": \"Bijlmer ArenA\", \"ns2:LangeNaam\": \"Amsterdam Bijlmer ArenA\", \"ns2:UICCode\": \"8400074\"}, \"ns2:ReisTipCode\": \"STO\", \"ns2:PresentatieReisTip\": {\"ns2:Uitingen\": [{\"@Taal\": \"nl\", \"ns2:Uiting\": {\"@Prioriteit\": \"7\", \"#text\": \"Stopt ook in Bijlmer ArenA\"}}, {\"@Taal\": \"en\", \"ns2:Uiting\": {\"@Prioriteit\": \"7\", \"#text\": \"Also stopping in Bijlmer ArenA\"}}]}}, \"ns2:TreinEindBestemming\": [{\"@InfoStatus\": \"Gepland\", \"ns2:StationCode\": \"VL\", \"ns2:Type\": \"5\", \"ns2:KorteNaam\": \"Venlo\", \"ns2:MiddelNaam\": \"Venlo\", \"ns2:LangeNaam\": \"Venlo\", \"ns2:UICCode\": \"8400644\"}, {\"@InfoStatus\": \"Actueel\", \"ns2:StationCode\": \"VL\", \"ns2:Type\": \"5\", \"ns2:KorteNaam\": \"Venlo\", \"ns2:MiddelNaam\": \"Venlo\", \"ns2:LangeNaam\": \"Venlo\", \"ns2:UICCode\": \"8400644\"}], \"ns2:PresentatieTreinEindBestemming\": {\"ns2:Uitingen\": {\"ns2:Uiting\": \"Venlo\"}}, \"ns2:VertrekTijd\": [{\"@InfoStatus\": \"Gepland\", \"#text\": \"2020-05-13T17:56:00.000Z\"}, {\"@InfoStatus\": \"Actueel\", \"#text\": \"2020-05-13T17:56:00.000Z\"}], \"ns2:ExacteVertrekVertraging\": \"PT0S\", \"ns2:GedempteVertrekVertraging\": \"PT0S\", \"ns2:TreinVertrekSpoor\": [{\"@InfoStatus\": \"Gepland\", \"ns2:SpoorNummer\": \"2\"}, {\"@InfoStatus\": \"Actueel\", \"ns2:SpoorNummer\": \"2\"}], \"ns2:PresentatieTreinVertrekSpoor\": {\"ns2:Uitingen\": {\"ns2:Uiting\": \"2\"}}, \"ns2:VertrekRichting\": \"A\", \"ns2:AfstandPerronEindKopVertrekTrein\": \"0\", \"ns2:VerkorteRoute\": [{\"@InfoStatus\": \"Gepland\", \"ns2:Station\": [{\"ns2:StationCode\": \"UT\", \"ns2:Type\": \"6\", \"ns2:KorteNaam\": \"Utrecht C\", \"ns2:MiddelNaam\": \"Utrecht C.\", \"ns2:LangeNaam\": \"Utrecht Centraal\", \"ns2:UICCode\": \"8400621\"}, {\"ns2:StationCode\": \"HT\", \"ns2:Type\": \"5\", \"ns2:KorteNaam\": \"Den Bosch\", \"ns2:MiddelNaam\": \"\\'s-Hertogenbosch\", \"ns2:LangeNaam\": \"\\'s-Hertogenbosch\", \"ns2:UICCode\": \"8400319\"}, {\"ns2:StationCode\": \"EHV\", \"ns2:Type\": \"6\", \"ns2:KorteNaam\": \"Eindhovn C\", \"ns2:MiddelNaam\": \"Eindhoven C.\", \"ns2:LangeNaam\": \"Eindhoven Centraal\", \"ns2:UICCode\": \"8400206\"}, {\"ns2:StationCode\": \"HM\", \"ns2:Type\": \"5\", \"ns2:KorteNaam\": \"Helmond\", \"ns2:MiddelNaam\": \"Helmond\", \"ns2:LangeNaam\": \"Helmond\", \"ns2:UICCode\": \"8400313\"}]}, {\"@InfoStatus\": \"Actueel\", \"ns2:Station\": [{\"ns2:StationCode\": \"UT\", \"ns2:Type\": \"6\", \"ns2:KorteNaam\": \"Utrecht C\", \"ns2:MiddelNaam\": \"Utrecht C.\", \"ns2:LangeNaam\": \"Utrecht Centraal\", \"ns2:UICCode\": \"8400621\"}, {\"ns2:StationCode\": \"HT\", \"ns2:Type\": \"5\", \"ns2:KorteNaam\": \"Den Bosch\", \"ns2:MiddelNaam\": \"\\'s-Hertogenbosch\", \"ns2:LangeNaam\": \"\\'s-Hertogenbosch\", \"ns2:UICCode\": \"8400319\"}, {\"ns2:StationCode\": \"EHV\", \"ns2:Type\": \"6\", \"ns2:KorteNaam\": \"Eindhovn C\", \"ns2:MiddelNaam\": \"Eindhoven C.\", \"ns2:LangeNaam\": \"Eindhoven Centraal\", \"ns2:UICCode\": \"8400206\"}, {\"ns2:StationCode\": \"HM\", \"ns2:Type\": \"5\", \"ns2:KorteNaam\": \"Helmond\", \"ns2:MiddelNaam\": \"Helmond\", \"ns2:LangeNaam\": \"Helmond\", \"ns2:UICCode\": \"8400313\"}]}], \"ns2:PresentatieVerkorteRoute\": {\"ns2:Uitingen\": {\"ns2:Uiting\": \"Utrecht C., \\'s-Hertogenbosch, Eindhoven C., Helmond\"}}, \"ns2:TreinVleugel\": {\"ns2:TreinVleugelVertrekSpoor\": [{\"@InfoStatus\": \"Gepland\", \"ns2:SpoorNummer\": \"2\"}, {\"@InfoStatus\": \"Actueel\", \"ns2:SpoorNummer\": \"2\"}], \"ns2:PresentatieTreinVleugelVertrekSpoor\": {\"ns2:Uitingen\": {\"ns2:Uiting\": \"2\"}}, \"ns2:TreinVleugelEindBestemming\": [{\"@InfoStatus\": \"Gepland\", \"ns2:StationCode\": \"VL\", \"ns2:Type\": \"5\", \"ns2:KorteNaam\": \"Venlo\", \"ns2:MiddelNaam\": \"Venlo\", \"ns2:LangeNaam\": \"Venlo\", \"ns2:UICCode\": \"8400644\"}, {\"@InfoStatus\": \"Actueel\", \"ns2:StationCode\": \"VL\", \"ns2:Type\": \"5\", \"ns2:KorteNaam\": \"Venlo\", \"ns2:MiddelNaam\": \"Venlo\", \"ns2:LangeNaam\": \"Venlo\", \"ns2:UICCode\": \"8400644\"}], \"ns2:PresentatieTreinVleugelEindBestemming\": {\"ns2:Uitingen\": {\"ns2:Uiting\": \"Venlo\"}}, \"ns2:StopStations\": [{\"@InfoStatus\": \"Gepland\", \"ns2:Station\": [{\"ns2:StationCode\": \"ASB\", \"ns2:Type\": \"1\", \"ns2:KorteNaam\": \"Bijlmer A\", \"ns2:MiddelNaam\": \"Bijlmer ArenA\", \"ns2:LangeNaam\": \"Amsterdam Bijlmer ArenA\", \"ns2:UICCode\": \"8400074\"}, {\"ns2:StationCode\": \"UT\", \"ns2:Type\": \"6\", \"ns2:KorteNaam\": \"Utrecht C\", \"ns2:MiddelNaam\": \"Utrecht C.\", \"ns2:LangeNaam\": \"Utrecht Centraal\", \"ns2:UICCode\": \"8400621\"}, {\"ns2:StationCode\": \"HT\", \"ns2:Type\": \"5\", \"ns2:KorteNaam\": \"Den Bosch\", \"ns2:MiddelNaam\": \"\\'s-Hertogenbosch\", \"ns2:LangeNaam\": \"\\'s-Hertogenbosch\", \"ns2:UICCode\": \"8400319\"}, {\"ns2:StationCode\": \"EHV\", \"ns2:Type\": \"6\", \"ns2:KorteNaam\": \"Eindhovn C\", \"ns2:MiddelNaam\": \"Eindhoven C.\", \"ns2:LangeNaam\": \"Eindhoven Centraal\", \"ns2:UICCode\": \"8400206\"}, {\"ns2:StationCode\": \"HM\", \"ns2:Type\": \"5\", \"ns2:KorteNaam\": \"Helmond\", \"ns2:MiddelNaam\": \"Helmond\", \"ns2:LangeNaam\": \"Helmond\", \"ns2:UICCode\": \"8400313\"}, {\"ns2:StationCode\": \"DN\", \"ns2:Type\": \"0\", \"ns2:KorteNaam\": \"Deurne\", \"ns2:MiddelNaam\": \"Deurne\", \"ns2:LangeNaam\": \"Deurne\", \"ns2:UICCode\": \"8400172\"}, {\"ns2:StationCode\": \"HRT\", \"ns2:Type\": \"0\", \"ns2:KorteNaam\": \"Horst-Sev\", \"ns2:MiddelNaam\": \"Horst-Sevenum\", \"ns2:LangeNaam\": \"Horst-Sevenum\", \"ns2:UICCode\": \"8400339\"}, {\"ns2:StationCode\": \"BR\", \"ns2:Type\": \"0\", \"ns2:KorteNaam\": \"Blerick\", \"ns2:MiddelNaam\": \"Blerick\", \"ns2:LangeNaam\": \"Blerick\", \"ns2:UICCode\": \"8400117\"}, {\"ns2:StationCode\": \"VL\", \"ns2:Type\": \"5\", \"ns2:KorteNaam\": \"Venlo\", \"ns2:MiddelNaam\": \"Venlo\", \"ns2:LangeNaam\": \"Venlo\", \"ns2:UICCode\": \"8400644\"}]}, {\"@InfoStatus\": \"Actueel\", \"ns2:Station\": [{\"ns2:StationCode\": \"ASB\", \"ns2:Type\": \"1\", \"ns2:KorteNaam\": \"Bijlmer A\", \"ns2:MiddelNaam\": \"Bijlmer ArenA\", \"ns2:LangeNaam\": \"Amsterdam Bijlmer ArenA\", \"ns2:UICCode\": \"8400074\"}, {\"ns2:StationCode\": \"UT\", \"ns2:Type\": \"6\", \"ns2:KorteNaam\": \"Utrecht C\", \"ns2:MiddelNaam\": \"Utrecht C.\", \"ns2:LangeNaam\": \"Utrecht Centraal\", \"ns2:UICCode\": \"8400621\"}, {\"ns2:StationCode\": \"HT\", \"ns2:Type\": \"5\", \"ns2:KorteNaam\": \"Den Bosch\", \"ns2:MiddelNaam\": \"\\'s-Hertogenbosch\", \"ns2:LangeNaam\": \"\\'s-Hertogenbosch\", \"ns2:UICCode\": \"8400319\"}, {\"ns2:StationCode\": \"EHV\", \"ns2:Type\": \"6\", \"ns2:KorteNaam\": \"Eindhovn C\", \"ns2:MiddelNaam\": \"Eindhoven C.\", \"ns2:LangeNaam\": \"Eindhoven Centraal\", \"ns2:UICCode\": \"8400206\"}, {\"ns2:StationCode\": \"HM\", \"ns2:Type\": \"5\", \"ns2:KorteNaam\": \"Helmond\", \"ns2:MiddelNaam\": \"Helmond\", \"ns2:LangeNaam\": \"Helmond\", \"ns2:UICCode\": \"8400313\"}, {\"ns2:StationCode\": \"DN\", \"ns2:Type\": \"0\", \"ns2:KorteNaam\": \"Deurne\", \"ns2:MiddelNaam\": \"Deurne\", \"ns2:LangeNaam\": \"Deurne\", \"ns2:UICCode\": \"8400172\"}, {\"ns2:StationCode\": \"HRT\", \"ns2:Type\": \"0\", \"ns2:KorteNaam\": \"Horst-Sev\", \"ns2:MiddelNaam\": \"Horst-Sevenum\", \"ns2:LangeNaam\": \"Horst-Sevenum\", \"ns2:UICCode\": \"8400339\"}, {\"ns2:StationCode\": \"BR\", \"ns2:Type\": \"0\", \"ns2:KorteNaam\": \"Blerick\", \"ns2:MiddelNaam\": \"Blerick\", \"ns2:LangeNaam\": \"Blerick\", \"ns2:UICCode\": \"8400117\"}, {\"ns2:StationCode\": \"VL\", \"ns2:Type\": \"5\", \"ns2:KorteNaam\": \"Venlo\", \"ns2:MiddelNaam\": \"Venlo\", \"ns2:LangeNaam\": \"Venlo\", \"ns2:UICCode\": \"8400644\"}]}], \"ns2:MaterieelDeelDVS\": {\"ns2:MaterieelSoort\": \"VIRM\", \"ns2:MaterieelAanduiding\": \"4\", \"ns2:MaterieelLengte\": \"10860\", \"ns2:MaterieelNummer\": \"000000-09554-0\", \"ns2:MaterieelDeelEindBestemming\": [{\"@InfoStatus\": \"Gepland\", \"ns2:StationCode\": \"VL\", \"ns2:Type\": \"5\", \"ns2:KorteNaam\": \"Venlo\", \"ns2:MiddelNaam\": \"Venlo\", \"ns2:LangeNaam\": \"Venlo\", \"ns2:UICCode\": \"8400644\"}, {\"@InfoStatus\": \"Actueel\", \"ns2:StationCode\": \"VL\", \"ns2:Type\": \"5\", \"ns2:KorteNaam\": \"Venlo\", \"ns2:MiddelNaam\": \"Venlo\", \"ns2:LangeNaam\": \"Venlo\", \"ns2:UICCode\": \"8400644\"}], \"ns2:PresentatieMaterieelDeelEindBestemming\": {\"ns2:Uitingen\": {\"ns2:Uiting\": \"Venlo\"}}}}, \"ns2:Wijziging\": {\"ns2:WijzigingType\": \"40\"}}, \"ns2:PresentatieOpmerkingen\": {\"ns2:Uitingen\": [{\"@Taal\": \"nl\", \"ns2:Uiting\": {\"@Prioriteit\": \"13\", \"@ReferentieType\": \"ReisTip\", \"@ReferentieWaarde\": \"STO\", \"#text\": \"Stopt ook in Bijlmer ArenA\"}}, {\"@Taal\": \"en\", \"ns2:Uiting\": {\"@Prioriteit\": \"13\", \"@ReferentieType\": \"ReisTip\", \"@ReferentieWaarde\": \"STO\", \"#text\": \"Also stopping in Bijlmer ArenA\"}}]}}}}}')\n",
      "(None, u'{\"ns1:PutReisInformatieBoodschapIn\": {\"@xmlns:ns1\": \"urn:ndov:cdm:trein:reisinformatie:messages:5\", \"@xmlns:ns2\": \"urn:ndov:cdm:trein:reisinformatie:data:4\", \"ns2:ReisInformatieProductDVS\": {\"@TimeStamp\": \"2020-05-13T17:56:22.252Z\", \"@Versie\": \"6.2\", \"ns2:RIPAdministratie\": {\"ns2:ReisInformatieProductID\": \"2005131956222300007\", \"ns2:AbonnementId\": \"54\", \"ns2:ReisInformatieTijdstip\": \"2020-05-13T17:56:00.000Z\"}, \"ns2:DynamischeVertrekStaat\": {\"ns2:RitId\": \"3965\", \"ns2:RitDatum\": \"2020-05-13\", \"ns2:RitStation\": {\"ns2:StationCode\": \"STD\", \"ns2:Type\": \"5\", \"ns2:KorteNaam\": \"Sittard\", \"ns2:MiddelNaam\": \"Sittard\", \"ns2:LangeNaam\": \"Sittard\", \"ns2:UICCode\": \"8400564\"}, \"ns2:Trein\": {\"ns2:TreinNummer\": \"3965\", \"ns2:TreinSoort\": {\"@Code\": \"IC\", \"#text\": \"Intercity\"}, \"ns2:TreinFormule\": \"3\", \"ns2:TreinStatus\": \"5\", \"ns2:Vervoerder\": \"NS\", \"ns2:Reserveren\": \"N\", \"ns2:Toeslag\": \"N\", \"ns2:NietInstappen\": \"N\", \"ns2:AchterBlijvenAchtersteTreinDeel\": \"N\", \"ns2:RangeerBeweging\": \"N\", \"ns2:SpeciaalKaartje\": \"N\", \"ns2:TreinEindBestemming\": [{\"@InfoStatus\": \"Gepland\", \"ns2:StationCode\": \"HRL\", \"ns2:Type\": \"5\", \"ns2:KorteNaam\": \"Heerlen\", \"ns2:MiddelNaam\": \"Heerlen\", \"ns2:LangeNaam\": \"Heerlen\", \"ns2:UICCode\": \"8400307\"}, {\"@InfoStatus\": \"Actueel\", \"ns2:StationCode\": \"HRL\", \"ns2:Type\": \"5\", \"ns2:KorteNaam\": \"Heerlen\", \"ns2:MiddelNaam\": \"Heerlen\", \"ns2:LangeNaam\": \"Heerlen\", \"ns2:UICCode\": \"8400307\"}], \"ns2:PresentatieTreinEindBestemming\": {\"ns2:Uitingen\": {\"ns2:Uiting\": \"Heerlen\"}}, \"ns2:VertrekTijd\": [{\"@InfoStatus\": \"Gepland\", \"#text\": \"2020-05-13T17:56:00.000Z\"}, {\"@InfoStatus\": \"Actueel\", \"#text\": \"2020-05-13T17:56:00.000Z\"}], \"ns2:ExacteVertrekVertraging\": \"PT0S\", \"ns2:GedempteVertrekVertraging\": \"PT0S\", \"ns2:TreinVertrekSpoor\": [{\"@InfoStatus\": \"Gepland\", \"ns2:SpoorNummer\": \"2\", \"ns2:SpoorFase\": \"a\"}, {\"@InfoStatus\": \"Actueel\", \"ns2:SpoorNummer\": \"2\", \"ns2:SpoorFase\": \"a\"}], \"ns2:PresentatieTreinVertrekSpoor\": {\"ns2:Uitingen\": {\"ns2:Uiting\": \"2a\"}}, \"ns2:VertrekRichting\": \"B\", \"ns2:AfstandPerronEindKopVertrekTrein\": \"0\", \"ns2:TreinVleugel\": {\"ns2:TreinVleugelVertrekSpoor\": [{\"@InfoStatus\": \"Gepland\", \"ns2:SpoorNummer\": \"2\", \"ns2:SpoorFase\": \"a\"}, {\"@InfoStatus\": \"Actueel\", \"ns2:SpoorNummer\": \"2\", \"ns2:SpoorFase\": \"a\"}], \"ns2:PresentatieTreinVleugelVertrekSpoor\": {\"ns2:Uitingen\": {\"ns2:Uiting\": \"2a\"}}, \"ns2:TreinVleugelEindBestemming\": [{\"@InfoStatus\": \"Gepland\", \"ns2:StationCode\": \"HRL\", \"ns2:Type\": \"5\", \"ns2:KorteNaam\": \"Heerlen\", \"ns2:MiddelNaam\": \"Heerlen\", \"ns2:LangeNaam\": \"Heerlen\", \"ns2:UICCode\": \"8400307\"}, {\"@InfoStatus\": \"Actueel\", \"ns2:StationCode\": \"HRL\", \"ns2:Type\": \"5\", \"ns2:KorteNaam\": \"Heerlen\", \"ns2:MiddelNaam\": \"Heerlen\", \"ns2:LangeNaam\": \"Heerlen\", \"ns2:UICCode\": \"8400307\"}], \"ns2:PresentatieTreinVleugelEindBestemming\": {\"ns2:Uitingen\": {\"ns2:Uiting\": \"Heerlen\"}}, \"ns2:StopStations\": [{\"@InfoStatus\": \"Gepland\", \"ns2:Station\": {\"ns2:StationCode\": \"HRL\", \"ns2:Type\": \"5\", \"ns2:KorteNaam\": \"Heerlen\", \"ns2:MiddelNaam\": \"Heerlen\", \"ns2:LangeNaam\": \"Heerlen\", \"ns2:UICCode\": \"8400307\"}}, {\"@InfoStatus\": \"Actueel\", \"ns2:Station\": {\"ns2:StationCode\": \"HRL\", \"ns2:Type\": \"5\", \"ns2:KorteNaam\": \"Heerlen\", \"ns2:MiddelNaam\": \"Heerlen\", \"ns2:LangeNaam\": \"Heerlen\", \"ns2:UICCode\": \"8400307\"}}], \"ns2:MaterieelDeelDVS\": {\"ns2:MaterieelSoort\": \"VIRM\", \"ns2:MaterieelAanduiding\": \"4\", \"ns2:MaterieelLengte\": \"10860\", \"ns2:MaterieelNummer\": \"000000-09551-0\", \"ns2:MaterieelDeelEindBestemming\": [{\"@InfoStatus\": \"Gepland\", \"ns2:StationCode\": \"HRL\", \"ns2:Type\": \"5\", \"ns2:KorteNaam\": \"Heerlen\", \"ns2:MiddelNaam\": \"Heerlen\", \"ns2:LangeNaam\": \"Heerlen\", \"ns2:UICCode\": \"8400307\"}, {\"@InfoStatus\": \"Actueel\", \"ns2:StationCode\": \"HRL\", \"ns2:Type\": \"5\", \"ns2:KorteNaam\": \"Heerlen\", \"ns2:MiddelNaam\": \"Heerlen\", \"ns2:LangeNaam\": \"Heerlen\", \"ns2:UICCode\": \"8400307\"}], \"ns2:PresentatieMaterieelDeelEindBestemming\": {\"ns2:Uitingen\": {\"ns2:Uiting\": \"Heerlen\"}}}}, \"ns2:Wijziging\": {\"ns2:WijzigingType\": \"40\"}}}}}}')\n",
      "(None, u'{\"ns1:PutReisInformatieBoodschapIn\": {\"@xmlns:ns1\": \"urn:ndov:cdm:trein:reisinformatie:messages:5\", \"@xmlns:ns2\": \"urn:ndov:cdm:trein:reisinformatie:data:4\", \"ns2:ReisInformatieProductDVS\": {\"@TimeStamp\": \"2020-05-13T17:56:22.111Z\", \"@Versie\": \"6.2\", \"ns2:RIPAdministratie\": {\"ns2:ReisInformatieProductID\": \"2005131956222300003\", \"ns2:AbonnementId\": \"54\", \"ns2:ReisInformatieTijdstip\": \"2020-05-13T17:54:00.000Z\"}, \"ns2:DynamischeVertrekStaat\": {\"ns2:RitId\": \"6968\", \"ns2:RitDatum\": \"2020-05-13\", \"ns2:RitStation\": {\"ns2:StationCode\": \"HTNC\", \"ns2:Type\": \"0\", \"ns2:KorteNaam\": \"Castellum\", \"ns2:MiddelNaam\": \"Castellum\", \"ns2:LangeNaam\": \"Houten Castellum\", \"ns2:UICCode\": \"8400335\"}, \"ns2:Trein\": {\"ns2:TreinNummer\": \"6968\", \"ns2:TreinSoort\": {\"@Code\": \"SPR\", \"#text\": \"Sprinter\"}, \"ns2:TreinFormule\": \"1\", \"ns2:TreinStatus\": \"2\", \"ns2:Vervoerder\": \"NS\", \"ns2:Reserveren\": \"N\", \"ns2:Toeslag\": \"N\", \"ns2:NietInstappen\": \"N\", \"ns2:AchterBlijvenAchtersteTreinDeel\": \"N\", \"ns2:RangeerBeweging\": \"N\", \"ns2:SpeciaalKaartje\": \"N\", \"ns2:TreinEindBestemming\": [{\"@InfoStatus\": \"Gepland\", \"ns2:StationCode\": \"GVC\", \"ns2:Type\": \"6\", \"ns2:KorteNaam\": \"Den Haag C\", \"ns2:MiddelNaam\": \"Den Haag C.\", \"ns2:LangeNaam\": \"Den Haag Centraal\", \"ns2:UICCode\": \"8400282\"}, {\"@InfoStatus\": \"Actueel\", \"ns2:StationCode\": \"GVC\", \"ns2:Type\": \"6\", \"ns2:KorteNaam\": \"Den Haag C\", \"ns2:MiddelNaam\": \"Den Haag C.\", \"ns2:LangeNaam\": \"Den Haag Centraal\", \"ns2:UICCode\": \"8400282\"}], \"ns2:PresentatieTreinEindBestemming\": {\"ns2:Uitingen\": {\"ns2:Uiting\": \"Den Haag Centraal\"}}, \"ns2:VertrekTijd\": [{\"@InfoStatus\": \"Gepland\", \"#text\": \"2020-05-13T17:54:00.000Z\"}, {\"@InfoStatus\": \"Actueel\", \"#text\": \"2020-05-13T17:56:21.000Z\"}], \"ns2:ExacteVertrekVertraging\": \"PT2M21S\", \"ns2:PresentatieVertrekVertraging\": {\"ns2:Uitingen\": {\"ns2:Uiting\": \"+2 min.\"}}, \"ns2:GedempteVertrekVertraging\": \"PT0S\", \"ns2:TreinVertrekSpoor\": [{\"@InfoStatus\": \"Gepland\", \"ns2:SpoorNummer\": \"1\"}, {\"@InfoStatus\": \"Actueel\", \"ns2:SpoorNummer\": \"1\"}], \"ns2:PresentatieTreinVertrekSpoor\": {\"ns2:Uitingen\": {\"ns2:Uiting\": \"1\"}}, \"ns2:VertrekRichting\": \"A\", \"ns2:AfstandPerronEindKopVertrekTrein\": \"0\", \"ns2:VerkorteRoute\": [{\"@InfoStatus\": \"Gepland\", \"ns2:Station\": [{\"ns2:StationCode\": \"HTN\", \"ns2:Type\": \"1\", \"ns2:KorteNaam\": \"Houten\", \"ns2:MiddelNaam\": \"Houten\", \"ns2:LangeNaam\": \"Houten\", \"ns2:UICCode\": \"8400340\"}, {\"ns2:StationCode\": \"UTVR\", \"ns2:Type\": \"1\", \"ns2:KorteNaam\": \"VaartscheR\", \"ns2:MiddelNaam\": \"Vaartsche Rijn\", \"ns2:LangeNaam\": \"Utrecht Vaartsche Rijn\", \"ns2:UICCode\": \"8400606\"}, {\"ns2:StationCode\": \"UT\", \"ns2:Type\": \"6\", \"ns2:KorteNaam\": \"Utrecht C\", \"ns2:MiddelNaam\": \"Utrecht C.\", \"ns2:LangeNaam\": \"Utrecht Centraal\", \"ns2:UICCode\": \"8400621\"}, {\"ns2:StationCode\": \"WD\", \"ns2:Type\": \"1\", \"ns2:KorteNaam\": \"Woerden\", \"ns2:MiddelNaam\": \"Woerden\", \"ns2:LangeNaam\": \"Woerden\", \"ns2:UICCode\": \"8400702\"}]}, {\"@InfoStatus\": \"Actueel\", \"ns2:Station\": [{\"ns2:StationCode\": \"HTN\", \"ns2:Type\": \"1\", \"ns2:KorteNaam\": \"Houten\", \"ns2:MiddelNaam\": \"Houten\", \"ns2:LangeNaam\": \"Houten\", \"ns2:UICCode\": \"8400340\"}, {\"ns2:StationCode\": \"UTVR\", \"ns2:Type\": \"1\", \"ns2:KorteNaam\": \"VaartscheR\", \"ns2:MiddelNaam\": \"Vaartsche Rijn\", \"ns2:LangeNaam\": \"Utrecht Vaartsche Rijn\", \"ns2:UICCode\": \"8400606\"}, {\"ns2:StationCode\": \"UT\", \"ns2:Type\": \"6\", \"ns2:KorteNaam\": \"Utrecht C\", \"ns2:MiddelNaam\": \"Utrecht C.\", \"ns2:LangeNaam\": \"Utrecht Centraal\", \"ns2:UICCode\": \"8400621\"}, {\"ns2:StationCode\": \"WD\", \"ns2:Type\": \"1\", \"ns2:KorteNaam\": \"Woerden\", \"ns2:MiddelNaam\": \"Woerden\", \"ns2:LangeNaam\": \"Woerden\", \"ns2:UICCode\": \"8400702\"}]}], \"ns2:PresentatieVerkorteRoute\": {\"ns2:Uitingen\": {\"ns2:Uiting\": \"Houten, Vaartsche Rijn, Utrecht C., Woerden\"}}, \"ns2:TreinVleugel\": {\"ns2:TreinVleugelVertrekSpoor\": [{\"@InfoStatus\": \"Gepland\", \"ns2:SpoorNummer\": \"1\"}, {\"@InfoStatus\": \"Actueel\", \"ns2:SpoorNummer\": \"1\"}], \"ns2:PresentatieTreinVleugelVertrekSpoor\": {\"ns2:Uitingen\": {\"ns2:Uiting\": \"1\"}}, \"ns2:TreinVleugelEindBestemming\": [{\"@InfoStatus\": \"Gepland\", \"ns2:StationCode\": \"GVC\", \"ns2:Type\": \"6\", \"ns2:KorteNaam\": \"Den Haag C\", \"ns2:MiddelNaam\": \"Den Haag C.\", \"ns2:LangeNaam\": \"Den Haag Centraal\", \"ns2:UICCode\": \"8400282\"}, {\"@InfoStatus\": \"Actueel\", \"ns2:StationCode\": \"GVC\", \"ns2:Type\": \"6\", \"ns2:KorteNaam\": \"Den Haag C\", \"ns2:MiddelNaam\": \"Den Haag C.\", \"ns2:LangeNaam\": \"Den Haag Centraal\", \"ns2:UICCode\": \"8400282\"}], \"ns2:PresentatieTreinVleugelEindBestemming\": {\"ns2:Uitingen\": {\"ns2:Uiting\": \"Den Haag Centraal\"}}, \"ns2:StopStations\": [{\"@InfoStatus\": \"Gepland\", \"ns2:Station\": [{\"ns2:StationCode\": \"HTN\", \"ns2:Type\": \"1\", \"ns2:KorteNaam\": \"Houten\", \"ns2:MiddelNaam\": \"Houten\", \"ns2:LangeNaam\": \"Houten\", \"ns2:UICCode\": \"8400340\"}, {\"ns2:StationCode\": \"UTLN\", \"ns2:Type\": \"0\", \"ns2:KorteNaam\": \"Lunetten\", \"ns2:MiddelNaam\": \"Lunetten\", \"ns2:LangeNaam\": \"Utrecht Lunetten\", \"ns2:UICCode\": \"8400623\"}, {\"ns2:StationCode\": \"UTVR\", \"ns2:Type\": \"1\", \"ns2:KorteNaam\": \"VaartscheR\", \"ns2:MiddelNaam\": \"Vaartsche Rijn\", \"ns2:LangeNaam\": \"Utrecht Vaartsche Rijn\", \"ns2:UICCode\": \"8400606\"}, {\"ns2:StationCode\": \"UT\", \"ns2:Type\": \"6\", \"ns2:KorteNaam\": \"Utrecht C\", \"ns2:MiddelNaam\": \"Utrecht C.\", \"ns2:LangeNaam\": \"Utrecht Centraal\", \"ns2:UICCode\": \"8400621\"}, {\"ns2:StationCode\": \"UTLR\", \"ns2:Type\": \"0\", \"ns2:KorteNaam\": \"LeidscheRn\", \"ns2:MiddelNaam\": \"Leidsche Rijn\", \"ns2:LangeNaam\": \"Utrecht Leidsche Rijn\", \"ns2:UICCode\": \"8400607\"}, {\"ns2:StationCode\": \"UTT\", \"ns2:Type\": \"0\", \"ns2:KorteNaam\": \"Terwijde\", \"ns2:MiddelNaam\": \"Terwijde\", \"ns2:LangeNaam\": \"Utrecht Terwijde\", \"ns2:UICCode\": \"8400614\"}, {\"ns2:StationCode\": \"VTN\", \"ns2:Type\": \"0\", \"ns2:KorteNaam\": \"Vleuten\", \"ns2:MiddelNaam\": \"Vleuten\", \"ns2:LangeNaam\": \"Vleuten\", \"ns2:UICCode\": \"8400651\"}, {\"ns2:StationCode\": \"WD\", \"ns2:Type\": \"1\", \"ns2:KorteNaam\": \"Woerden\", \"ns2:MiddelNaam\": \"Woerden\", \"ns2:LangeNaam\": \"Woerden\", \"ns2:UICCode\": \"8400702\"}, {\"ns2:StationCode\": \"GDG\", \"ns2:Type\": \"0\", \"ns2:KorteNaam\": \"Goverwelle\", \"ns2:MiddelNaam\": \"Goverwelle\", \"ns2:LangeNaam\": \"Gouda Goverwelle\", \"ns2:UICCode\": \"8400257\"}, {\"ns2:StationCode\": \"GD\", \"ns2:Type\": \"5\", \"ns2:KorteNaam\": \"Gouda\", \"ns2:MiddelNaam\": \"Gouda\", \"ns2:LangeNaam\": \"Gouda\", \"ns2:UICCode\": \"8400258\"}, {\"ns2:StationCode\": \"LLZM\", \"ns2:Type\": \"0\", \"ns2:KorteNaam\": \"Lansingerl\", \"ns2:MiddelNaam\": \"Lansingerland\", \"ns2:LangeNaam\": \"Lansingerland-Zoetermeer\", \"ns2:UICCode\": \"8400135\"}, {\"ns2:StationCode\": \"ZTMO\", \"ns2:Type\": \"0\", \"ns2:KorteNaam\": \"Zoetermr O\", \"ns2:MiddelNaam\": \"Zoetermeer O.\", \"ns2:LangeNaam\": \"Zoetermeer Oost\", \"ns2:UICCode\": \"8400740\"}, {\"ns2:StationCode\": \"ZTM\", \"ns2:Type\": \"1\", \"ns2:KorteNaam\": \"Zoetermeer\", \"ns2:MiddelNaam\": \"Zoetermeer\", \"ns2:LangeNaam\": \"Zoetermeer\", \"ns2:UICCode\": \"8400741\"}, {\"ns2:StationCode\": \"YPB\", \"ns2:Type\": \"0\", \"ns2:KorteNaam\": \"Ypenburg\", \"ns2:MiddelNaam\": \"Ypenburg\", \"ns2:LangeNaam\": \"Den Haag Ypenburg\", \"ns2:UICCode\": \"8400379\"}, {\"ns2:StationCode\": \"VB\", \"ns2:Type\": \"0\", \"ns2:KorteNaam\": \"Voorburg\", \"ns2:MiddelNaam\": \"Voorburg\", \"ns2:LangeNaam\": \"Voorburg\", \"ns2:UICCode\": \"8400658\"}, {\"ns2:StationCode\": \"GVC\", \"ns2:Type\": \"6\", \"ns2:KorteNaam\": \"Den Haag C\", \"ns2:MiddelNaam\": \"Den Haag C.\", \"ns2:LangeNaam\": \"Den Haag Centraal\", \"ns2:UICCode\": \"8400282\"}]}, {\"@InfoStatus\": \"Actueel\", \"ns2:Station\": [{\"ns2:StationCode\": \"HTN\", \"ns2:Type\": \"1\", \"ns2:KorteNaam\": \"Houten\", \"ns2:MiddelNaam\": \"Houten\", \"ns2:LangeNaam\": \"Houten\", \"ns2:UICCode\": \"8400340\"}, {\"ns2:StationCode\": \"UTLN\", \"ns2:Type\": \"0\", \"ns2:KorteNaam\": \"Lunetten\", \"ns2:MiddelNaam\": \"Lunetten\", \"ns2:LangeNaam\": \"Utrecht Lunetten\", \"ns2:UICCode\": \"8400623\"}, {\"ns2:StationCode\": \"UTVR\", \"ns2:Type\": \"1\", \"ns2:KorteNaam\": \"VaartscheR\", \"ns2:MiddelNaam\": \"Vaartsche Rijn\", \"ns2:LangeNaam\": \"Utrecht Vaartsche Rijn\", \"ns2:UICCode\": \"8400606\"}, {\"ns2:StationCode\": \"UT\", \"ns2:Type\": \"6\", \"ns2:KorteNaam\": \"Utrecht C\", \"ns2:MiddelNaam\": \"Utrecht C.\", \"ns2:LangeNaam\": \"Utrecht Centraal\", \"ns2:UICCode\": \"8400621\"}, {\"ns2:StationCode\": \"UTLR\", \"ns2:Type\": \"0\", \"ns2:KorteNaam\": \"LeidscheRn\", \"ns2:MiddelNaam\": \"Leidsche Rijn\", \"ns2:LangeNaam\": \"Utrecht Leidsche Rijn\", \"ns2:UICCode\": \"8400607\"}, {\"ns2:StationCode\": \"UTT\", \"ns2:Type\": \"0\", \"ns2:KorteNaam\": \"Terwijde\", \"ns2:MiddelNaam\": \"Terwijde\", \"ns2:LangeNaam\": \"Utrecht Terwijde\", \"ns2:UICCode\": \"8400614\"}, {\"ns2:StationCode\": \"VTN\", \"ns2:Type\": \"0\", \"ns2:KorteNaam\": \"Vleuten\", \"ns2:MiddelNaam\": \"Vleuten\", \"ns2:LangeNaam\": \"Vleuten\", \"ns2:UICCode\": \"8400651\"}, {\"ns2:StationCode\": \"WD\", \"ns2:Type\": \"1\", \"ns2:KorteNaam\": \"Woerden\", \"ns2:MiddelNaam\": \"Woerden\", \"ns2:LangeNaam\": \"Woerden\", \"ns2:UICCode\": \"8400702\"}, {\"ns2:StationCode\": \"GDG\", \"ns2:Type\": \"0\", \"ns2:KorteNaam\": \"Goverwelle\", \"ns2:MiddelNaam\": \"Goverwelle\", \"ns2:LangeNaam\": \"Gouda Goverwelle\", \"ns2:UICCode\": \"8400257\"}, {\"ns2:StationCode\": \"GD\", \"ns2:Type\": \"5\", \"ns2:KorteNaam\": \"Gouda\", \"ns2:MiddelNaam\": \"Gouda\", \"ns2:LangeNaam\": \"Gouda\", \"ns2:UICCode\": \"8400258\"}, {\"ns2:StationCode\": \"LLZM\", \"ns2:Type\": \"0\", \"ns2:KorteNaam\": \"Lansingerl\", \"ns2:MiddelNaam\": \"Lansingerland\", \"ns2:LangeNaam\": \"Lansingerland-Zoetermeer\", \"ns2:UICCode\": \"8400135\"}, {\"ns2:StationCode\": \"ZTMO\", \"ns2:Type\": \"0\", \"ns2:KorteNaam\": \"Zoetermr O\", \"ns2:MiddelNaam\": \"Zoetermeer O.\", \"ns2:LangeNaam\": \"Zoetermeer Oost\", \"ns2:UICCode\": \"8400740\"}, {\"ns2:StationCode\": \"ZTM\", \"ns2:Type\": \"1\", \"ns2:KorteNaam\": \"Zoetermeer\", \"ns2:MiddelNaam\": \"Zoetermeer\", \"ns2:LangeNaam\": \"Zoetermeer\", \"ns2:UICCode\": \"8400741\"}, {\"ns2:StationCode\": \"YPB\", \"ns2:Type\": \"0\", \"ns2:KorteNaam\": \"Ypenburg\", \"ns2:MiddelNaam\": \"Ypenburg\", \"ns2:LangeNaam\": \"Den Haag Ypenburg\", \"ns2:UICCode\": \"8400379\"}, {\"ns2:StationCode\": \"VB\", \"ns2:Type\": \"0\", \"ns2:KorteNaam\": \"Voorburg\", \"ns2:MiddelNaam\": \"Voorburg\", \"ns2:LangeNaam\": \"Voorburg\", \"ns2:UICCode\": \"8400658\"}, {\"ns2:StationCode\": \"GVC\", \"ns2:Type\": \"6\", \"ns2:KorteNaam\": \"Den Haag C\", \"ns2:MiddelNaam\": \"Den Haag C.\", \"ns2:LangeNaam\": \"Den Haag Centraal\", \"ns2:UICCode\": \"8400282\"}]}], \"ns2:MaterieelDeelDVS\": {\"ns2:MaterieelSoort\": \"SLT\", \"ns2:MaterieelAanduiding\": \"6\", \"ns2:MaterieelLengte\": \"10050\", \"ns2:MaterieelNummer\": \"000000-02645-0\", \"ns2:MaterieelDeelEindBestemming\": [{\"@InfoStatus\": \"Gepland\", \"ns2:StationCode\": \"GVC\", \"ns2:Type\": \"6\", \"ns2:KorteNaam\": \"Den Haag C\", \"ns2:MiddelNaam\": \"Den Haag C.\", \"ns2:LangeNaam\": \"Den Haag Centraal\", \"ns2:UICCode\": \"8400282\"}, {\"@InfoStatus\": \"Actueel\", \"ns2:StationCode\": \"GVC\", \"ns2:Type\": \"6\", \"ns2:KorteNaam\": \"Den Haag C\", \"ns2:MiddelNaam\": \"Den Haag C.\", \"ns2:LangeNaam\": \"Den Haag Centraal\", \"ns2:UICCode\": \"8400282\"}], \"ns2:PresentatieMaterieelDeelEindBestemming\": {\"ns2:Uitingen\": {\"ns2:Uiting\": \"Den Haag Centraal\"}}}}, \"ns2:Wijziging\": [{\"ns2:WijzigingType\": \"10\", \"ns2:PresentatieWijziging\": {\"ns2:Uitingen\": [{\"@Taal\": \"nl\", \"ns2:Uiting\": {\"@Prioriteit\": \"10\", \"#text\": \"Later vertrek\"}}, {\"@Taal\": \"en\", \"ns2:Uiting\": {\"@Prioriteit\": \"10\", \"#text\": \"Delayed\"}}]}}, {\"ns2:WijzigingType\": \"40\"}]}, \"ns2:PresentatieOpmerkingen\": {\"ns2:Uitingen\": [{\"@Taal\": \"nl\", \"ns2:Uiting\": {\"@Prioriteit\": \"20\", \"@ReferentieType\": \"Wijziging\", \"@ReferentieWaarde\": \"10\", \"#text\": \"Later vertrek\"}}, {\"@Taal\": \"en\", \"ns2:Uiting\": {\"@Prioriteit\": \"20\", \"@ReferentieType\": \"Wijziging\", \"@ReferentieWaarde\": \"10\", \"#text\": \"Delayed\"}}]}}}}}')\n",
      "(None, u'{\"ns1:PutReisInformatieBoodschapIn\": {\"@xmlns:ns1\": \"urn:ndov:cdm:trein:reisinformatie:messages:5\", \"@xmlns:ns2\": \"urn:ndov:cdm:trein:reisinformatie:data:4\", \"ns2:ReisInformatieProductDVS\": {\"@TimeStamp\": \"2020-05-13T17:56:25.128Z\", \"@Versie\": \"6.2\", \"ns2:RIPAdministratie\": {\"ns2:ReisInformatieProductID\": \"2005131956252500001\", \"ns2:AbonnementId\": \"54\", \"ns2:ReisInformatieTijdstip\": \"2020-05-13T17:59:00.000Z\"}, \"ns2:DynamischeVertrekStaat\": {\"ns2:RitId\": \"15869\", \"ns2:RitDatum\": \"2020-05-13\", \"ns2:RitStation\": {\"ns2:StationCode\": \"AMF\", \"ns2:Type\": \"5\", \"ns2:KorteNaam\": \"Amersfrt C\", \"ns2:MiddelNaam\": \"Amersfoort C.\", \"ns2:LangeNaam\": \"Amersfoort Centraal\", \"ns2:UICCode\": \"8400055\"}, \"ns2:Trein\": {\"ns2:TreinNummer\": \"15869\", \"ns2:TreinSoort\": {\"@Code\": \"SPR\", \"#text\": \"Sprinter\"}, \"ns2:TreinFormule\": \"1\", \"ns2:TreinStatus\": \"2\", \"ns2:Vervoerder\": \"NS\", \"ns2:Reserveren\": \"N\", \"ns2:Toeslag\": \"N\", \"ns2:NietInstappen\": \"N\", \"ns2:AchterBlijvenAchtersteTreinDeel\": \"N\", \"ns2:RangeerBeweging\": \"N\", \"ns2:SpeciaalKaartje\": \"N\", \"ns2:TreinEindBestemming\": [{\"@InfoStatus\": \"Gepland\", \"ns2:StationCode\": \"AVAT\", \"ns2:Type\": \"0\", \"ns2:KorteNaam\": \"Vathorst\", \"ns2:MiddelNaam\": \"Vathorst\", \"ns2:LangeNaam\": \"Amersfoort Vathorst\", \"ns2:UICCode\": \"8400228\"}, {\"@InfoStatus\": \"Actueel\", \"ns2:StationCode\": \"AVAT\", \"ns2:Type\": \"0\", \"ns2:KorteNaam\": \"Vathorst\", \"ns2:MiddelNaam\": \"Vathorst\", \"ns2:LangeNaam\": \"Amersfoort Vathorst\", \"ns2:UICCode\": \"8400228\"}], \"ns2:PresentatieTreinEindBestemming\": {\"ns2:Uitingen\": {\"ns2:Uiting\": \"Amersfoort Vathorst\"}}, \"ns2:VertrekTijd\": [{\"@InfoStatus\": \"Gepland\", \"#text\": \"2020-05-13T17:59:00.000Z\"}, {\"@InfoStatus\": \"Actueel\", \"#text\": \"2020-05-13T17:59:00.000Z\"}], \"ns2:ExacteVertrekVertraging\": \"PT0S\", \"ns2:GedempteVertrekVertraging\": \"PT0S\", \"ns2:TreinVertrekSpoor\": [{\"@InfoStatus\": \"Gepland\", \"ns2:SpoorNummer\": \"1\"}, {\"@InfoStatus\": \"Actueel\", \"ns2:SpoorNummer\": \"1\"}], \"ns2:PresentatieTreinVertrekSpoor\": {\"ns2:Uitingen\": {\"ns2:Uiting\": \"1\"}}, \"ns2:VertrekRichting\": \"B\", \"ns2:AfstandPerronEindKopVertrekTrein\": \"0\", \"ns2:TreinVleugel\": {\"ns2:TreinVleugelVertrekSpoor\": [{\"@InfoStatus\": \"Gepland\", \"ns2:SpoorNummer\": \"1\"}, {\"@InfoStatus\": \"Actueel\", \"ns2:SpoorNummer\": \"1\"}], \"ns2:PresentatieTreinVleugelVertrekSpoor\": {\"ns2:Uitingen\": {\"ns2:Uiting\": \"1\"}}, \"ns2:TreinVleugelEindBestemming\": [{\"@InfoStatus\": \"Gepland\", \"ns2:StationCode\": \"AVAT\", \"ns2:Type\": \"0\", \"ns2:KorteNaam\": \"Vathorst\", \"ns2:MiddelNaam\": \"Vathorst\", \"ns2:LangeNaam\": \"Amersfoort Vathorst\", \"ns2:UICCode\": \"8400228\"}, {\"@InfoStatus\": \"Actueel\", \"ns2:StationCode\": \"AVAT\", \"ns2:Type\": \"0\", \"ns2:KorteNaam\": \"Vathorst\", \"ns2:MiddelNaam\": \"Vathorst\", \"ns2:LangeNaam\": \"Amersfoort Vathorst\", \"ns2:UICCode\": \"8400228\"}], \"ns2:PresentatieTreinVleugelEindBestemming\": {\"ns2:Uitingen\": {\"ns2:Uiting\": \"Amersfoort Vathorst\"}}, \"ns2:StopStations\": [{\"@InfoStatus\": \"Gepland\", \"ns2:Station\": [{\"ns2:StationCode\": \"AMFS\", \"ns2:Type\": \"0\", \"ns2:KorteNaam\": \"Schothorst\", \"ns2:MiddelNaam\": \"Schothorst\", \"ns2:LangeNaam\": \"Amersfoort Schothorst\", \"ns2:UICCode\": \"8400054\"}, {\"ns2:StationCode\": \"AVAT\", \"ns2:Type\": \"0\", \"ns2:KorteNaam\": \"Vathorst\", \"ns2:MiddelNaam\": \"Vathorst\", \"ns2:LangeNaam\": \"Amersfoort Vathorst\", \"ns2:UICCode\": \"8400228\"}]}, {\"@InfoStatus\": \"Actueel\", \"ns2:Station\": [{\"ns2:StationCode\": \"AMFS\", \"ns2:Type\": \"0\", \"ns2:KorteNaam\": \"Schothorst\", \"ns2:MiddelNaam\": \"Schothorst\", \"ns2:LangeNaam\": \"Amersfoort Schothorst\", \"ns2:UICCode\": \"8400054\"}, {\"ns2:StationCode\": \"AVAT\", \"ns2:Type\": \"0\", \"ns2:KorteNaam\": \"Vathorst\", \"ns2:MiddelNaam\": \"Vathorst\", \"ns2:LangeNaam\": \"Amersfoort Vathorst\", \"ns2:UICCode\": \"8400228\"}]}], \"ns2:MaterieelDeelDVS\": [{\"ns2:MaterieelSoort\": \"SLT\", \"ns2:MaterieelAanduiding\": \"4\", \"ns2:MaterieelLengte\": \"6940\", \"ns2:MaterieelDeelVertrekPositie\": \"1\", \"ns2:MaterieelDeelVolgordeVertrek\": \"1\", \"ns2:MaterieelNummer\": \"000000-02444-0\", \"ns2:MaterieelDeelEindBestemming\": [{\"@InfoStatus\": \"Gepland\", \"ns2:StationCode\": \"AVAT\", \"ns2:Type\": \"0\", \"ns2:KorteNaam\": \"Vathorst\", \"ns2:MiddelNaam\": \"Vathorst\", \"ns2:LangeNaam\": \"Amersfoort Vathorst\", \"ns2:UICCode\": \"8400228\"}, {\"@InfoStatus\": \"Actueel\", \"ns2:StationCode\": \"AVAT\", \"ns2:Type\": \"0\", \"ns2:KorteNaam\": \"Vathorst\", \"ns2:MiddelNaam\": \"Vathorst\", \"ns2:LangeNaam\": \"Amersfoort Vathorst\", \"ns2:UICCode\": \"8400228\"}], \"ns2:PresentatieMaterieelDeelEindBestemming\": {\"ns2:Uitingen\": {\"ns2:Uiting\": \"Amersfoort Vathorst\"}}}, {\"ns2:MaterieelSoort\": \"SLT\", \"ns2:MaterieelAanduiding\": \"4\", \"ns2:MaterieelLengte\": \"6940\", \"ns2:MaterieelDeelVertrekPositie\": \"3\", \"ns2:MaterieelDeelVolgordeVertrek\": \"2\", \"ns2:MaterieelNummer\": \"000000-02431-0\", \"ns2:MaterieelDeelEindBestemming\": [{\"@InfoStatus\": \"Gepland\", \"ns2:StationCode\": \"AVAT\", \"ns2:Type\": \"0\", \"ns2:KorteNaam\": \"Vathorst\", \"ns2:MiddelNaam\": \"Vathorst\", \"ns2:LangeNaam\": \"Amersfoort Vathorst\", \"ns2:UICCode\": \"8400228\"}, {\"@InfoStatus\": \"Actueel\", \"ns2:StationCode\": \"AVAT\", \"ns2:Type\": \"0\", \"ns2:KorteNaam\": \"Vathorst\", \"ns2:MiddelNaam\": \"Vathorst\", \"ns2:LangeNaam\": \"Amersfoort Vathorst\", \"ns2:UICCode\": \"8400228\"}], \"ns2:PresentatieMaterieelDeelEindBestemming\": {\"ns2:Uitingen\": {\"ns2:Uiting\": \"Amersfoort Vathorst\"}}}]}, \"ns2:Wijziging\": {\"ns2:WijzigingType\": \"40\"}}}}}}')\n",
      "(None, u'{\"ns1:PutReisInformatieBoodschapIn\": {\"@xmlns:ns1\": \"urn:ndov:cdm:trein:reisinformatie:messages:5\", \"@xmlns:ns2\": \"urn:ndov:cdm:trein:reisinformatie:data:4\", \"ns2:ReisInformatieProductDVS\": {\"@TimeStamp\": \"2020-05-13T17:56:25.114Z\", \"@Versie\": \"6.2\", \"ns2:RIPAdministratie\": {\"ns2:ReisInformatieProductID\": \"2005131956252300002\", \"ns2:AbonnementId\": \"54\", \"ns2:ReisInformatieTijdstip\": \"2020-05-13T17:57:00.000Z\"}, \"ns2:DynamischeVertrekStaat\": {\"ns2:RitId\": \"5075\", \"ns2:RitDatum\": \"2020-05-13\", \"ns2:RitStation\": {\"ns2:StationCode\": \"DTCP\", \"ns2:Type\": \"0\", \"ns2:KorteNaam\": \"Delft Camp\", \"ns2:MiddelNaam\": \"Delft Campus\", \"ns2:LangeNaam\": \"Delft Campus\", \"ns2:UICCode\": \"8400166\"}, \"ns2:Trein\": {\"ns2:TreinNummer\": \"5075\", \"ns2:TreinSoort\": {\"@Code\": \"SPR\", \"#text\": \"Sprinter\"}, \"ns2:TreinFormule\": \"1\", \"ns2:TreinStatus\": \"2\", \"ns2:Vervoerder\": \"NS\", \"ns2:Reserveren\": \"N\", \"ns2:Toeslag\": \"N\", \"ns2:NietInstappen\": \"N\", \"ns2:AchterBlijvenAchtersteTreinDeel\": \"N\", \"ns2:RangeerBeweging\": \"N\", \"ns2:SpeciaalKaartje\": \"N\", \"ns2:TreinEindBestemming\": [{\"@InfoStatus\": \"Gepland\", \"ns2:StationCode\": \"DDR\", \"ns2:Type\": \"5\", \"ns2:KorteNaam\": \"Dordrecht\", \"ns2:MiddelNaam\": \"Dordrecht\", \"ns2:LangeNaam\": \"Dordrecht\", \"ns2:UICCode\": \"8400180\"}, {\"@InfoStatus\": \"Actueel\", \"ns2:StationCode\": \"DDR\", \"ns2:Type\": \"5\", \"ns2:KorteNaam\": \"Dordrecht\", \"ns2:MiddelNaam\": \"Dordrecht\", \"ns2:LangeNaam\": \"Dordrecht\", \"ns2:UICCode\": \"8400180\"}], \"ns2:PresentatieTreinEindBestemming\": {\"ns2:Uitingen\": {\"ns2:Uiting\": \"Dordrecht\"}}, \"ns2:VertrekTijd\": [{\"@InfoStatus\": \"Gepland\", \"#text\": \"2020-05-13T17:57:00.000Z\"}, {\"@InfoStatus\": \"Actueel\", \"#text\": \"2020-05-13T17:57:00.000Z\"}], \"ns2:ExacteVertrekVertraging\": \"PT0S\", \"ns2:GedempteVertrekVertraging\": \"PT0S\", \"ns2:TreinVertrekSpoor\": [{\"@InfoStatus\": \"Gepland\", \"ns2:SpoorNummer\": \"2\"}, {\"@InfoStatus\": \"Actueel\", \"ns2:SpoorNummer\": \"2\"}], \"ns2:PresentatieTreinVertrekSpoor\": {\"ns2:Uitingen\": {\"ns2:Uiting\": \"2\"}}, \"ns2:VertrekRichting\": \"B\", \"ns2:AfstandPerronEindKopVertrekTrein\": \"0\", \"ns2:VerkorteRoute\": [{\"@InfoStatus\": \"Gepland\", \"ns2:Station\": {\"ns2:StationCode\": \"RTD\", \"ns2:Type\": \"6\", \"ns2:KorteNaam\": \"Rotterdm C\", \"ns2:MiddelNaam\": \"Rotterdam C.\", \"ns2:LangeNaam\": \"Rotterdam Centraal\", \"ns2:UICCode\": \"8400530\"}}, {\"@InfoStatus\": \"Actueel\", \"ns2:Station\": {\"ns2:StationCode\": \"RTD\", \"ns2:Type\": \"6\", \"ns2:KorteNaam\": \"Rotterdm C\", \"ns2:MiddelNaam\": \"Rotterdam C.\", \"ns2:LangeNaam\": \"Rotterdam Centraal\", \"ns2:UICCode\": \"8400530\"}}], \"ns2:PresentatieVerkorteRoute\": {\"ns2:Uitingen\": {\"ns2:Uiting\": \"Rotterdam C.\"}}, \"ns2:TreinVleugel\": {\"ns2:TreinVleugelVertrekSpoor\": [{\"@InfoStatus\": \"Gepland\", \"ns2:SpoorNummer\": \"2\"}, {\"@InfoStatus\": \"Actueel\", \"ns2:SpoorNummer\": \"2\"}], \"ns2:PresentatieTreinVleugelVertrekSpoor\": {\"ns2:Uitingen\": {\"ns2:Uiting\": \"2\"}}, \"ns2:TreinVleugelEindBestemming\": [{\"@InfoStatus\": \"Gepland\", \"ns2:StationCode\": \"DDR\", \"ns2:Type\": \"5\", \"ns2:KorteNaam\": \"Dordrecht\", \"ns2:MiddelNaam\": \"Dordrecht\", \"ns2:LangeNaam\": \"Dordrecht\", \"ns2:UICCode\": \"8400180\"}, {\"@InfoStatus\": \"Actueel\", \"ns2:StationCode\": \"DDR\", \"ns2:Type\": \"5\", \"ns2:KorteNaam\": \"Dordrecht\", \"ns2:MiddelNaam\": \"Dordrecht\", \"ns2:LangeNaam\": \"Dordrecht\", \"ns2:UICCode\": \"8400180\"}], \"ns2:PresentatieTreinVleugelEindBestemming\": {\"ns2:Uitingen\": {\"ns2:Uiting\": \"Dordrecht\"}}, \"ns2:StopStations\": [{\"@InfoStatus\": \"Gepland\", \"ns2:Station\": [{\"ns2:StationCode\": \"SDM\", \"ns2:Type\": \"0\", \"ns2:KorteNaam\": \"Schiedam C\", \"ns2:MiddelNaam\": \"Schiedam C.\", \"ns2:LangeNaam\": \"Schiedam Centrum\", \"ns2:UICCode\": \"8400553\"}, {\"ns2:StationCode\": \"RTD\", \"ns2:Type\": \"6\", \"ns2:KorteNaam\": \"Rotterdm C\", \"ns2:MiddelNaam\": \"Rotterdam C.\", \"ns2:LangeNaam\": \"Rotterdam Centraal\", \"ns2:UICCode\": \"8400530\"}, {\"ns2:StationCode\": \"RTB\", \"ns2:Type\": \"0\", \"ns2:KorteNaam\": \"Blaak\", \"ns2:MiddelNaam\": \"Blaak\", \"ns2:LangeNaam\": \"Rotterdam Blaak\", \"ns2:UICCode\": \"8400529\"}, {\"ns2:StationCode\": \"RTZ\", \"ns2:Type\": \"0\", \"ns2:KorteNaam\": \"Rotterdm Z\", \"ns2:MiddelNaam\": \"Rotterdam Z.\", \"ns2:LangeNaam\": \"Rotterdam Zuid\", \"ns2:UICCode\": \"8400533\"}, {\"ns2:StationCode\": \"RLB\", \"ns2:Type\": \"0\", \"ns2:KorteNaam\": \"Lombardije\", \"ns2:MiddelNaam\": \"Lombardijen\", \"ns2:LangeNaam\": \"Rotterdam Lombardijen\", \"ns2:UICCode\": \"8400542\"}, {\"ns2:StationCode\": \"BRD\", \"ns2:Type\": \"0\", \"ns2:KorteNaam\": \"Barendrcht\", \"ns2:MiddelNaam\": \"Barendrecht\", \"ns2:LangeNaam\": \"Barendrecht\", \"ns2:UICCode\": \"8400090\"}, {\"ns2:StationCode\": \"ZWD\", \"ns2:Type\": \"0\", \"ns2:KorteNaam\": \"Zwijndrcht\", \"ns2:MiddelNaam\": \"Zwijndrecht\", \"ns2:LangeNaam\": \"Zwijndrecht\", \"ns2:UICCode\": \"8400752\"}, {\"ns2:StationCode\": \"DDR\", \"ns2:Type\": \"5\", \"ns2:KorteNaam\": \"Dordrecht\", \"ns2:MiddelNaam\": \"Dordrecht\", \"ns2:LangeNaam\": \"Dordrecht\", \"ns2:UICCode\": \"8400180\"}]}, {\"@InfoStatus\": \"Actueel\", \"ns2:Station\": [{\"ns2:StationCode\": \"SDM\", \"ns2:Type\": \"0\", \"ns2:KorteNaam\": \"Schiedam C\", \"ns2:MiddelNaam\": \"Schiedam C.\", \"ns2:LangeNaam\": \"Schiedam Centrum\", \"ns2:UICCode\": \"8400553\"}, {\"ns2:StationCode\": \"RTD\", \"ns2:Type\": \"6\", \"ns2:KorteNaam\": \"Rotterdm C\", \"ns2:MiddelNaam\": \"Rotterdam C.\", \"ns2:LangeNaam\": \"Rotterdam Centraal\", \"ns2:UICCode\": \"8400530\"}, {\"ns2:StationCode\": \"RTB\", \"ns2:Type\": \"0\", \"ns2:KorteNaam\": \"Blaak\", \"ns2:MiddelNaam\": \"Blaak\", \"ns2:LangeNaam\": \"Rotterdam Blaak\", \"ns2:UICCode\": \"8400529\"}, {\"ns2:StationCode\": \"RTZ\", \"ns2:Type\": \"0\", \"ns2:KorteNaam\": \"Rotterdm Z\", \"ns2:MiddelNaam\": \"Rotterdam Z.\", \"ns2:LangeNaam\": \"Rotterdam Zuid\", \"ns2:UICCode\": \"8400533\"}, {\"ns2:StationCode\": \"RLB\", \"ns2:Type\": \"0\", \"ns2:KorteNaam\": \"Lombardije\", \"ns2:MiddelNaam\": \"Lombardijen\", \"ns2:LangeNaam\": \"Rotterdam Lombardijen\", \"ns2:UICCode\": \"8400542\"}, {\"ns2:StationCode\": \"BRD\", \"ns2:Type\": \"0\", \"ns2:KorteNaam\": \"Barendrcht\", \"ns2:MiddelNaam\": \"Barendrecht\", \"ns2:LangeNaam\": \"Barendrecht\", \"ns2:UICCode\": \"8400090\"}, {\"ns2:StationCode\": \"ZWD\", \"ns2:Type\": \"0\", \"ns2:KorteNaam\": \"Zwijndrcht\", \"ns2:MiddelNaam\": \"Zwijndrecht\", \"ns2:LangeNaam\": \"Zwijndrecht\", \"ns2:UICCode\": \"8400752\"}, {\"ns2:StationCode\": \"DDR\", \"ns2:Type\": \"5\", \"ns2:KorteNaam\": \"Dordrecht\", \"ns2:MiddelNaam\": \"Dordrecht\", \"ns2:LangeNaam\": \"Dordrecht\", \"ns2:UICCode\": \"8400180\"}]}], \"ns2:MaterieelDeelDVS\": [{\"ns2:MaterieelSoort\": \"SGMM\", \"ns2:MaterieelAanduiding\": \"3\", \"ns2:MaterieelLengte\": \"7860\", \"ns2:MaterieelDeelVertrekPositie\": \"1\", \"ns2:MaterieelDeelVolgordeVertrek\": \"1\", \"ns2:MaterieelNummer\": \"000000-02968-0\", \"ns2:MaterieelDeelEindBestemming\": [{\"@InfoStatus\": \"Gepland\", \"ns2:StationCode\": \"DDR\", \"ns2:Type\": \"5\", \"ns2:KorteNaam\": \"Dordrecht\", \"ns2:MiddelNaam\": \"Dordrecht\", \"ns2:LangeNaam\": \"Dordrecht\", \"ns2:UICCode\": \"8400180\"}, {\"@InfoStatus\": \"Actueel\", \"ns2:StationCode\": \"DDR\", \"ns2:Type\": \"5\", \"ns2:KorteNaam\": \"Dordrecht\", \"ns2:MiddelNaam\": \"Dordrecht\", \"ns2:LangeNaam\": \"Dordrecht\", \"ns2:UICCode\": \"8400180\"}], \"ns2:PresentatieMaterieelDeelEindBestemming\": {\"ns2:Uitingen\": {\"ns2:Uiting\": \"Dordrecht\"}}}, {\"ns2:MaterieelSoort\": \"SGMM\", \"ns2:MaterieelAanduiding\": \"3\", \"ns2:MaterieelLengte\": \"7860\", \"ns2:MaterieelDeelVertrekPositie\": \"3\", \"ns2:MaterieelDeelVolgordeVertrek\": \"2\", \"ns2:MaterieelNummer\": \"000000-02979-0\", \"ns2:MaterieelDeelEindBestemming\": [{\"@InfoStatus\": \"Gepland\", \"ns2:StationCode\": \"DDR\", \"ns2:Type\": \"5\", \"ns2:KorteNaam\": \"Dordrecht\", \"ns2:MiddelNaam\": \"Dordrecht\", \"ns2:LangeNaam\": \"Dordrecht\", \"ns2:UICCode\": \"8400180\"}, {\"@InfoStatus\": \"Actueel\", \"ns2:StationCode\": \"DDR\", \"ns2:Type\": \"5\", \"ns2:KorteNaam\": \"Dordrecht\", \"ns2:MiddelNaam\": \"Dordrecht\", \"ns2:LangeNaam\": \"Dordrecht\", \"ns2:UICCode\": \"8400180\"}], \"ns2:PresentatieMaterieelDeelEindBestemming\": {\"ns2:Uitingen\": {\"ns2:Uiting\": \"Dordrecht\"}}}]}, \"ns2:Wijziging\": {\"ns2:WijzigingType\": \"40\"}}}}}}')\n",
      "(None, u'{\"ns1:PutReisInformatieBoodschapIn\": {\"@xmlns:ns1\": \"urn:ndov:cdm:trein:reisinformatie:messages:5\", \"@xmlns:ns2\": \"urn:ndov:cdm:trein:reisinformatie:data:4\", \"ns2:ReisInformatieProductDVS\": {\"@TimeStamp\": \"2020-05-13T17:56:25.137Z\", \"@Versie\": \"6.2\", \"ns2:RIPAdministratie\": {\"ns2:ReisInformatieProductID\": \"2005131956252300004\", \"ns2:AbonnementId\": \"54\", \"ns2:ReisInformatieTijdstip\": \"2020-05-13T17:56:00.000Z\"}, \"ns2:DynamischeVertrekStaat\": {\"ns2:RitId\": \"2462\", \"ns2:RitDatum\": \"2020-05-13\", \"ns2:RitStation\": {\"ns2:StationCode\": \"ASDZ\", \"ns2:Type\": \"4\", \"ns2:KorteNaam\": \"Amsterdm Z\", \"ns2:MiddelNaam\": \"Amsterdam Z.\", \"ns2:LangeNaam\": \"Amsterdam Zuid\", \"ns2:UICCode\": \"8400061\"}, \"ns2:Trein\": {\"ns2:TreinNummer\": \"2462\", \"ns2:TreinSoort\": {\"@Code\": \"IC\", \"#text\": \"Intercity\"}, \"ns2:TreinFormule\": \"3\", \"ns2:TreinStatus\": \"5\", \"ns2:Vervoerder\": \"NS\", \"ns2:Reserveren\": \"N\", \"ns2:Toeslag\": \"N\", \"ns2:NietInstappen\": \"N\", \"ns2:AchterBlijvenAchtersteTreinDeel\": \"N\", \"ns2:RangeerBeweging\": \"N\", \"ns2:SpeciaalKaartje\": \"N\", \"ns2:ReisTip\": {\"ns2:ReisTipStation\": [{\"ns2:StationCode\": \"DVD\", \"ns2:Type\": \"1\", \"ns2:KorteNaam\": \"Duivendrt\", \"ns2:MiddelNaam\": \"Duivendrecht\", \"ns2:LangeNaam\": \"Duivendrecht\", \"ns2:UICCode\": \"8400194\"}, {\"ns2:StationCode\": \"ALMB\", \"ns2:Type\": \"0\", \"ns2:KorteNaam\": \"Buiten\", \"ns2:MiddelNaam\": \"Buiten\", \"ns2:LangeNaam\": \"Almere Buiten\", \"ns2:UICCode\": \"8400081\"}], \"ns2:ReisTipCode\": \"STO\", \"ns2:PresentatieReisTip\": {\"ns2:Uitingen\": [{\"@Taal\": \"nl\", \"ns2:Uiting\": {\"@Prioriteit\": \"7\", \"#text\": \"Stopt ook in Duivendrecht, Buiten\"}}, {\"@Taal\": \"en\", \"ns2:Uiting\": {\"@Prioriteit\": \"7\", \"#text\": \"Also stopping in Duivendrecht, Buiten\"}}]}}, \"ns2:TreinEindBestemming\": [{\"@InfoStatus\": \"Gepland\", \"ns2:StationCode\": \"LLS\", \"ns2:Type\": \"5\", \"ns2:KorteNaam\": \"Lelystad C\", \"ns2:MiddelNaam\": \"Lelystad C.\", \"ns2:LangeNaam\": \"Lelystad Centrum\", \"ns2:UICCode\": \"8400394\"}, {\"@InfoStatus\": \"Actueel\", \"ns2:StationCode\": \"LLS\", \"ns2:Type\": \"5\", \"ns2:KorteNaam\": \"Lelystad C\", \"ns2:MiddelNaam\": \"Lelystad C.\", \"ns2:LangeNaam\": \"Lelystad Centrum\", \"ns2:UICCode\": \"8400394\"}], \"ns2:PresentatieTreinEindBestemming\": {\"ns2:Uitingen\": {\"ns2:Uiting\": \"Lelystad Centrum\"}}, \"ns2:VertrekTijd\": [{\"@InfoStatus\": \"Gepland\", \"#text\": \"2020-05-13T17:56:00.000Z\"}, {\"@InfoStatus\": \"Actueel\", \"#text\": \"2020-05-13T17:56:00.000Z\"}], \"ns2:ExacteVertrekVertraging\": \"PT0S\", \"ns2:GedempteVertrekVertraging\": \"PT0S\", \"ns2:TreinVertrekSpoor\": [{\"@InfoStatus\": \"Gepland\", \"ns2:SpoorNummer\": \"1\"}, {\"@InfoStatus\": \"Actueel\", \"ns2:SpoorNummer\": \"1\"}], \"ns2:PresentatieTreinVertrekSpoor\": {\"ns2:Uitingen\": {\"ns2:Uiting\": \"1\"}}, \"ns2:VertrekRichting\": \"A\", \"ns2:AfstandPerronEindKopVertrekTrein\": \"0\", \"ns2:VerkorteRoute\": [{\"@InfoStatus\": \"Gepland\", \"ns2:Station\": {\"ns2:StationCode\": \"ALM\", \"ns2:Type\": \"5\", \"ns2:KorteNaam\": \"Almere C\", \"ns2:MiddelNaam\": \"Almere C.\", \"ns2:LangeNaam\": \"Almere Centrum\", \"ns2:UICCode\": \"8400080\"}}, {\"@InfoStatus\": \"Actueel\", \"ns2:Station\": {\"ns2:StationCode\": \"ALM\", \"ns2:Type\": \"5\", \"ns2:KorteNaam\": \"Almere C\", \"ns2:MiddelNaam\": \"Almere C.\", \"ns2:LangeNaam\": \"Almere Centrum\", \"ns2:UICCode\": \"8400080\"}}], \"ns2:PresentatieVerkorteRoute\": {\"ns2:Uitingen\": {\"ns2:Uiting\": \"Almere C.\"}}, \"ns2:TreinVleugel\": {\"ns2:TreinVleugelVertrekSpoor\": [{\"@InfoStatus\": \"Gepland\", \"ns2:SpoorNummer\": \"1\"}, {\"@InfoStatus\": \"Actueel\", \"ns2:SpoorNummer\": \"1\"}], \"ns2:PresentatieTreinVleugelVertrekSpoor\": {\"ns2:Uitingen\": {\"ns2:Uiting\": \"1\"}}, \"ns2:TreinVleugelEindBestemming\": [{\"@InfoStatus\": \"Gepland\", \"ns2:StationCode\": \"LLS\", \"ns2:Type\": \"5\", \"ns2:KorteNaam\": \"Lelystad C\", \"ns2:MiddelNaam\": \"Lelystad C.\", \"ns2:LangeNaam\": \"Lelystad Centrum\", \"ns2:UICCode\": \"8400394\"}, {\"@InfoStatus\": \"Actueel\", \"ns2:StationCode\": \"LLS\", \"ns2:Type\": \"5\", \"ns2:KorteNaam\": \"Lelystad C\", \"ns2:MiddelNaam\": \"Lelystad C.\", \"ns2:LangeNaam\": \"Lelystad Centrum\", \"ns2:UICCode\": \"8400394\"}], \"ns2:PresentatieTreinVleugelEindBestemming\": {\"ns2:Uitingen\": {\"ns2:Uiting\": \"Lelystad Centrum\"}}, \"ns2:StopStations\": [{\"@InfoStatus\": \"Gepland\", \"ns2:Station\": [{\"ns2:StationCode\": \"DVD\", \"ns2:Type\": \"1\", \"ns2:KorteNaam\": \"Duivendrt\", \"ns2:MiddelNaam\": \"Duivendrecht\", \"ns2:LangeNaam\": \"Duivendrecht\", \"ns2:UICCode\": \"8400194\"}, {\"ns2:StationCode\": \"ALM\", \"ns2:Type\": \"5\", \"ns2:KorteNaam\": \"Almere C\", \"ns2:MiddelNaam\": \"Almere C.\", \"ns2:LangeNaam\": \"Almere Centrum\", \"ns2:UICCode\": \"8400080\"}, {\"ns2:StationCode\": \"ALMB\", \"ns2:Type\": \"0\", \"ns2:KorteNaam\": \"Buiten\", \"ns2:MiddelNaam\": \"Buiten\", \"ns2:LangeNaam\": \"Almere Buiten\", \"ns2:UICCode\": \"8400081\"}, {\"ns2:StationCode\": \"LLS\", \"ns2:Type\": \"5\", \"ns2:KorteNaam\": \"Lelystad C\", \"ns2:MiddelNaam\": \"Lelystad C.\", \"ns2:LangeNaam\": \"Lelystad Centrum\", \"ns2:UICCode\": \"8400394\"}]}, {\"@InfoStatus\": \"Actueel\", \"ns2:Station\": [{\"ns2:StationCode\": \"DVD\", \"ns2:Type\": \"1\", \"ns2:KorteNaam\": \"Duivendrt\", \"ns2:MiddelNaam\": \"Duivendrecht\", \"ns2:LangeNaam\": \"Duivendrecht\", \"ns2:UICCode\": \"8400194\"}, {\"ns2:StationCode\": \"ALM\", \"ns2:Type\": \"5\", \"ns2:KorteNaam\": \"Almere C\", \"ns2:MiddelNaam\": \"Almere C.\", \"ns2:LangeNaam\": \"Almere Centrum\", \"ns2:UICCode\": \"8400080\"}, {\"ns2:StationCode\": \"ALMB\", \"ns2:Type\": \"0\", \"ns2:KorteNaam\": \"Buiten\", \"ns2:MiddelNaam\": \"Buiten\", \"ns2:LangeNaam\": \"Almere Buiten\", \"ns2:UICCode\": \"8400081\"}, {\"ns2:StationCode\": \"LLS\", \"ns2:Type\": \"5\", \"ns2:KorteNaam\": \"Lelystad C\", \"ns2:MiddelNaam\": \"Lelystad C.\", \"ns2:LangeNaam\": \"Lelystad Centrum\", \"ns2:UICCode\": \"8400394\"}]}], \"ns2:MaterieelDeelDVS\": {\"ns2:MaterieelSoort\": \"VIRM\", \"ns2:MaterieelAanduiding\": \"4\", \"ns2:MaterieelLengte\": \"10860\", \"ns2:MaterieelNummer\": \"000000-09550-0\", \"ns2:MaterieelDeelEindBestemming\": [{\"@InfoStatus\": \"Gepland\", \"ns2:StationCode\": \"LLS\", \"ns2:Type\": \"5\", \"ns2:KorteNaam\": \"Lelystad C\", \"ns2:MiddelNaam\": \"Lelystad C.\", \"ns2:LangeNaam\": \"Lelystad Centrum\", \"ns2:UICCode\": \"8400394\"}, {\"@InfoStatus\": \"Actueel\", \"ns2:StationCode\": \"LLS\", \"ns2:Type\": \"5\", \"ns2:KorteNaam\": \"Lelystad C\", \"ns2:MiddelNaam\": \"Lelystad C.\", \"ns2:LangeNaam\": \"Lelystad Centrum\", \"ns2:UICCode\": \"8400394\"}], \"ns2:PresentatieMaterieelDeelEindBestemming\": {\"ns2:Uitingen\": {\"ns2:Uiting\": \"Lelystad Centrum\"}}}}, \"ns2:Wijziging\": {\"ns2:WijzigingType\": \"40\"}}, \"ns2:PresentatieOpmerkingen\": {\"ns2:Uitingen\": [{\"@Taal\": \"nl\", \"ns2:Uiting\": {\"@Prioriteit\": \"13\", \"@ReferentieType\": \"ReisTip\", \"@ReferentieWaarde\": \"STO\", \"#text\": \"Stopt ook in Duivendrecht, Buiten\"}}, {\"@Taal\": \"en\", \"ns2:Uiting\": {\"@Prioriteit\": \"13\", \"@ReferentieType\": \"ReisTip\", \"@ReferentieWaarde\": \"STO\", \"#text\": \"Also stopping in Duivendrecht, Buiten\"}}]}}}}}')\n",
      "(None, u'{\"ns1:PutReisInformatieBoodschapIn\": {\"@xmlns:ns1\": \"urn:ndov:cdm:trein:reisinformatie:messages:5\", \"@xmlns:ns2\": \"urn:ndov:cdm:trein:reisinformatie:data:4\", \"ns2:ReisInformatieProductDVS\": {\"@TimeStamp\": \"2020-05-13T17:56:27.132Z\", \"@Versie\": \"6.2\", \"ns2:RIPAdministratie\": {\"ns2:ReisInformatieProductID\": \"2005131956272300001\", \"ns2:AbonnementId\": \"54\", \"ns2:ReisInformatieTijdstip\": \"2020-05-13T17:58:00.000Z\"}, \"ns2:DynamischeVertrekStaat\": {\"ns2:RitId\": \"2475\", \"ns2:RitDatum\": \"2020-05-13\", \"ns2:RitStation\": {\"ns2:StationCode\": \"SDM\", \"ns2:Type\": \"0\", \"ns2:KorteNaam\": \"Schiedam C\", \"ns2:MiddelNaam\": \"Schiedam C.\", \"ns2:LangeNaam\": \"Schiedam Centrum\", \"ns2:UICCode\": \"8400553\"}, \"ns2:Trein\": {\"ns2:TreinNummer\": \"2475\", \"ns2:TreinSoort\": {\"@Code\": \"IC\", \"#text\": \"Intercity\"}, \"ns2:TreinFormule\": \"3\", \"ns2:TreinStatus\": \"2\", \"ns2:Vervoerder\": \"NS\", \"ns2:Reserveren\": \"N\", \"ns2:Toeslag\": \"N\", \"ns2:NietInstappen\": \"N\", \"ns2:AchterBlijvenAchtersteTreinDeel\": \"N\", \"ns2:RangeerBeweging\": \"N\", \"ns2:SpeciaalKaartje\": \"N\", \"ns2:ReisTip\": {\"ns2:ReisTipStation\": {\"ns2:StationCode\": \"RTB\", \"ns2:Type\": \"0\", \"ns2:KorteNaam\": \"Blaak\", \"ns2:MiddelNaam\": \"Blaak\", \"ns2:LangeNaam\": \"Rotterdam Blaak\", \"ns2:UICCode\": \"8400529\"}, \"ns2:ReisTipCode\": \"STO\", \"ns2:PresentatieReisTip\": {\"ns2:Uitingen\": [{\"@Taal\": \"nl\", \"ns2:Uiting\": {\"@Prioriteit\": \"7\", \"#text\": \"Stopt ook in Blaak\"}}, {\"@Taal\": \"en\", \"ns2:Uiting\": {\"@Prioriteit\": \"7\", \"#text\": \"Also stopping in Blaak\"}}]}}, \"ns2:TreinEindBestemming\": [{\"@InfoStatus\": \"Gepland\", \"ns2:StationCode\": \"DDR\", \"ns2:Type\": \"5\", \"ns2:KorteNaam\": \"Dordrecht\", \"ns2:MiddelNaam\": \"Dordrecht\", \"ns2:LangeNaam\": \"Dordrecht\", \"ns2:UICCode\": \"8400180\"}, {\"@InfoStatus\": \"Actueel\", \"ns2:StationCode\": \"DDR\", \"ns2:Type\": \"5\", \"ns2:KorteNaam\": \"Dordrecht\", \"ns2:MiddelNaam\": \"Dordrecht\", \"ns2:LangeNaam\": \"Dordrecht\", \"ns2:UICCode\": \"8400180\"}], \"ns2:PresentatieTreinEindBestemming\": {\"ns2:Uitingen\": {\"ns2:Uiting\": \"Dordrecht\"}}, \"ns2:VertrekTijd\": [{\"@InfoStatus\": \"Gepland\", \"#text\": \"2020-05-13T17:58:00.000Z\"}, {\"@InfoStatus\": \"Actueel\", \"#text\": \"2020-05-13T17:58:00.000Z\"}], \"ns2:ExacteVertrekVertraging\": \"PT0S\", \"ns2:GedempteVertrekVertraging\": \"PT0S\", \"ns2:TreinVertrekSpoor\": [{\"@InfoStatus\": \"Gepland\", \"ns2:SpoorNummer\": \"3\"}, {\"@InfoStatus\": \"Actueel\", \"ns2:SpoorNummer\": \"3\"}], \"ns2:PresentatieTreinVertrekSpoor\": {\"ns2:Uitingen\": {\"ns2:Uiting\": \"3\"}}, \"ns2:VertrekRichting\": \"B\", \"ns2:AfstandPerronEindKopVertrekTrein\": \"0\", \"ns2:VerkorteRoute\": [{\"@InfoStatus\": \"Gepland\", \"ns2:Station\": {\"ns2:StationCode\": \"RTD\", \"ns2:Type\": \"6\", \"ns2:KorteNaam\": \"Rotterdm C\", \"ns2:MiddelNaam\": \"Rotterdam C.\", \"ns2:LangeNaam\": \"Rotterdam Centraal\", \"ns2:UICCode\": \"8400530\"}}, {\"@InfoStatus\": \"Actueel\", \"ns2:Station\": {\"ns2:StationCode\": \"RTD\", \"ns2:Type\": \"6\", \"ns2:KorteNaam\": \"Rotterdm C\", \"ns2:MiddelNaam\": \"Rotterdam C.\", \"ns2:LangeNaam\": \"Rotterdam Centraal\", \"ns2:UICCode\": \"8400530\"}}], \"ns2:PresentatieVerkorteRoute\": {\"ns2:Uitingen\": {\"ns2:Uiting\": \"Rotterdam C.\"}}, \"ns2:TreinVleugel\": {\"ns2:TreinVleugelVertrekSpoor\": [{\"@InfoStatus\": \"Gepland\", \"ns2:SpoorNummer\": \"3\"}, {\"@InfoStatus\": \"Actueel\", \"ns2:SpoorNummer\": \"3\"}], \"ns2:PresentatieTreinVleugelVertrekSpoor\": {\"ns2:Uitingen\": {\"ns2:Uiting\": \"3\"}}, \"ns2:TreinVleugelEindBestemming\": [{\"@InfoStatus\": \"Gepland\", \"ns2:StationCode\": \"DDR\", \"ns2:Type\": \"5\", \"ns2:KorteNaam\": \"Dordrecht\", \"ns2:MiddelNaam\": \"Dordrecht\", \"ns2:LangeNaam\": \"Dordrecht\", \"ns2:UICCode\": \"8400180\"}, {\"@InfoStatus\": \"Actueel\", \"ns2:StationCode\": \"DDR\", \"ns2:Type\": \"5\", \"ns2:KorteNaam\": \"Dordrecht\", \"ns2:MiddelNaam\": \"Dordrecht\", \"ns2:LangeNaam\": \"Dordrecht\", \"ns2:UICCode\": \"8400180\"}], \"ns2:PresentatieTreinVleugelEindBestemming\": {\"ns2:Uitingen\": {\"ns2:Uiting\": \"Dordrecht\"}}, \"ns2:StopStations\": [{\"@InfoStatus\": \"Gepland\", \"ns2:Station\": [{\"ns2:StationCode\": \"RTD\", \"ns2:Type\": \"6\", \"ns2:KorteNaam\": \"Rotterdm C\", \"ns2:MiddelNaam\": \"Rotterdam C.\", \"ns2:LangeNaam\": \"Rotterdam Centraal\", \"ns2:UICCode\": \"8400530\"}, {\"ns2:StationCode\": \"RTB\", \"ns2:Type\": \"0\", \"ns2:KorteNaam\": \"Blaak\", \"ns2:MiddelNaam\": \"Blaak\", \"ns2:LangeNaam\": \"Rotterdam Blaak\", \"ns2:UICCode\": \"8400529\"}, {\"ns2:StationCode\": \"DDR\", \"ns2:Type\": \"5\", \"ns2:KorteNaam\": \"Dordrecht\", \"ns2:MiddelNaam\": \"Dordrecht\", \"ns2:LangeNaam\": \"Dordrecht\", \"ns2:UICCode\": \"8400180\"}]}, {\"@InfoStatus\": \"Actueel\", \"ns2:Station\": [{\"ns2:StationCode\": \"RTD\", \"ns2:Type\": \"6\", \"ns2:KorteNaam\": \"Rotterdm C\", \"ns2:MiddelNaam\": \"Rotterdam C.\", \"ns2:LangeNaam\": \"Rotterdam Centraal\", \"ns2:UICCode\": \"8400530\"}, {\"ns2:StationCode\": \"RTB\", \"ns2:Type\": \"0\", \"ns2:KorteNaam\": \"Blaak\", \"ns2:MiddelNaam\": \"Blaak\", \"ns2:LangeNaam\": \"Rotterdam Blaak\", \"ns2:UICCode\": \"8400529\"}, {\"ns2:StationCode\": \"DDR\", \"ns2:Type\": \"5\", \"ns2:KorteNaam\": \"Dordrecht\", \"ns2:MiddelNaam\": \"Dordrecht\", \"ns2:LangeNaam\": \"Dordrecht\", \"ns2:UICCode\": \"8400180\"}]}], \"ns2:MaterieelDeelDVS\": {\"ns2:MaterieelSoort\": \"VIRM\", \"ns2:MaterieelAanduiding\": \"6\", \"ns2:MaterieelLengte\": \"16210\", \"ns2:MaterieelNummer\": \"000000-08666-0\", \"ns2:MaterieelDeelEindBestemming\": [{\"@InfoStatus\": \"Gepland\", \"ns2:StationCode\": \"DDR\", \"ns2:Type\": \"5\", \"ns2:KorteNaam\": \"Dordrecht\", \"ns2:MiddelNaam\": \"Dordrecht\", \"ns2:LangeNaam\": \"Dordrecht\", \"ns2:UICCode\": \"8400180\"}, {\"@InfoStatus\": \"Actueel\", \"ns2:StationCode\": \"DDR\", \"ns2:Type\": \"5\", \"ns2:KorteNaam\": \"Dordrecht\", \"ns2:MiddelNaam\": \"Dordrecht\", \"ns2:LangeNaam\": \"Dordrecht\", \"ns2:UICCode\": \"8400180\"}], \"ns2:PresentatieMaterieelDeelEindBestemming\": {\"ns2:Uitingen\": {\"ns2:Uiting\": \"Dordrecht\"}}}}, \"ns2:Wijziging\": {\"ns2:WijzigingType\": \"40\"}}, \"ns2:PresentatieOpmerkingen\": {\"ns2:Uitingen\": [{\"@Taal\": \"nl\", \"ns2:Uiting\": {\"@Prioriteit\": \"13\", \"@ReferentieType\": \"ReisTip\", \"@ReferentieWaarde\": \"STO\", \"#text\": \"Stopt ook in Blaak\"}}, {\"@Taal\": \"en\", \"ns2:Uiting\": {\"@Prioriteit\": \"13\", \"@ReferentieType\": \"ReisTip\", \"@ReferentieWaarde\": \"STO\", \"#text\": \"Also stopping in Blaak\"}}]}}}}}')\n",
      "(None, u'{\"ns1:PutReisInformatieBoodschapIn\": {\"@xmlns:ns1\": \"urn:ndov:cdm:trein:reisinformatie:messages:5\", \"@xmlns:ns2\": \"urn:ndov:cdm:trein:reisinformatie:data:4\", \"ns2:ReisInformatieProductDVS\": {\"@TimeStamp\": \"2020-05-13T17:56:29.999Z\", \"@Versie\": \"6.2\", \"ns2:RIPAdministratie\": {\"ns2:ReisInformatieProductID\": \"2005131956292100002\", \"ns2:AbonnementId\": \"54\", \"ns2:ReisInformatieTijdstip\": \"2020-05-13T17:55:00.000Z\"}, \"ns2:DynamischeVertrekStaat\": {\"ns2:RitId\": \"5970\", \"ns2:RitDatum\": \"2020-05-13\", \"ns2:RitStation\": {\"ns2:StationCode\": \"ZLW\", \"ns2:Type\": \"1\", \"ns2:KorteNaam\": \"Lage Zwalu\", \"ns2:MiddelNaam\": \"Lage Zwaluwe\", \"ns2:LangeNaam\": \"Lage Zwaluwe\", \"ns2:UICCode\": \"8400382\"}, \"ns2:Trein\": {\"ns2:TreinNummer\": \"5970\", \"ns2:TreinSoort\": {\"@Code\": \"SPR\", \"#text\": \"Sprinter\"}, \"ns2:TreinFormule\": \"1\", \"ns2:TreinStatus\": \"2\", \"ns2:Vervoerder\": \"NS\", \"ns2:Reserveren\": \"N\", \"ns2:Toeslag\": \"N\", \"ns2:NietInstappen\": \"N\", \"ns2:AchterBlijvenAchtersteTreinDeel\": \"N\", \"ns2:RangeerBeweging\": \"N\", \"ns2:SpeciaalKaartje\": \"N\", \"ns2:TreinEindBestemming\": [{\"@InfoStatus\": \"Gepland\", \"ns2:StationCode\": \"DDR\", \"ns2:Type\": \"5\", \"ns2:KorteNaam\": \"Dordrecht\", \"ns2:MiddelNaam\": \"Dordrecht\", \"ns2:LangeNaam\": \"Dordrecht\", \"ns2:UICCode\": \"8400180\"}, {\"@InfoStatus\": \"Actueel\", \"ns2:StationCode\": \"DDR\", \"ns2:Type\": \"5\", \"ns2:KorteNaam\": \"Dordrecht\", \"ns2:MiddelNaam\": \"Dordrecht\", \"ns2:LangeNaam\": \"Dordrecht\", \"ns2:UICCode\": \"8400180\"}], \"ns2:PresentatieTreinEindBestemming\": {\"ns2:Uitingen\": {\"ns2:Uiting\": \"Dordrecht\"}}, \"ns2:VertrekTijd\": [{\"@InfoStatus\": \"Gepland\", \"#text\": \"2020-05-13T17:55:00.000Z\"}, {\"@InfoStatus\": \"Actueel\", \"#text\": \"2020-05-13T17:57:11.000Z\"}], \"ns2:ExacteVertrekVertraging\": \"PT2M11S\", \"ns2:PresentatieVertrekVertraging\": {\"ns2:Uitingen\": {\"ns2:Uiting\": \"+2 min.\"}}, \"ns2:GedempteVertrekVertraging\": \"PT0S\", \"ns2:TreinVertrekSpoor\": [{\"@InfoStatus\": \"Gepland\", \"ns2:SpoorNummer\": \"2\"}, {\"@InfoStatus\": \"Actueel\", \"ns2:SpoorNummer\": \"2\"}], \"ns2:PresentatieTreinVertrekSpoor\": {\"ns2:Uitingen\": {\"ns2:Uiting\": \"2\"}}, \"ns2:VertrekRichting\": \"A\", \"ns2:AfstandPerronEindKopVertrekTrein\": \"0\", \"ns2:TreinVleugel\": {\"ns2:TreinVleugelVertrekSpoor\": [{\"@InfoStatus\": \"Gepland\", \"ns2:SpoorNummer\": \"2\"}, {\"@InfoStatus\": \"Actueel\", \"ns2:SpoorNummer\": \"2\"}], \"ns2:PresentatieTreinVleugelVertrekSpoor\": {\"ns2:Uitingen\": {\"ns2:Uiting\": \"2\"}}, \"ns2:TreinVleugelEindBestemming\": [{\"@InfoStatus\": \"Gepland\", \"ns2:StationCode\": \"DDR\", \"ns2:Type\": \"5\", \"ns2:KorteNaam\": \"Dordrecht\", \"ns2:MiddelNaam\": \"Dordrecht\", \"ns2:LangeNaam\": \"Dordrecht\", \"ns2:UICCode\": \"8400180\"}, {\"@InfoStatus\": \"Actueel\", \"ns2:StationCode\": \"DDR\", \"ns2:Type\": \"5\", \"ns2:KorteNaam\": \"Dordrecht\", \"ns2:MiddelNaam\": \"Dordrecht\", \"ns2:LangeNaam\": \"Dordrecht\", \"ns2:UICCode\": \"8400180\"}], \"ns2:PresentatieTreinVleugelEindBestemming\": {\"ns2:Uitingen\": {\"ns2:Uiting\": \"Dordrecht\"}}, \"ns2:StopStations\": [{\"@InfoStatus\": \"Gepland\", \"ns2:Station\": [{\"ns2:StationCode\": \"DDZD\", \"ns2:Type\": \"0\", \"ns2:KorteNaam\": \"Dordrcht Z\", \"ns2:MiddelNaam\": \"Dordrecht Z.\", \"ns2:LangeNaam\": \"Dordrecht Zuid\", \"ns2:UICCode\": \"8400181\"}, {\"ns2:StationCode\": \"DDR\", \"ns2:Type\": \"5\", \"ns2:KorteNaam\": \"Dordrecht\", \"ns2:MiddelNaam\": \"Dordrecht\", \"ns2:LangeNaam\": \"Dordrecht\", \"ns2:UICCode\": \"8400180\"}]}, {\"@InfoStatus\": \"Actueel\", \"ns2:Station\": [{\"ns2:StationCode\": \"DDZD\", \"ns2:Type\": \"0\", \"ns2:KorteNaam\": \"Dordrcht Z\", \"ns2:MiddelNaam\": \"Dordrecht Z.\", \"ns2:LangeNaam\": \"Dordrecht Zuid\", \"ns2:UICCode\": \"8400181\"}, {\"ns2:StationCode\": \"DDR\", \"ns2:Type\": \"5\", \"ns2:KorteNaam\": \"Dordrecht\", \"ns2:MiddelNaam\": \"Dordrecht\", \"ns2:LangeNaam\": \"Dordrecht\", \"ns2:UICCode\": \"8400180\"}]}], \"ns2:MaterieelDeelDVS\": {\"ns2:MaterieelSoort\": \"FLIRT FFF\", \"ns2:MaterieelAanduiding\": \"4\", \"ns2:MaterieelLengte\": \"8070\", \"ns2:MaterieelNummer\": \"000000-02522-0\", \"ns2:MaterieelDeelEindBestemming\": [{\"@InfoStatus\": \"Gepland\", \"ns2:StationCode\": \"DDR\", \"ns2:Type\": \"5\", \"ns2:KorteNaam\": \"Dordrecht\", \"ns2:MiddelNaam\": \"Dordrecht\", \"ns2:LangeNaam\": \"Dordrecht\", \"ns2:UICCode\": \"8400180\"}, {\"@InfoStatus\": \"Actueel\", \"ns2:StationCode\": \"DDR\", \"ns2:Type\": \"5\", \"ns2:KorteNaam\": \"Dordrecht\", \"ns2:MiddelNaam\": \"Dordrecht\", \"ns2:LangeNaam\": \"Dordrecht\", \"ns2:UICCode\": \"8400180\"}], \"ns2:PresentatieMaterieelDeelEindBestemming\": {\"ns2:Uitingen\": {\"ns2:Uiting\": \"Dordrecht\"}}}}, \"ns2:Wijziging\": [{\"ns2:WijzigingType\": \"10\", \"ns2:PresentatieWijziging\": {\"ns2:Uitingen\": [{\"@Taal\": \"nl\", \"ns2:Uiting\": {\"@Prioriteit\": \"10\", \"#text\": \"Later vertrek\"}}, {\"@Taal\": \"en\", \"ns2:Uiting\": {\"@Prioriteit\": \"10\", \"#text\": \"Delayed\"}}]}}, {\"ns2:WijzigingType\": \"40\"}]}, \"ns2:PresentatieOpmerkingen\": {\"ns2:Uitingen\": [{\"@Taal\": \"nl\", \"ns2:Uiting\": {\"@Prioriteit\": \"20\", \"@ReferentieType\": \"Wijziging\", \"@ReferentieWaarde\": \"10\", \"#text\": \"Later vertrek\"}}, {\"@Taal\": \"en\", \"ns2:Uiting\": {\"@Prioriteit\": \"20\", \"@ReferentieType\": \"Wijziging\", \"@ReferentieWaarde\": \"10\", \"#text\": \"Delayed\"}}]}}}}}')\n",
      "(None, u'{\"ns1:PutReisInformatieBoodschapIn\": {\"@xmlns:ns1\": \"urn:ndov:cdm:trein:reisinformatie:messages:5\", \"@xmlns:ns2\": \"urn:ndov:cdm:trein:reisinformatie:data:4\", \"ns2:ReisInformatieProductDVS\": {\"@TimeStamp\": \"2020-05-13T17:56:30.050Z\", \"@Versie\": \"6.2\", \"ns2:RIPAdministratie\": {\"ns2:ReisInformatieProductID\": \"2005131956302100001\", \"ns2:AbonnementId\": \"54\", \"ns2:ReisInformatieTijdstip\": \"2020-05-13T17:56:00.000Z\"}, \"ns2:DynamischeVertrekStaat\": {\"ns2:RitId\": \"9074\", \"ns2:RitDatum\": \"2020-05-13\", \"ns2:RitStation\": {\"ns2:StationCode\": \"HR\", \"ns2:Type\": \"4\", \"ns2:KorteNaam\": \"Heerenveen\", \"ns2:MiddelNaam\": \"Heerenveen\", \"ns2:LangeNaam\": \"Heerenveen\", \"ns2:UICCode\": \"8400305\"}, \"ns2:Trein\": {\"ns2:TreinNummer\": \"9074\", \"ns2:TreinSoort\": {\"@Code\": \"SPR\", \"#text\": \"Sprinter\"}, \"ns2:TreinFormule\": \"1\", \"ns2:TreinStatus\": \"2\", \"ns2:Vervoerder\": \"NS\", \"ns2:Reserveren\": \"N\", \"ns2:Toeslag\": \"N\", \"ns2:NietInstappen\": \"N\", \"ns2:AchterBlijvenAchtersteTreinDeel\": \"N\", \"ns2:RangeerBeweging\": \"N\", \"ns2:SpeciaalKaartje\": \"N\", \"ns2:TreinEindBestemming\": [{\"@InfoStatus\": \"Gepland\", \"ns2:StationCode\": \"MP\", \"ns2:Type\": \"1\", \"ns2:KorteNaam\": \"Meppel\", \"ns2:MiddelNaam\": \"Meppel\", \"ns2:LangeNaam\": \"Meppel\", \"ns2:UICCode\": \"8400435\"}, {\"@InfoStatus\": \"Actueel\", \"ns2:StationCode\": \"MP\", \"ns2:Type\": \"1\", \"ns2:KorteNaam\": \"Meppel\", \"ns2:MiddelNaam\": \"Meppel\", \"ns2:LangeNaam\": \"Meppel\", \"ns2:UICCode\": \"8400435\"}], \"ns2:PresentatieTreinEindBestemming\": {\"ns2:Uitingen\": {\"ns2:Uiting\": \"Meppel\"}}, \"ns2:VertrekTijd\": [{\"@InfoStatus\": \"Gepland\", \"#text\": \"2020-05-13T17:56:00.000Z\"}, {\"@InfoStatus\": \"Actueel\", \"#text\": \"2020-05-13T17:57:02.000Z\"}], \"ns2:ExacteVertrekVertraging\": \"PT1M2S\", \"ns2:PresentatieVertrekVertraging\": {\"ns2:Uitingen\": {\"ns2:Uiting\": \"+1 min.\"}}, \"ns2:GedempteVertrekVertraging\": \"PT0S\", \"ns2:TreinVertrekSpoor\": [{\"@InfoStatus\": \"Gepland\", \"ns2:SpoorNummer\": \"3\"}, {\"@InfoStatus\": \"Actueel\", \"ns2:SpoorNummer\": \"3\"}], \"ns2:PresentatieTreinVertrekSpoor\": {\"ns2:Uitingen\": {\"ns2:Uiting\": \"3\"}}, \"ns2:VertrekRichting\": \"A\", \"ns2:AfstandPerronEindKopVertrekTrein\": \"0\", \"ns2:TreinVleugel\": {\"ns2:TreinVleugelVertrekSpoor\": [{\"@InfoStatus\": \"Gepland\", \"ns2:SpoorNummer\": \"3\"}, {\"@InfoStatus\": \"Actueel\", \"ns2:SpoorNummer\": \"3\"}], \"ns2:PresentatieTreinVleugelVertrekSpoor\": {\"ns2:Uitingen\": {\"ns2:Uiting\": \"3\"}}, \"ns2:TreinVleugelEindBestemming\": [{\"@InfoStatus\": \"Gepland\", \"ns2:StationCode\": \"MP\", \"ns2:Type\": \"1\", \"ns2:KorteNaam\": \"Meppel\", \"ns2:MiddelNaam\": \"Meppel\", \"ns2:LangeNaam\": \"Meppel\", \"ns2:UICCode\": \"8400435\"}, {\"@InfoStatus\": \"Actueel\", \"ns2:StationCode\": \"MP\", \"ns2:Type\": \"1\", \"ns2:KorteNaam\": \"Meppel\", \"ns2:MiddelNaam\": \"Meppel\", \"ns2:LangeNaam\": \"Meppel\", \"ns2:UICCode\": \"8400435\"}], \"ns2:PresentatieTreinVleugelEindBestemming\": {\"ns2:Uitingen\": {\"ns2:Uiting\": \"Meppel\"}}, \"ns2:StopStations\": [{\"@InfoStatus\": \"Gepland\", \"ns2:Station\": [{\"ns2:StationCode\": \"WV\", \"ns2:Type\": \"0\", \"ns2:KorteNaam\": \"Wolvega\", \"ns2:MiddelNaam\": \"Wolvega\", \"ns2:LangeNaam\": \"Wolvega\", \"ns2:UICCode\": \"8400705\"}, {\"ns2:StationCode\": \"SWK\", \"ns2:Type\": \"4\", \"ns2:KorteNaam\": \"Steenwijk\", \"ns2:MiddelNaam\": \"Steenwijk\", \"ns2:LangeNaam\": \"Steenwijk\", \"ns2:UICCode\": \"8400578\"}, {\"ns2:StationCode\": \"MP\", \"ns2:Type\": \"1\", \"ns2:KorteNaam\": \"Meppel\", \"ns2:MiddelNaam\": \"Meppel\", \"ns2:LangeNaam\": \"Meppel\", \"ns2:UICCode\": \"8400435\"}]}, {\"@InfoStatus\": \"Actueel\", \"ns2:Station\": [{\"ns2:StationCode\": \"WV\", \"ns2:Type\": \"0\", \"ns2:KorteNaam\": \"Wolvega\", \"ns2:MiddelNaam\": \"Wolvega\", \"ns2:LangeNaam\": \"Wolvega\", \"ns2:UICCode\": \"8400705\"}, {\"ns2:StationCode\": \"SWK\", \"ns2:Type\": \"4\", \"ns2:KorteNaam\": \"Steenwijk\", \"ns2:MiddelNaam\": \"Steenwijk\", \"ns2:LangeNaam\": \"Steenwijk\", \"ns2:UICCode\": \"8400578\"}, {\"ns2:StationCode\": \"MP\", \"ns2:Type\": \"1\", \"ns2:KorteNaam\": \"Meppel\", \"ns2:MiddelNaam\": \"Meppel\", \"ns2:LangeNaam\": \"Meppel\", \"ns2:UICCode\": \"8400435\"}]}], \"ns2:MaterieelDeelDVS\": {\"ns2:MaterieelSoort\": \"ICM\", \"ns2:MaterieelAanduiding\": \"4\", \"ns2:MaterieelLengte\": \"10710\", \"ns2:MaterieelNummer\": \"000000-04247-0\", \"ns2:MaterieelDeelEindBestemming\": [{\"@InfoStatus\": \"Gepland\", \"ns2:StationCode\": \"MP\", \"ns2:Type\": \"1\", \"ns2:KorteNaam\": \"Meppel\", \"ns2:MiddelNaam\": \"Meppel\", \"ns2:LangeNaam\": \"Meppel\", \"ns2:UICCode\": \"8400435\"}, {\"@InfoStatus\": \"Actueel\", \"ns2:StationCode\": \"MP\", \"ns2:Type\": \"1\", \"ns2:KorteNaam\": \"Meppel\", \"ns2:MiddelNaam\": \"Meppel\", \"ns2:LangeNaam\": \"Meppel\", \"ns2:UICCode\": \"8400435\"}], \"ns2:PresentatieMaterieelDeelEindBestemming\": {\"ns2:Uitingen\": {\"ns2:Uiting\": \"Meppel\"}}}}, \"ns2:Wijziging\": [{\"ns2:WijzigingType\": \"10\", \"ns2:PresentatieWijziging\": {\"ns2:Uitingen\": [{\"@Taal\": \"nl\", \"ns2:Uiting\": {\"@Prioriteit\": \"10\", \"#text\": \"Later vertrek\"}}, {\"@Taal\": \"en\", \"ns2:Uiting\": {\"@Prioriteit\": \"10\", \"#text\": \"Delayed\"}}]}}, {\"ns2:WijzigingType\": \"40\"}]}, \"ns2:PresentatieOpmerkingen\": {\"ns2:Uitingen\": [{\"@Taal\": \"nl\", \"ns2:Uiting\": {\"@Prioriteit\": \"20\", \"@ReferentieType\": \"Wijziging\", \"@ReferentieWaarde\": \"10\", \"#text\": \"Later vertrek\"}}, {\"@Taal\": \"en\", \"ns2:Uiting\": {\"@Prioriteit\": \"20\", \"@ReferentieType\": \"Wijziging\", \"@ReferentieWaarde\": \"10\", \"#text\": \"Delayed\"}}]}}}}}')\n",
      "(None, u'{\"ns1:PutReisInformatieBoodschapIn\": {\"@xmlns:ns1\": \"urn:ndov:cdm:trein:reisinformatie:messages:5\", \"@xmlns:ns2\": \"urn:ndov:cdm:trein:reisinformatie:data:4\", \"ns2:ReisInformatieProductDVS\": {\"@TimeStamp\": \"2020-05-13T17:56:30.028Z\", \"@Versie\": \"6.2\", \"ns2:RIPAdministratie\": {\"ns2:ReisInformatieProductID\": \"2005131956302500000\", \"ns2:AbonnementId\": \"54\", \"ns2:ReisInformatieTijdstip\": \"2020-05-13T17:58:00.000Z\"}, \"ns2:DynamischeVertrekStaat\": {\"ns2:RitId\": \"4075\", \"ns2:RitDatum\": \"2020-05-13\", \"ns2:RitStation\": {\"ns2:StationCode\": \"ASA\", \"ns2:Type\": \"4\", \"ns2:KorteNaam\": \"Amstel\", \"ns2:MiddelNaam\": \"Amstel\", \"ns2:LangeNaam\": \"Amsterdam Amstel\", \"ns2:UICCode\": \"8400057\"}, \"ns2:Trein\": {\"ns2:TreinNummer\": \"4075\", \"ns2:TreinSoort\": {\"@Code\": \"SPR\", \"#text\": \"Sprinter\"}, \"ns2:TreinFormule\": \"1\", \"ns2:TreinStatus\": \"2\", \"ns2:Vervoerder\": \"NS\", \"ns2:Reserveren\": \"N\", \"ns2:Toeslag\": \"N\", \"ns2:NietInstappen\": \"N\", \"ns2:AchterBlijvenAchtersteTreinDeel\": \"N\", \"ns2:RangeerBeweging\": \"N\", \"ns2:SpeciaalKaartje\": \"N\", \"ns2:TreinEindBestemming\": [{\"@InfoStatus\": \"Gepland\", \"ns2:StationCode\": \"RTD\", \"ns2:Type\": \"6\", \"ns2:KorteNaam\": \"Rotterdm C\", \"ns2:MiddelNaam\": \"Rotterdam C.\", \"ns2:LangeNaam\": \"Rotterdam Centraal\", \"ns2:UICCode\": \"8400530\"}, {\"@InfoStatus\": \"Actueel\", \"ns2:StationCode\": \"RTD\", \"ns2:Type\": \"6\", \"ns2:KorteNaam\": \"Rotterdm C\", \"ns2:MiddelNaam\": \"Rotterdam C.\", \"ns2:LangeNaam\": \"Rotterdam Centraal\", \"ns2:UICCode\": \"8400530\"}], \"ns2:PresentatieTreinEindBestemming\": {\"ns2:Uitingen\": {\"ns2:Uiting\": \"Rotterdam Centraal\"}}, \"ns2:VertrekTijd\": [{\"@InfoStatus\": \"Gepland\", \"#text\": \"2020-05-13T17:58:00.000Z\"}, {\"@InfoStatus\": \"Actueel\", \"#text\": \"2020-05-13T17:58:00.000Z\"}], \"ns2:ExacteVertrekVertraging\": \"PT0S\", \"ns2:GedempteVertrekVertraging\": \"PT0S\", \"ns2:TreinVertrekSpoor\": [{\"@InfoStatus\": \"Gepland\", \"ns2:SpoorNummer\": \"4\"}, {\"@InfoStatus\": \"Actueel\", \"ns2:SpoorNummer\": \"4\"}], \"ns2:PresentatieTreinVertrekSpoor\": {\"ns2:Uitingen\": {\"ns2:Uiting\": \"4\"}}, \"ns2:VertrekRichting\": \"B\", \"ns2:AfstandPerronEindKopVertrekTrein\": \"0\", \"ns2:VerkorteRoute\": [{\"@InfoStatus\": \"Gepland\", \"ns2:Station\": [{\"ns2:StationCode\": \"DVD\", \"ns2:Type\": \"1\", \"ns2:KorteNaam\": \"Duivendrt\", \"ns2:MiddelNaam\": \"Duivendrecht\", \"ns2:LangeNaam\": \"Duivendrecht\", \"ns2:UICCode\": \"8400194\"}, {\"ns2:StationCode\": \"ASB\", \"ns2:Type\": \"1\", \"ns2:KorteNaam\": \"Bijlmer A\", \"ns2:MiddelNaam\": \"Bijlmer ArenA\", \"ns2:LangeNaam\": \"Amsterdam Bijlmer ArenA\", \"ns2:UICCode\": \"8400074\"}, {\"ns2:StationCode\": \"BKL\", \"ns2:Type\": \"1\", \"ns2:KorteNaam\": \"Breukelen\", \"ns2:MiddelNaam\": \"Breukelen\", \"ns2:LangeNaam\": \"Breukelen\", \"ns2:UICCode\": \"8400133\"}, {\"ns2:StationCode\": \"WD\", \"ns2:Type\": \"1\", \"ns2:KorteNaam\": \"Woerden\", \"ns2:MiddelNaam\": \"Woerden\", \"ns2:LangeNaam\": \"Woerden\", \"ns2:UICCode\": \"8400702\"}]}, {\"@InfoStatus\": \"Actueel\", \"ns2:Station\": [{\"ns2:StationCode\": \"DVD\", \"ns2:Type\": \"1\", \"ns2:KorteNaam\": \"Duivendrt\", \"ns2:MiddelNaam\": \"Duivendrecht\", \"ns2:LangeNaam\": \"Duivendrecht\", \"ns2:UICCode\": \"8400194\"}, {\"ns2:StationCode\": \"ASB\", \"ns2:Type\": \"1\", \"ns2:KorteNaam\": \"Bijlmer A\", \"ns2:MiddelNaam\": \"Bijlmer ArenA\", \"ns2:LangeNaam\": \"Amsterdam Bijlmer ArenA\", \"ns2:UICCode\": \"8400074\"}, {\"ns2:StationCode\": \"BKL\", \"ns2:Type\": \"1\", \"ns2:KorteNaam\": \"Breukelen\", \"ns2:MiddelNaam\": \"Breukelen\", \"ns2:LangeNaam\": \"Breukelen\", \"ns2:UICCode\": \"8400133\"}, {\"ns2:StationCode\": \"WD\", \"ns2:Type\": \"1\", \"ns2:KorteNaam\": \"Woerden\", \"ns2:MiddelNaam\": \"Woerden\", \"ns2:LangeNaam\": \"Woerden\", \"ns2:UICCode\": \"8400702\"}]}], \"ns2:PresentatieVerkorteRoute\": {\"ns2:Uitingen\": {\"ns2:Uiting\": \"Duivendrecht, Bijlmer ArenA, Breukelen, Woerden\"}}, \"ns2:TreinVleugel\": {\"ns2:TreinVleugelVertrekSpoor\": [{\"@InfoStatus\": \"Gepland\", \"ns2:SpoorNummer\": \"4\"}, {\"@InfoStatus\": \"Actueel\", \"ns2:SpoorNummer\": \"4\"}], \"ns2:PresentatieTreinVleugelVertrekSpoor\": {\"ns2:Uitingen\": {\"ns2:Uiting\": \"4\"}}, \"ns2:TreinVleugelEindBestemming\": [{\"@InfoStatus\": \"Gepland\", \"ns2:StationCode\": \"RTD\", \"ns2:Type\": \"6\", \"ns2:KorteNaam\": \"Rotterdm C\", \"ns2:MiddelNaam\": \"Rotterdam C.\", \"ns2:LangeNaam\": \"Rotterdam Centraal\", \"ns2:UICCode\": \"8400530\"}, {\"@InfoStatus\": \"Actueel\", \"ns2:StationCode\": \"RTD\", \"ns2:Type\": \"6\", \"ns2:KorteNaam\": \"Rotterdm C\", \"ns2:MiddelNaam\": \"Rotterdam C.\", \"ns2:LangeNaam\": \"Rotterdam Centraal\", \"ns2:UICCode\": \"8400530\"}], \"ns2:PresentatieTreinVleugelEindBestemming\": {\"ns2:Uitingen\": {\"ns2:Uiting\": \"Rotterdam Centraal\"}}, \"ns2:StopStations\": [{\"@InfoStatus\": \"Gepland\", \"ns2:Station\": [{\"ns2:StationCode\": \"DVD\", \"ns2:Type\": \"1\", \"ns2:KorteNaam\": \"Duivendrt\", \"ns2:MiddelNaam\": \"Duivendrecht\", \"ns2:LangeNaam\": \"Duivendrecht\", \"ns2:UICCode\": \"8400194\"}, {\"ns2:StationCode\": \"ASB\", \"ns2:Type\": \"1\", \"ns2:KorteNaam\": \"Bijlmer A\", \"ns2:MiddelNaam\": \"Bijlmer ArenA\", \"ns2:LangeNaam\": \"Amsterdam Bijlmer ArenA\", \"ns2:UICCode\": \"8400074\"}, {\"ns2:StationCode\": \"ASHD\", \"ns2:Type\": \"0\", \"ns2:KorteNaam\": \"Holendrcht\", \"ns2:MiddelNaam\": \"Holendrecht\", \"ns2:LangeNaam\": \"Amsterdam Holendrecht\", \"ns2:UICCode\": \"8400231\"}, {\"ns2:StationCode\": \"AC\", \"ns2:Type\": \"0\", \"ns2:KorteNaam\": \"Abcoude\", \"ns2:MiddelNaam\": \"Abcoude\", \"ns2:LangeNaam\": \"Abcoude\", \"ns2:UICCode\": \"8400047\"}, {\"ns2:StationCode\": \"BKL\", \"ns2:Type\": \"1\", \"ns2:KorteNaam\": \"Breukelen\", \"ns2:MiddelNaam\": \"Breukelen\", \"ns2:LangeNaam\": \"Breukelen\", \"ns2:UICCode\": \"8400133\"}, {\"ns2:StationCode\": \"WD\", \"ns2:Type\": \"1\", \"ns2:KorteNaam\": \"Woerden\", \"ns2:MiddelNaam\": \"Woerden\", \"ns2:LangeNaam\": \"Woerden\", \"ns2:UICCode\": \"8400702\"}, {\"ns2:StationCode\": \"GDG\", \"ns2:Type\": \"0\", \"ns2:KorteNaam\": \"Goverwelle\", \"ns2:MiddelNaam\": \"Goverwelle\", \"ns2:LangeNaam\": \"Gouda Goverwelle\", \"ns2:UICCode\": \"8400257\"}, {\"ns2:StationCode\": \"GD\", \"ns2:Type\": \"5\", \"ns2:KorteNaam\": \"Gouda\", \"ns2:MiddelNaam\": \"Gouda\", \"ns2:LangeNaam\": \"Gouda\", \"ns2:UICCode\": \"8400258\"}, {\"ns2:StationCode\": \"NWK\", \"ns2:Type\": \"0\", \"ns2:KorteNaam\": \"Nieuwerkrk\", \"ns2:MiddelNaam\": \"Nieuwerkerk\", \"ns2:LangeNaam\": \"Nieuwerkerk a/d IJssel\", \"ns2:UICCode\": \"8400455\"}, {\"ns2:StationCode\": \"CPS\", \"ns2:Type\": \"0\", \"ns2:KorteNaam\": \"Schollevr\", \"ns2:MiddelNaam\": \"Schollevaar\", \"ns2:LangeNaam\": \"Capelle Schollevaar\", \"ns2:UICCode\": \"8400147\"}, {\"ns2:StationCode\": \"RTA\", \"ns2:Type\": \"4\", \"ns2:KorteNaam\": \"Alexander\", \"ns2:MiddelNaam\": \"Alexander\", \"ns2:LangeNaam\": \"Rotterdam Alexander\", \"ns2:UICCode\": \"8400507\"}, {\"ns2:StationCode\": \"RTN\", \"ns2:Type\": \"0\", \"ns2:KorteNaam\": \"Rotterdm N\", \"ns2:MiddelNaam\": \"Rotterdam N.\", \"ns2:LangeNaam\": \"Rotterdam Noord\", \"ns2:UICCode\": \"8400531\"}, {\"ns2:StationCode\": \"RTD\", \"ns2:Type\": \"6\", \"ns2:KorteNaam\": \"Rotterdm C\", \"ns2:MiddelNaam\": \"Rotterdam C.\", \"ns2:LangeNaam\": \"Rotterdam Centraal\", \"ns2:UICCode\": \"8400530\"}]}, {\"@InfoStatus\": \"Actueel\", \"ns2:Station\": [{\"ns2:StationCode\": \"DVD\", \"ns2:Type\": \"1\", \"ns2:KorteNaam\": \"Duivendrt\", \"ns2:MiddelNaam\": \"Duivendrecht\", \"ns2:LangeNaam\": \"Duivendrecht\", \"ns2:UICCode\": \"8400194\"}, {\"ns2:StationCode\": \"ASB\", \"ns2:Type\": \"1\", \"ns2:KorteNaam\": \"Bijlmer A\", \"ns2:MiddelNaam\": \"Bijlmer ArenA\", \"ns2:LangeNaam\": \"Amsterdam Bijlmer ArenA\", \"ns2:UICCode\": \"8400074\"}, {\"ns2:StationCode\": \"ASHD\", \"ns2:Type\": \"0\", \"ns2:KorteNaam\": \"Holendrcht\", \"ns2:MiddelNaam\": \"Holendrecht\", \"ns2:LangeNaam\": \"Amsterdam Holendrecht\", \"ns2:UICCode\": \"8400231\"}, {\"ns2:StationCode\": \"AC\", \"ns2:Type\": \"0\", \"ns2:KorteNaam\": \"Abcoude\", \"ns2:MiddelNaam\": \"Abcoude\", \"ns2:LangeNaam\": \"Abcoude\", \"ns2:UICCode\": \"8400047\"}, {\"ns2:StationCode\": \"BKL\", \"ns2:Type\": \"1\", \"ns2:KorteNaam\": \"Breukelen\", \"ns2:MiddelNaam\": \"Breukelen\", \"ns2:LangeNaam\": \"Breukelen\", \"ns2:UICCode\": \"8400133\"}, {\"ns2:StationCode\": \"WD\", \"ns2:Type\": \"1\", \"ns2:KorteNaam\": \"Woerden\", \"ns2:MiddelNaam\": \"Woerden\", \"ns2:LangeNaam\": \"Woerden\", \"ns2:UICCode\": \"8400702\"}, {\"ns2:StationCode\": \"GDG\", \"ns2:Type\": \"0\", \"ns2:KorteNaam\": \"Goverwelle\", \"ns2:MiddelNaam\": \"Goverwelle\", \"ns2:LangeNaam\": \"Gouda Goverwelle\", \"ns2:UICCode\": \"8400257\"}, {\"ns2:StationCode\": \"GD\", \"ns2:Type\": \"5\", \"ns2:KorteNaam\": \"Gouda\", \"ns2:MiddelNaam\": \"Gouda\", \"ns2:LangeNaam\": \"Gouda\", \"ns2:UICCode\": \"8400258\"}, {\"ns2:StationCode\": \"NWK\", \"ns2:Type\": \"0\", \"ns2:KorteNaam\": \"Nieuwerkrk\", \"ns2:MiddelNaam\": \"Nieuwerkerk\", \"ns2:LangeNaam\": \"Nieuwerkerk a/d IJssel\", \"ns2:UICCode\": \"8400455\"}, {\"ns2:StationCode\": \"CPS\", \"ns2:Type\": \"0\", \"ns2:KorteNaam\": \"Schollevr\", \"ns2:MiddelNaam\": \"Schollevaar\", \"ns2:LangeNaam\": \"Capelle Schollevaar\", \"ns2:UICCode\": \"8400147\"}, {\"ns2:StationCode\": \"RTA\", \"ns2:Type\": \"4\", \"ns2:KorteNaam\": \"Alexander\", \"ns2:MiddelNaam\": \"Alexander\", \"ns2:LangeNaam\": \"Rotterdam Alexander\", \"ns2:UICCode\": \"8400507\"}, {\"ns2:StationCode\": \"RTN\", \"ns2:Type\": \"0\", \"ns2:KorteNaam\": \"Rotterdm N\", \"ns2:MiddelNaam\": \"Rotterdam N.\", \"ns2:LangeNaam\": \"Rotterdam Noord\", \"ns2:UICCode\": \"8400531\"}, {\"ns2:StationCode\": \"RTD\", \"ns2:Type\": \"6\", \"ns2:KorteNaam\": \"Rotterdm C\", \"ns2:MiddelNaam\": \"Rotterdam C.\", \"ns2:LangeNaam\": \"Rotterdam Centraal\", \"ns2:UICCode\": \"8400530\"}]}], \"ns2:MaterieelDeelDVS\": [{\"ns2:MaterieelSoort\": \"SLT\", \"ns2:MaterieelAanduiding\": \"4\", \"ns2:MaterieelLengte\": \"6940\", \"ns2:MaterieelDeelVertrekPositie\": \"1\", \"ns2:MaterieelDeelVolgordeVertrek\": \"1\", \"ns2:MaterieelNummer\": \"000000-02452-0\", \"ns2:MaterieelDeelEindBestemming\": [{\"@InfoStatus\": \"Gepland\", \"ns2:StationCode\": \"RTD\", \"ns2:Type\": \"6\", \"ns2:KorteNaam\": \"Rotterdm C\", \"ns2:MiddelNaam\": \"Rotterdam C.\", \"ns2:LangeNaam\": \"Rotterdam Centraal\", \"ns2:UICCode\": \"8400530\"}, {\"@InfoStatus\": \"Actueel\", \"ns2:StationCode\": \"RTD\", \"ns2:Type\": \"6\", \"ns2:KorteNaam\": \"Rotterdm C\", \"ns2:MiddelNaam\": \"Rotterdam C.\", \"ns2:LangeNaam\": \"Rotterdam Centraal\", \"ns2:UICCode\": \"8400530\"}], \"ns2:PresentatieMaterieelDeelEindBestemming\": {\"ns2:Uitingen\": {\"ns2:Uiting\": \"Rotterdam Centraal\"}}}, {\"ns2:MaterieelSoort\": \"SLT\", \"ns2:MaterieelAanduiding\": \"6\", \"ns2:MaterieelLengte\": \"10050\", \"ns2:MaterieelDeelVertrekPositie\": \"3\", \"ns2:MaterieelDeelVolgordeVertrek\": \"2\", \"ns2:MaterieelNummer\": \"000000-02655-0\", \"ns2:MaterieelDeelEindBestemming\": [{\"@InfoStatus\": \"Gepland\", \"ns2:StationCode\": \"RTD\", \"ns2:Type\": \"6\", \"ns2:KorteNaam\": \"Rotterdm C\", \"ns2:MiddelNaam\": \"Rotterdam C.\", \"ns2:LangeNaam\": \"Rotterdam Centraal\", \"ns2:UICCode\": \"8400530\"}, {\"@InfoStatus\": \"Actueel\", \"ns2:StationCode\": \"RTD\", \"ns2:Type\": \"6\", \"ns2:KorteNaam\": \"Rotterdm C\", \"ns2:MiddelNaam\": \"Rotterdam C.\", \"ns2:LangeNaam\": \"Rotterdam Centraal\", \"ns2:UICCode\": \"8400530\"}], \"ns2:PresentatieMaterieelDeelEindBestemming\": {\"ns2:Uitingen\": {\"ns2:Uiting\": \"Rotterdam Centraal\"}}}]}, \"ns2:Wijziging\": {\"ns2:WijzigingType\": \"40\"}}}}}}')\n",
      "..."
     ]
    }
   ],
   "source": [
    "ssc.stop(stopSparkContext=False)"
   ]
  },
  {
   "cell_type": "markdown",
   "metadata": {},
   "source": [
    "You will need to adjust the batch interval (10 seconds here) in accordance with the processing times. Use the spark UI to check if batches are not accumulating."
   ]
  },
  {
   "cell_type": "markdown",
   "metadata": {},
   "source": [
    "---"
   ]
  },
  {
   "cell_type": "markdown",
   "metadata": {},
   "source": [
    "# Part III - Live stopping time (20 points / 50)"
   ]
  },
  {
   "cell_type": "markdown",
   "metadata": {},
   "source": [
    "In this part, we will have a look at the two other streams, namely `ndovloketnl-arrivals` and `ndovloketnl-departures`. Each time a train arrives at or leaves a station, a message is generated. Let's have a look at the content."
   ]
  },
  {
   "cell_type": "code",
   "execution_count": 11,
   "metadata": {
    "scrolled": true
   },
   "outputs": [
    {
     "data": {
      "application/vnd.jupyter.widget-view+json": {
       "model_id": "",
       "version_major": 2,
       "version_minor": 0
      },
      "text/plain": [
       "FloatProgress(value=0.0, bar_style='info', description='Progress:', layout=Layout(height='25px', width='50%'),…"
      ]
     },
     "metadata": {},
     "output_type": "display_data"
    },
    {
     "name": "stdout",
     "output_type": "stream",
     "text": [
      "{\n",
      "  \"ns1:PutReisInformatieBoodschapIn\": {\n",
      "    \"@xmlns:ns1\": \"urn:ndov:cdm:trein:reisinformatie:messages:dynamischeaankomststaat:1\", \n",
      "    \"@xmlns:ns2\": \"urn:ndov:cdm:trein:reisinformatie:data:4\", \n",
      "    \"ns2:ReisInformatieProductDAS\": {\n",
      "      \"ns2:RIPAdministratie\": {\n",
      "        \"ns2:ReisInformatieTijdstip\": \"2020-04-17T10:54:00.000Z\", \n",
      "        \"ns2:ReisInformatieProductID\": \"2004171254422300001\", \n",
      "        \"ns2:AbonnementId\": \"55\"\n",
      "      }, \n",
      "      \"@TimeStamp\": \"2020-04-17T10:54:42.098Z\", \n",
      "      \"@Versie\": \"6.1\", \n",
      "      \"ns2:DynamischeAankomstStaat\": {\n",
      "        \"ns2:RitId\": \"6945\", \n",
      "        \"ns2:RitStation\": {\n",
      "          \"ns2:LangeNaam\": \"Utrecht Vaartsche Rijn\", \n",
      "          \"ns2:MiddelNaam\": \"Vaartsche Rijn\", \n",
      "          \"ns2:StationCode\": \"UTVR\", \n",
      "          \"ns2:Type\": \"1\", \n",
      "          \"ns2:UICCode\": \"8400606\", \n",
      "          \"ns2:KorteNaam\": \"VaartscheR\"\n",
      "        }, \n",
      "        \"ns2:TreinAankomst\": {\n",
      "          \"ns2:TreinHerkomst\": [\n",
      "            {\n",
      "              \"ns2:LangeNaam\": \"Den Haag Centraal\", \n",
      "              \"@InfoStatus\": \"Gepland\", \n",
      "              \"ns2:MiddelNaam\": \"Den Haag C.\", \n",
      "              \"ns2:StationCode\": \"GVC\", \n",
      "              \"ns2:Type\": \"6\", \n",
      "              \"ns2:UICCode\": \"8400282\", \n",
      "              \"ns2:KorteNaam\": \"Den Haag C\"\n",
      "            }, \n",
      "            {\n",
      "              \"ns2:LangeNaam\": \"Den Haag Centraal\", \n",
      "              \"@InfoStatus\": \"Actueel\", \n",
      "              \"ns2:MiddelNaam\": \"Den Haag C.\", \n",
      "              \"ns2:StationCode\": \"GVC\", \n",
      "              \"ns2:Type\": \"6\", \n",
      "              \"ns2:UICCode\": \"8400282\", \n",
      "              \"ns2:KorteNaam\": \"Den Haag C\"\n",
      "            }\n",
      "          ], \n",
      "          \"ns2:TreinSoort\": {\n",
      "            \"@Code\": \"SPR\", \n",
      "            \"#text\": \"Sprinter\"\n",
      "          }, \n",
      "          \"ns2:WijzigingHerkomst\": {\n",
      "            \"ns2:WijzigingType\": \"40\"\n",
      "          }, \n",
      "          \"ns2:VerkorteRouteHerkomst\": [\n",
      "            {\n",
      "              \"ns2:Station\": [\n",
      "                {\n",
      "                  \"ns2:LangeNaam\": \"Zoetermeer\", \n",
      "                  \"ns2:MiddelNaam\": \"Zoetermeer\", \n",
      "                  \"ns2:StationCode\": \"ZTM\", \n",
      "                  \"ns2:Type\": \"1\", \n",
      "                  \"ns2:UICCode\": \"8400741\", \n",
      "                  \"ns2:KorteNaam\": \"Zoetermeer\"\n",
      "                }, \n",
      "                {\n",
      "                  \"ns2:LangeNaam\": \"Gouda\", \n",
      "                  \"ns2:MiddelNaam\": \"Gouda\", \n",
      "                  \"ns2:StationCode\": \"GD\", \n",
      "                  \"ns2:Type\": \"5\", \n",
      "                  \"ns2:UICCode\": \"8400258\", \n",
      "                  \"ns2:KorteNaam\": \"Gouda\"\n",
      "                }, \n",
      "                {\n",
      "                  \"ns2:LangeNaam\": \"Woerden\", \n",
      "                  \"ns2:MiddelNaam\": \"Woerden\", \n",
      "                  \"ns2:StationCode\": \"WD\", \n",
      "                  \"ns2:Type\": \"1\", \n",
      "                  \"ns2:UICCode\": \"8400702\", \n",
      "                  \"ns2:KorteNaam\": \"Woerden\"\n",
      "                }, \n",
      "                {\n",
      "                  \"ns2:LangeNaam\": \"Utrecht Centraal\", \n",
      "                  \"ns2:MiddelNaam\": \"Utrecht C.\", \n",
      "                  \"ns2:StationCode\": \"UT\", \n",
      "                  \"ns2:Type\": \"6\", \n",
      "                  \"ns2:UICCode\": \"8400621\", \n",
      "                  \"ns2:KorteNaam\": \"Utrecht C\"\n",
      "                }\n",
      "              ], \n",
      "              \"@InfoStatus\": \"Gepland\"\n",
      "            }, \n",
      "            {\n",
      "              \"ns2:Station\": [\n",
      "                {\n",
      "                  \"ns2:LangeNaam\": \"Zoetermeer\", \n",
      "                  \"ns2:MiddelNaam\": \"Zoetermeer\", \n",
      "                  \"ns2:StationCode\": \"ZTM\", \n",
      "                  \"ns2:Type\": \"1\", \n",
      "                  \"ns2:UICCode\": \"8400741\", \n",
      "                  \"ns2:KorteNaam\": \"Zoetermeer\"\n",
      "                }, \n",
      "                {\n",
      "                  \"ns2:LangeNaam\": \"Gouda\", \n",
      "                  \"ns2:MiddelNaam\": \"Gouda\", \n",
      "                  \"ns2:StationCode\": \"GD\", \n",
      "                  \"ns2:Type\": \"5\", \n",
      "                  \"ns2:UICCode\": \"8400258\", \n",
      "                  \"ns2:KorteNaam\": \"Gouda\"\n",
      "                }, \n",
      "                {\n",
      "                  \"ns2:LangeNaam\": \"Woerden\", \n",
      "                  \"ns2:MiddelNaam\": \"Woerden\", \n",
      "                  \"ns2:StationCode\": \"WD\", \n",
      "                  \"ns2:Type\": \"1\", \n",
      "                  \"ns2:UICCode\": \"8400702\", \n",
      "                  \"ns2:KorteNaam\": \"Woerden\"\n",
      "                }, \n",
      "                {\n",
      "                  \"ns2:LangeNaam\": \"Utrecht Centraal\", \n",
      "                  \"ns2:MiddelNaam\": \"Utrecht C.\", \n",
      "                  \"ns2:StationCode\": \"UT\", \n",
      "                  \"ns2:Type\": \"6\", \n",
      "                  \"ns2:UICCode\": \"8400621\", \n",
      "                  \"ns2:KorteNaam\": \"Utrecht C\"\n",
      "                }\n",
      "              ], \n",
      "              \"@InfoStatus\": \"Actueel\"\n",
      "            }\n",
      "          ], \n",
      "          \"ns2:PresentatieTreinAankomstSpoor\": {\n",
      "            \"ns2:Uitingen\": {\n",
      "              \"ns2:Uiting\": \"4\"\n",
      "            }\n",
      "          }, \n",
      "          \"ns2:TreinStatus\": \"5\", \n",
      "          \"ns2:PresentatieVerkorteRouteHerkomst\": {\n",
      "            \"ns2:Uitingen\": {\n",
      "              \"ns2:Uiting\": \"Zoetermeer, Gouda, Woerden, Utrecht C.\"\n",
      "            }\n",
      "          }, \n",
      "          \"ns2:AankomstTijd\": [\n",
      "            {\n",
      "              \"@InfoStatus\": \"Gepland\", \n",
      "              \"#text\": \"2020-04-17T10:54:00.000Z\"\n",
      "            }, \n",
      "            {\n",
      "              \"@InfoStatus\": \"Actueel\", \n",
      "              \"#text\": \"2020-04-17T10:54:00.000Z\"\n",
      "            }\n",
      "          ], \n",
      "          \"ns2:TreinNummer\": \"6945\", \n",
      "          \"ns2:TreinAankomstSpoor\": [\n",
      "            {\n",
      "              \"@InfoStatus\": \"Gepland\", \n",
      "              \"ns2:SpoorNummer\": \"4\"\n",
      "            }, \n",
      "            {\n",
      "              \"@InfoStatus\": \"Actueel\", \n",
      "              \"ns2:SpoorNummer\": \"4\"\n",
      "            }\n",
      "          ], \n",
      "          \"ns2:PresentatieTreinHerkomst\": {\n",
      "            \"ns2:Uitingen\": {\n",
      "              \"ns2:Uiting\": \"Den Haag C.\"\n",
      "            }\n",
      "          }, \n",
      "          \"ns2:GedempteAankomstVertraging\": \"PT0S\", \n",
      "          \"ns2:ExacteAankomstVertraging\": \"PT0S\", \n",
      "          \"ns2:Vervoerder\": \"NS\"\n",
      "        }, \n",
      "        \"ns2:RitDatum\": \"2020-04-17\"\n",
      "      }\n",
      "    }\n",
      "  }\n",
      "}"
     ]
    }
   ],
   "source": [
    "import json\n",
    "from pykafka.common import OffsetType\n",
    "\n",
    "example_arrivals = client.topics[b'ndovloketnl-arrivals'].get_simple_consumer(\n",
    "    auto_offset_reset=OffsetType.EARLIEST,\n",
    "    reset_offset_on_start=True\n",
    ").consume()\n",
    "print(json.dumps(json.loads(example_arrivals.value), indent=2))"
   ]
  },
  {
   "cell_type": "code",
   "execution_count": 12,
   "metadata": {
    "scrolled": true
   },
   "outputs": [
    {
     "data": {
      "application/vnd.jupyter.widget-view+json": {
       "model_id": "",
       "version_major": 2,
       "version_minor": 0
      },
      "text/plain": [
       "FloatProgress(value=0.0, bar_style='info', description='Progress:', layout=Layout(height='25px', width='50%'),…"
      ]
     },
     "metadata": {},
     "output_type": "display_data"
    },
    {
     "name": "stdout",
     "output_type": "stream",
     "text": [
      "{\n",
      "  \"ns1:PutReisInformatieBoodschapIn\": {\n",
      "    \"@xmlns:ns1\": \"urn:ndov:cdm:trein:reisinformatie:messages:5\", \n",
      "    \"ns2:ReisInformatieProductDVS\": {\n",
      "      \"ns2:RIPAdministratie\": {\n",
      "        \"ns2:ReisInformatieTijdstip\": \"2020-04-23T15:32:00.000Z\", \n",
      "        \"ns2:ReisInformatieProductID\": \"2004231730412200003\", \n",
      "        \"ns2:AbonnementId\": \"54\"\n",
      "      }, \n",
      "      \"@TimeStamp\": \"2020-04-23T15:30:41.815Z\", \n",
      "      \"@Versie\": \"6.2\", \n",
      "      \"ns2:DynamischeVertrekStaat\": {\n",
      "        \"ns2:RitId\": \"7363\", \n",
      "        \"ns2:RitStation\": {\n",
      "          \"ns2:LangeNaam\": \"Maarssen\", \n",
      "          \"ns2:MiddelNaam\": \"Maarssen\", \n",
      "          \"ns2:StationCode\": \"MAS\", \n",
      "          \"ns2:Type\": \"0\", \n",
      "          \"ns2:UICCode\": \"8400419\", \n",
      "          \"ns2:KorteNaam\": \"Maarssen\"\n",
      "        }, \n",
      "        \"ns2:RitDatum\": \"2020-04-23\", \n",
      "        \"ns2:Trein\": {\n",
      "          \"ns2:VertrekRichting\": \"B\", \n",
      "          \"ns2:VertrekTijd\": [\n",
      "            {\n",
      "              \"@InfoStatus\": \"Gepland\", \n",
      "              \"#text\": \"2020-04-23T15:32:00.000Z\"\n",
      "            }, \n",
      "            {\n",
      "              \"@InfoStatus\": \"Actueel\", \n",
      "              \"#text\": \"2020-04-23T15:32:00.000Z\"\n",
      "            }\n",
      "          ], \n",
      "          \"ns2:RangeerBeweging\": \"N\", \n",
      "          \"ns2:PresentatieTreinVertrekSpoor\": {\n",
      "            \"ns2:Uitingen\": {\n",
      "              \"ns2:Uiting\": \"3\"\n",
      "            }\n",
      "          }, \n",
      "          \"ns2:NietInstappen\": \"N\", \n",
      "          \"ns2:PresentatieVerkorteRoute\": {\n",
      "            \"ns2:Uitingen\": {\n",
      "              \"ns2:Uiting\": \"Utrecht C., Vaartsche Rijn, Driebergen-Zeist, Maarn\"\n",
      "            }\n",
      "          }, \n",
      "          \"ns2:TreinStatus\": \"2\", \n",
      "          \"ns2:TreinNummer\": \"7363\", \n",
      "          \"ns2:ExacteVertrekVertraging\": \"PT0S\", \n",
      "          \"ns2:Wijziging\": {\n",
      "            \"ns2:WijzigingType\": \"40\"\n",
      "          }, \n",
      "          \"ns2:TreinVleugel\": {\n",
      "            \"ns2:PresentatieTreinVleugelVertrekSpoor\": {\n",
      "              \"ns2:Uitingen\": {\n",
      "                \"ns2:Uiting\": \"3\"\n",
      "              }\n",
      "            }, \n",
      "            \"ns2:TreinVleugelVertrekSpoor\": [\n",
      "              {\n",
      "                \"@InfoStatus\": \"Gepland\", \n",
      "                \"ns2:SpoorNummer\": \"3\"\n",
      "              }, \n",
      "              {\n",
      "                \"@InfoStatus\": \"Actueel\", \n",
      "                \"ns2:SpoorNummer\": \"3\"\n",
      "              }\n",
      "            ], \n",
      "            \"ns2:StopStations\": [\n",
      "              {\n",
      "                \"ns2:Station\": [\n",
      "                  {\n",
      "                    \"ns2:LangeNaam\": \"Utrecht Zuilen\", \n",
      "                    \"ns2:MiddelNaam\": \"Zuilen\", \n",
      "                    \"ns2:StationCode\": \"UTZL\", \n",
      "                    \"ns2:Type\": \"0\", \n",
      "                    \"ns2:UICCode\": \"8400613\", \n",
      "                    \"ns2:KorteNaam\": \"Zuilen\"\n",
      "                  }, \n",
      "                  {\n",
      "                    \"ns2:LangeNaam\": \"Utrecht Centraal\", \n",
      "                    \"ns2:MiddelNaam\": \"Utrecht C.\", \n",
      "                    \"ns2:StationCode\": \"UT\", \n",
      "                    \"ns2:Type\": \"6\", \n",
      "                    \"ns2:UICCode\": \"8400621\", \n",
      "                    \"ns2:KorteNaam\": \"Utrecht C\"\n",
      "                  }, \n",
      "                  {\n",
      "                    \"ns2:LangeNaam\": \"Utrecht Vaartsche Rijn\", \n",
      "                    \"ns2:MiddelNaam\": \"Vaartsche Rijn\", \n",
      "                    \"ns2:StationCode\": \"UTVR\", \n",
      "                    \"ns2:Type\": \"1\", \n",
      "                    \"ns2:UICCode\": \"8400606\", \n",
      "                    \"ns2:KorteNaam\": \"VaartscheR\"\n",
      "                  }, \n",
      "                  {\n",
      "                    \"ns2:LangeNaam\": \"Bunnik\", \n",
      "                    \"ns2:MiddelNaam\": \"Bunnik\", \n",
      "                    \"ns2:StationCode\": \"BNK\", \n",
      "                    \"ns2:Type\": \"0\", \n",
      "                    \"ns2:UICCode\": \"8400141\", \n",
      "                    \"ns2:KorteNaam\": \"Bunnik\"\n",
      "                  }, \n",
      "                  {\n",
      "                    \"ns2:LangeNaam\": \"Driebergen-Zeist\", \n",
      "                    \"ns2:MiddelNaam\": \"Driebergen-Zeist\", \n",
      "                    \"ns2:StationCode\": \"DB\", \n",
      "                    \"ns2:Type\": \"1\", \n",
      "                    \"ns2:UICCode\": \"8400182\", \n",
      "                    \"ns2:KorteNaam\": \"Driebergen\"\n",
      "                  }, \n",
      "                  {\n",
      "                    \"ns2:LangeNaam\": \"Maarn\", \n",
      "                    \"ns2:MiddelNaam\": \"Maarn\", \n",
      "                    \"ns2:StationCode\": \"MRN\", \n",
      "                    \"ns2:Type\": \"1\", \n",
      "                    \"ns2:UICCode\": \"8400417\", \n",
      "                    \"ns2:KorteNaam\": \"Maarn\"\n",
      "                  }, \n",
      "                  {\n",
      "                    \"ns2:LangeNaam\": \"Veenendaal West\", \n",
      "                    \"ns2:MiddelNaam\": \"Veenendaal W.\", \n",
      "                    \"ns2:StationCode\": \"VNDW\", \n",
      "                    \"ns2:Type\": \"0\", \n",
      "                    \"ns2:UICCode\": \"8400628\", \n",
      "                    \"ns2:KorteNaam\": \"Veenendl W\"\n",
      "                  }, \n",
      "                  {\n",
      "                    \"ns2:LangeNaam\": \"Veenendaal Centrum\", \n",
      "                    \"ns2:MiddelNaam\": \"Veenendaal C.\", \n",
      "                    \"ns2:StationCode\": \"VNDC\", \n",
      "                    \"ns2:Type\": \"1\", \n",
      "                    \"ns2:UICCode\": \"8400627\", \n",
      "                    \"ns2:KorteNaam\": \"Veenendl C\"\n",
      "                  }, \n",
      "                  {\n",
      "                    \"ns2:LangeNaam\": \"Rhenen\", \n",
      "                    \"ns2:MiddelNaam\": \"Rhenen\", \n",
      "                    \"ns2:StationCode\": \"RHN\", \n",
      "                    \"ns2:Type\": \"1\", \n",
      "                    \"ns2:UICCode\": \"8400517\", \n",
      "                    \"ns2:KorteNaam\": \"Rhenen\"\n",
      "                  }\n",
      "                ], \n",
      "                \"@InfoStatus\": \"Gepland\"\n",
      "              }, \n",
      "              {\n",
      "                \"ns2:Station\": [\n",
      "                  {\n",
      "                    \"ns2:LangeNaam\": \"Utrecht Zuilen\", \n",
      "                    \"ns2:MiddelNaam\": \"Zuilen\", \n",
      "                    \"ns2:StationCode\": \"UTZL\", \n",
      "                    \"ns2:Type\": \"0\", \n",
      "                    \"ns2:UICCode\": \"8400613\", \n",
      "                    \"ns2:KorteNaam\": \"Zuilen\"\n",
      "                  }, \n",
      "                  {\n",
      "                    \"ns2:LangeNaam\": \"Utrecht Centraal\", \n",
      "                    \"ns2:MiddelNaam\": \"Utrecht C.\", \n",
      "                    \"ns2:StationCode\": \"UT\", \n",
      "                    \"ns2:Type\": \"6\", \n",
      "                    \"ns2:UICCode\": \"8400621\", \n",
      "                    \"ns2:KorteNaam\": \"Utrecht C\"\n",
      "                  }, \n",
      "                  {\n",
      "                    \"ns2:LangeNaam\": \"Utrecht Vaartsche Rijn\", \n",
      "                    \"ns2:MiddelNaam\": \"Vaartsche Rijn\", \n",
      "                    \"ns2:StationCode\": \"UTVR\", \n",
      "                    \"ns2:Type\": \"1\", \n",
      "                    \"ns2:UICCode\": \"8400606\", \n",
      "                    \"ns2:KorteNaam\": \"VaartscheR\"\n",
      "                  }, \n",
      "                  {\n",
      "                    \"ns2:LangeNaam\": \"Bunnik\", \n",
      "                    \"ns2:MiddelNaam\": \"Bunnik\", \n",
      "                    \"ns2:StationCode\": \"BNK\", \n",
      "                    \"ns2:Type\": \"0\", \n",
      "                    \"ns2:UICCode\": \"8400141\", \n",
      "                    \"ns2:KorteNaam\": \"Bunnik\"\n",
      "                  }, \n",
      "                  {\n",
      "                    \"ns2:LangeNaam\": \"Driebergen-Zeist\", \n",
      "                    \"ns2:MiddelNaam\": \"Driebergen-Zeist\", \n",
      "                    \"ns2:StationCode\": \"DB\", \n",
      "                    \"ns2:Type\": \"1\", \n",
      "                    \"ns2:UICCode\": \"8400182\", \n",
      "                    \"ns2:KorteNaam\": \"Driebergen\"\n",
      "                  }, \n",
      "                  {\n",
      "                    \"ns2:LangeNaam\": \"Maarn\", \n",
      "                    \"ns2:MiddelNaam\": \"Maarn\", \n",
      "                    \"ns2:StationCode\": \"MRN\", \n",
      "                    \"ns2:Type\": \"1\", \n",
      "                    \"ns2:UICCode\": \"8400417\", \n",
      "                    \"ns2:KorteNaam\": \"Maarn\"\n",
      "                  }, \n",
      "                  {\n",
      "                    \"ns2:LangeNaam\": \"Veenendaal West\", \n",
      "                    \"ns2:MiddelNaam\": \"Veenendaal W.\", \n",
      "                    \"ns2:StationCode\": \"VNDW\", \n",
      "                    \"ns2:Type\": \"0\", \n",
      "                    \"ns2:UICCode\": \"8400628\", \n",
      "                    \"ns2:KorteNaam\": \"Veenendl W\"\n",
      "                  }, \n",
      "                  {\n",
      "                    \"ns2:LangeNaam\": \"Veenendaal Centrum\", \n",
      "                    \"ns2:MiddelNaam\": \"Veenendaal C.\", \n",
      "                    \"ns2:StationCode\": \"VNDC\", \n",
      "                    \"ns2:Type\": \"1\", \n",
      "                    \"ns2:UICCode\": \"8400627\", \n",
      "                    \"ns2:KorteNaam\": \"Veenendl C\"\n",
      "                  }, \n",
      "                  {\n",
      "                    \"ns2:LangeNaam\": \"Rhenen\", \n",
      "                    \"ns2:MiddelNaam\": \"Rhenen\", \n",
      "                    \"ns2:StationCode\": \"RHN\", \n",
      "                    \"ns2:Type\": \"1\", \n",
      "                    \"ns2:UICCode\": \"8400517\", \n",
      "                    \"ns2:KorteNaam\": \"Rhenen\"\n",
      "                  }\n",
      "                ], \n",
      "                \"@InfoStatus\": \"Actueel\"\n",
      "              }\n",
      "            ], \n",
      "            \"ns2:TreinVleugelEindBestemming\": [\n",
      "              {\n",
      "                \"ns2:LangeNaam\": \"Rhenen\", \n",
      "                \"@InfoStatus\": \"Gepland\", \n",
      "                \"ns2:MiddelNaam\": \"Rhenen\", \n",
      "                \"ns2:StationCode\": \"RHN\", \n",
      "                \"ns2:Type\": \"1\", \n",
      "                \"ns2:UICCode\": \"8400517\", \n",
      "                \"ns2:KorteNaam\": \"Rhenen\"\n",
      "              }, \n",
      "              {\n",
      "                \"ns2:LangeNaam\": \"Rhenen\", \n",
      "                \"@InfoStatus\": \"Actueel\", \n",
      "                \"ns2:MiddelNaam\": \"Rhenen\", \n",
      "                \"ns2:StationCode\": \"RHN\", \n",
      "                \"ns2:Type\": \"1\", \n",
      "                \"ns2:UICCode\": \"8400517\", \n",
      "                \"ns2:KorteNaam\": \"Rhenen\"\n",
      "              }\n",
      "            ], \n",
      "            \"ns2:MaterieelDeelDVS\": {\n",
      "              \"ns2:MaterieelLengte\": \"10050\", \n",
      "              \"ns2:MaterieelNummer\": \"000000-02656-0\", \n",
      "              \"ns2:PresentatieMaterieelDeelEindBestemming\": {\n",
      "                \"ns2:Uitingen\": {\n",
      "                  \"ns2:Uiting\": \"Rhenen\"\n",
      "                }\n",
      "              }, \n",
      "              \"ns2:MaterieelDeelEindBestemming\": [\n",
      "                {\n",
      "                  \"ns2:LangeNaam\": \"Rhenen\", \n",
      "                  \"@InfoStatus\": \"Gepland\", \n",
      "                  \"ns2:MiddelNaam\": \"Rhenen\", \n",
      "                  \"ns2:StationCode\": \"RHN\", \n",
      "                  \"ns2:Type\": \"1\", \n",
      "                  \"ns2:UICCode\": \"8400517\", \n",
      "                  \"ns2:KorteNaam\": \"Rhenen\"\n",
      "                }, \n",
      "                {\n",
      "                  \"ns2:LangeNaam\": \"Rhenen\", \n",
      "                  \"@InfoStatus\": \"Actueel\", \n",
      "                  \"ns2:MiddelNaam\": \"Rhenen\", \n",
      "                  \"ns2:StationCode\": \"RHN\", \n",
      "                  \"ns2:Type\": \"1\", \n",
      "                  \"ns2:UICCode\": \"8400517\", \n",
      "                  \"ns2:KorteNaam\": \"Rhenen\"\n",
      "                }\n",
      "              ], \n",
      "              \"ns2:MaterieelAanduiding\": \"6\", \n",
      "              \"ns2:MaterieelSoort\": \"SLT\"\n",
      "            }, \n",
      "            \"ns2:PresentatieTreinVleugelEindBestemming\": {\n",
      "              \"ns2:Uitingen\": {\n",
      "                \"ns2:Uiting\": \"Rhenen\"\n",
      "              }\n",
      "            }\n",
      "          }, \n",
      "          \"ns2:TreinEindBestemming\": [\n",
      "            {\n",
      "              \"ns2:LangeNaam\": \"Rhenen\", \n",
      "              \"@InfoStatus\": \"Gepland\", \n",
      "              \"ns2:MiddelNaam\": \"Rhenen\", \n",
      "              \"ns2:StationCode\": \"RHN\", \n",
      "              \"ns2:Type\": \"1\", \n",
      "              \"ns2:UICCode\": \"8400517\", \n",
      "              \"ns2:KorteNaam\": \"Rhenen\"\n",
      "            }, \n",
      "            {\n",
      "              \"ns2:LangeNaam\": \"Rhenen\", \n",
      "              \"@InfoStatus\": \"Actueel\", \n",
      "              \"ns2:MiddelNaam\": \"Rhenen\", \n",
      "              \"ns2:StationCode\": \"RHN\", \n",
      "              \"ns2:Type\": \"1\", \n",
      "              \"ns2:UICCode\": \"8400517\", \n",
      "              \"ns2:KorteNaam\": \"Rhenen\"\n",
      "            }\n",
      "          ], \n",
      "          \"ns2:AchterBlijvenAchtersteTreinDeel\": \"N\", \n",
      "          \"ns2:Reserveren\": \"N\", \n",
      "          \"ns2:AfstandPerronEindKopVertrekTrein\": \"0\", \n",
      "          \"ns2:VerkorteRoute\": [\n",
      "            {\n",
      "              \"ns2:Station\": [\n",
      "                {\n",
      "                  \"ns2:LangeNaam\": \"Utrecht Centraal\", \n",
      "                  \"ns2:MiddelNaam\": \"Utrecht C.\", \n",
      "                  \"ns2:StationCode\": \"UT\", \n",
      "                  \"ns2:Type\": \"6\", \n",
      "                  \"ns2:UICCode\": \"8400621\", \n",
      "                  \"ns2:KorteNaam\": \"Utrecht C\"\n",
      "                }, \n",
      "                {\n",
      "                  \"ns2:LangeNaam\": \"Utrecht Vaartsche Rijn\", \n",
      "                  \"ns2:MiddelNaam\": \"Vaartsche Rijn\", \n",
      "                  \"ns2:StationCode\": \"UTVR\", \n",
      "                  \"ns2:Type\": \"1\", \n",
      "                  \"ns2:UICCode\": \"8400606\", \n",
      "                  \"ns2:KorteNaam\": \"VaartscheR\"\n",
      "                }, \n",
      "                {\n",
      "                  \"ns2:LangeNaam\": \"Driebergen-Zeist\", \n",
      "                  \"ns2:MiddelNaam\": \"Driebergen-Zeist\", \n",
      "                  \"ns2:StationCode\": \"DB\", \n",
      "                  \"ns2:Type\": \"1\", \n",
      "                  \"ns2:UICCode\": \"8400182\", \n",
      "                  \"ns2:KorteNaam\": \"Driebergen\"\n",
      "                }, \n",
      "                {\n",
      "                  \"ns2:LangeNaam\": \"Maarn\", \n",
      "                  \"ns2:MiddelNaam\": \"Maarn\", \n",
      "                  \"ns2:StationCode\": \"MRN\", \n",
      "                  \"ns2:Type\": \"1\", \n",
      "                  \"ns2:UICCode\": \"8400417\", \n",
      "                  \"ns2:KorteNaam\": \"Maarn\"\n",
      "                }\n",
      "              ], \n",
      "              \"@InfoStatus\": \"Gepland\"\n",
      "            }, \n",
      "            {\n",
      "              \"ns2:Station\": [\n",
      "                {\n",
      "                  \"ns2:LangeNaam\": \"Utrecht Centraal\", \n",
      "                  \"ns2:MiddelNaam\": \"Utrecht C.\", \n",
      "                  \"ns2:StationCode\": \"UT\", \n",
      "                  \"ns2:Type\": \"6\", \n",
      "                  \"ns2:UICCode\": \"8400621\", \n",
      "                  \"ns2:KorteNaam\": \"Utrecht C\"\n",
      "                }, \n",
      "                {\n",
      "                  \"ns2:LangeNaam\": \"Utrecht Vaartsche Rijn\", \n",
      "                  \"ns2:MiddelNaam\": \"Vaartsche Rijn\", \n",
      "                  \"ns2:StationCode\": \"UTVR\", \n",
      "                  \"ns2:Type\": \"1\", \n",
      "                  \"ns2:UICCode\": \"8400606\", \n",
      "                  \"ns2:KorteNaam\": \"VaartscheR\"\n",
      "                }, \n",
      "                {\n",
      "                  \"ns2:LangeNaam\": \"Driebergen-Zeist\", \n",
      "                  \"ns2:MiddelNaam\": \"Driebergen-Zeist\", \n",
      "                  \"ns2:StationCode\": \"DB\", \n",
      "                  \"ns2:Type\": \"1\", \n",
      "                  \"ns2:UICCode\": \"8400182\", \n",
      "                  \"ns2:KorteNaam\": \"Driebergen\"\n",
      "                }, \n",
      "                {\n",
      "                  \"ns2:LangeNaam\": \"Maarn\", \n",
      "                  \"ns2:MiddelNaam\": \"Maarn\", \n",
      "                  \"ns2:StationCode\": \"MRN\", \n",
      "                  \"ns2:Type\": \"1\", \n",
      "                  \"ns2:UICCode\": \"8400417\", \n",
      "                  \"ns2:KorteNaam\": \"Maarn\"\n",
      "                }\n",
      "              ], \n",
      "              \"@InfoStatus\": \"Actueel\"\n",
      "            }\n",
      "          ], \n",
      "          \"ns2:TreinVertrekSpoor\": [\n",
      "            {\n",
      "              \"@InfoStatus\": \"Gepland\", \n",
      "              \"ns2:SpoorNummer\": \"3\"\n",
      "            }, \n",
      "            {\n",
      "              \"@InfoStatus\": \"Actueel\", \n",
      "              \"ns2:SpoorNummer\": \"3\"\n",
      "            }\n",
      "          ], \n",
      "          \"ns2:Toeslag\": \"N\", \n",
      "          \"ns2:TreinSoort\": {\n",
      "            \"@Code\": \"SPR\", \n",
      "            \"#text\": \"Sprinter\"\n",
      "          }, \n",
      "          \"ns2:TreinFormule\": \"1\", \n",
      "          \"ns2:PresentatieTreinEindBestemming\": {\n",
      "            \"ns2:Uitingen\": {\n",
      "              \"ns2:Uiting\": \"Rhenen\"\n",
      "            }\n",
      "          }, \n",
      "          \"ns2:SpeciaalKaartje\": \"N\", \n",
      "          \"ns2:Vervoerder\": \"NS\", \n",
      "          \"ns2:GedempteVertrekVertraging\": \"PT0S\"\n",
      "        }\n",
      "      }\n",
      "    }, \n",
      "    \"@xmlns:ns2\": \"urn:ndov:cdm:trein:reisinformatie:data:4\"\n",
      "  }\n",
      "}"
     ]
    }
   ],
   "source": [
    "example_departures = client.topics[b'ndovloketnl-departures'].get_simple_consumer(\n",
    "    auto_offset_reset=OffsetType.EARLIEST,\n",
    "    reset_offset_on_start=True\n",
    ").consume()\n",
    "print(json.dumps(json.loads(example_departures.value), indent=2))"
   ]
  },
  {
   "cell_type": "markdown",
   "metadata": {},
   "source": [
    "We can see that the messages have the following structure:\n",
    "\n",
    "```\n",
    "{\n",
    "  'ns1:PutReisInformatieBoodschapIn': {\n",
    "    'ns2:ReisInformatieProductDVS' or 'ns2:ReisInformatieProductDAS': {\n",
    "      'ns2:DynamischeVertrekStaat' or 'ns2:DynamischeAankomstStaat': {\n",
    "          'ns2:RitStation': <station_info>,\n",
    "          'ns2:Trein' or 'ns2:TreinAankomst': {\n",
    "              'ns2:VertrekTijd' or 'ns2:AankomstTijd': [<planned_and_actual_times>],\n",
    "              'ns2:TreinNummer': <train_number>,\n",
    "              'ns2:TreinSoort': <kind_of_train>,\n",
    "              ...\n",
    "          }\n",
    "           \n",
    "      }\n",
    "    }\n",
    "  }\n",
    "}\n",
    "```\n",
    "\n",
    "We can see also that the train stations have a long name `ns2:LangeNaam`, a medium name `ns2:MiddelNaam`, a short name `ns2:KorteNaam`, a station code `ns2:StationCode` and a kind of nummerical ID `ns2:UICCode`. When giving information about times, tracks, direction,... you will find sometimes the information twice with the status `Gepland` (which means planned, according to the schedule) and `Actueel`(which means the actual measured value). "
   ]
  },
  {
   "cell_type": "markdown",
   "metadata": {},
   "source": [
    "**Question III.a. (5/20)** We want to compute the time a train stays at a station and get a real-time histogram for a given time window. To begin with, you need to write some parsing functions that will allow you to get information from the data streams. We have prepare one function `parse_train_dep` for the stream `ndovloketnl-departures`, which returns a Key-Value pair."
   ]
  },
  {
   "cell_type": "code",
   "execution_count": 13,
   "metadata": {
    "scrolled": true
   },
   "outputs": [
    {
     "data": {
      "application/vnd.jupyter.widget-view+json": {
       "model_id": "",
       "version_major": 2,
       "version_minor": 0
      },
      "text/plain": [
       "FloatProgress(value=0.0, bar_style='info', description='Progress:', layout=Layout(height='25px', width='50%'),…"
      ]
     },
     "metadata": {},
     "output_type": "display_data"
    }
   ],
   "source": [
    "import json\n",
    "\n",
    "def parse_train_dep(s):\n",
    "    obj = json.loads(s)\n",
    "    tn = obj.get('ns1:PutReisInformatieBoodschapIn', {}).get('ns2:ReisInformatieProductDVS', {}).get('ns2:DynamischeVertrekStaat', {}).get('ns2:Trein', {}).get(\"ns2:TreinNummer\")\n",
    "    st = obj.get('ns1:PutReisInformatieBoodschapIn', {}).get('ns2:ReisInformatieProductDVS', {}).get('ns2:DynamischeVertrekStaat', {}).get('ns2:RitStation', {}).get(\"ns2:UICCode\")\n",
    "    if tn and st:\n",
    "        return [(\"{}-{}\".format(tn, st), obj)]\n",
    "    else:\n",
    "        return []"
   ]
  },
  {
   "cell_type": "markdown",
   "metadata": {},
   "source": [
    "__Q (1/5)__ Please check the function `parse_train_dep` above. Explain how we construct the Key and the Value, and why we construct them in this way."
   ]
  },
  {
   "cell_type": "markdown",
   "metadata": {},
   "source": [
    "__Answer__: The key is contructed by combining the train ID \"ns2:TreinNummer\" and the station ID \"ns2:UICCode\". The value is the message in json format. This key-value organization allows us to obtain/process information for any specific train departuring from any specific station. The key is constructued using dict.get() to skip messages with empty train or station ID."
   ]
  },
  {
   "cell_type": "markdown",
   "metadata": {},
   "source": [
    "__Q (2/5)__ Take `parse_train_dep` as an example and write the function `parse_train_arr` for the stream `ndovloketnl-arrivals`. Make sure they have the same output format."
   ]
  },
  {
   "cell_type": "code",
   "execution_count": 14,
   "metadata": {
    "scrolled": true
   },
   "outputs": [
    {
     "data": {
      "application/vnd.jupyter.widget-view+json": {
       "model_id": "",
       "version_major": 2,
       "version_minor": 0
      },
      "text/plain": [
       "FloatProgress(value=0.0, bar_style='info', description='Progress:', layout=Layout(height='25px', width='50%'),…"
      ]
     },
     "metadata": {},
     "output_type": "display_data"
    }
   ],
   "source": [
    "def parse_train_arr(s):\n",
    "    obj = json.loads(s)\n",
    "    tn = obj.get('ns1:PutReisInformatieBoodschapIn', {}).get('ns2:ReisInformatieProductDAS', {}).get('ns2:DynamischeAankomstStaat', {}).get('ns2:TreinAankomst', {}).get(\"ns2:TreinNummer\")\n",
    "    st = obj.get('ns1:PutReisInformatieBoodschapIn', {}).get('ns2:ReisInformatieProductDAS', {}).get('ns2:DynamischeAankomstStaat', {}).get('ns2:RitStation', {}).get(\"ns2:UICCode\")\n",
    "    if tn and st:\n",
    "        return [(\"{}-{}\".format(tn, st), obj)]\n",
    "    else:\n",
    "        return []   "
   ]
  },
  {
   "cell_type": "markdown",
   "metadata": {},
   "source": [
    "__Q (2/5)__ Another parsing function you may need is `get_actual_time`, which will allow you to extract the actual time from the fields of time information, which are `ns2:AankomstTijd` in the arrival stream and `ns2:VertrekTijd` in the departure stream. \n",
    "\n",
    "__Note:__ These two fields may be empty and they may not contain the actual time information. In both cases the function should return `None`."
   ]
  },
  {
   "cell_type": "code",
   "execution_count": 15,
   "metadata": {
    "scrolled": true
   },
   "outputs": [
    {
     "data": {
      "application/vnd.jupyter.widget-view+json": {
       "model_id": "",
       "version_major": 2,
       "version_minor": 0
      },
      "text/plain": [
       "FloatProgress(value=0.0, bar_style='info', description='Progress:', layout=Layout(height='25px', width='50%'),…"
      ]
     },
     "metadata": {},
     "output_type": "display_data"
    }
   ],
   "source": [
    "import datetime\n",
    "def get_actual_time(tab):\n",
    "    time = None\n",
    "    for entry in tab:\n",
    "        if entry.get('@InfoStatus') == 'Actueel':\n",
    "            try:\n",
    "            # Assume timestamp is all in this format \"2020-04-23T15:32:00.000Z\"\n",
    "                time = datetime.datetime.strptime(entry.get('#text'), '%Y-%m-%dT%H:%M:%S.%fZ')\n",
    "            # Try another possible format in case the time string is not in the format sepcified above\n",
    "            except:\n",
    "                try:\n",
    "                    time = datetime.datetime.strptime(entry.get('#text'), '%Y-%m-%dT%H:%M:%SZ')\n",
    "                except:  \n",
    "                    pass\n",
    "            break\n",
    "    return time"
   ]
  },
  {
   "cell_type": "code",
   "execution_count": 16,
   "metadata": {},
   "outputs": [
    {
     "data": {
      "application/vnd.jupyter.widget-view+json": {
       "model_id": "",
       "version_major": 2,
       "version_minor": 0
      },
      "text/plain": [
       "FloatProgress(value=0.0, bar_style='info', description='Progress:', layout=Layout(height='25px', width='50%'),…"
      ]
     },
     "metadata": {},
     "output_type": "display_data"
    }
   ],
   "source": [
    "# Get the field of time in the departure stream\n",
    "example_json = json.loads(example_departures.value)\n",
    "tab = example_json.get('ns1:PutReisInformatieBoodschapIn', {}).get(\"ns2:ReisInformatieProductDVS\", {}).get(\"ns2:DynamischeVertrekStaat\", {}).get(\"ns2:Trein\", {}).get(\"ns2:VertrekTijd\",{})"
   ]
  },
  {
   "cell_type": "code",
   "execution_count": 17,
   "metadata": {},
   "outputs": [
    {
     "data": {
      "application/vnd.jupyter.widget-view+json": {
       "model_id": "",
       "version_major": 2,
       "version_minor": 0
      },
      "text/plain": [
       "FloatProgress(value=0.0, bar_style='info', description='Progress:', layout=Layout(height='25px', width='50%'),…"
      ]
     },
     "metadata": {},
     "output_type": "display_data"
    },
    {
     "name": "stdout",
     "output_type": "stream",
     "text": [
      "datetime.datetime(2020, 4, 23, 15, 32)"
     ]
    }
   ],
   "source": [
    "# Example results from `get_actual_time`\n",
    "get_actual_time(tab)"
   ]
  },
  {
   "cell_type": "markdown",
   "metadata": {},
   "source": [
    "**Question III.b. (5/20)** Create two Spark streams from the arrivals and departures where the records are in the form (Key, Value) using `parse_train_dep` and  `parse_train_arr`. "
   ]
  },
  {
   "cell_type": "code",
   "execution_count": 18,
   "metadata": {
    "scrolled": true
   },
   "outputs": [
    {
     "data": {
      "application/vnd.jupyter.widget-view+json": {
       "model_id": "",
       "version_major": 2,
       "version_minor": 0
      },
      "text/plain": [
       "FloatProgress(value=0.0, bar_style='info', description='Progress:', layout=Layout(height='25px', width='50%'),…"
      ]
     },
     "metadata": {},
     "output_type": "display_data"
    }
   ],
   "source": [
    "# Create a StreamingContext with two working thread and batch interval of 20 seconds.\n",
    "ssc = StreamingContext(sc, 20)\n",
    "ssc.checkpoint(checkpoint)\n",
    "\n",
    "group_id = 'ns-{0}'.format(username)\n",
    "\n",
    "# Input streams\n",
    "arrival_stream = KafkaUtils.createStream(ssc, ZOOKEEPER_QUORUM, group_id, { 'ndovloketnl-arrivals': 1})\n",
    "departure_stream = KafkaUtils.createStream(ssc, ZOOKEEPER_QUORUM, group_id, { 'ndovloketnl-departures': 1})\n",
    "\n",
    "# Parsing the input streams\n",
    "arrival_stream_parsed = arrival_stream.flatMap(lambda x: parse_train_arr(x[1]))\n",
    "departure_stream_parsed = departure_stream.flatMap(lambda x: parse_train_dep(x[1]))"
   ]
  },
  {
   "cell_type": "markdown",
   "metadata": {},
   "source": [
    "**Question III.c. (5/20)** \n",
    "Every 20 seconds, we want to have a list of trains that had departed from any train station after staying for 5 minutes or less at the station. Apply a window of 20s sliding interval on arrival and departure streams. Join two streams such that trains staying for 5 minutes or less (± 20 seconds error due to sliding interval) at any station are caught by the join in the RDD window of the joined stream (you can ignore late messages). \n",
    "\n",
    "__Hint:__\n",
    "- Check [here](https://spark.apache.org/docs/2.3.1/streaming-programming-guide.html#window-operations) for windowed computations in Spark Streaming.\n",
    "- Use the methods [reduceByKeyAndWindow](https://spark.apache.org/docs/2.3.1/api/python/pyspark.streaming.html?highlight=reducebykey#pyspark.streaming.DStream.reduceByKeyAndWindow) and [join](https://spark.apache.org/docs/2.3.1/api/python/pyspark.streaming.html?highlight=reducebykey#pyspark.streaming.DStream.join) on DStream objects.\n",
    "- Both windows should have `slideDuration` of 20s\n",
    "- You have to pick the sizes of windows `windowDuration` carefully. The sizes can be different: \n",
    "    - The trains staying for 5 minutes or less (± 20 seconds error due to sliding interval) must be in the joined stream.\n",
    "    - A same stay (i.e. one train at one station) is caught in the joined stream once and only once."
   ]
  },
  {
   "cell_type": "code",
   "execution_count": 19,
   "metadata": {
    "scrolled": true
   },
   "outputs": [
    {
     "data": {
      "application/vnd.jupyter.widget-view+json": {
       "model_id": "",
       "version_major": 2,
       "version_minor": 0
      },
      "text/plain": [
       "FloatProgress(value=0.0, bar_style='info', description='Progress:', layout=Layout(height='25px', width='50%'),…"
      ]
     },
     "metadata": {},
     "output_type": "display_data"
    }
   ],
   "source": [
    "# Parse actual arr/dep time\n",
    "# Window the streams and remove duplicates\n",
    "# Set window size 5min20s, this way we will capture all trains staying less than 5 minutes.\n",
    "# But we may also capture some trains staying between 5min and 5min20s due to sliding interval\n",
    "arrival_time = arrival_stream_parsed.map(lambda x: (x[0], get_actual_time(x[1].get('ns1:PutReisInformatieBoodschapIn', {})\\\n",
    "                                                                              .get(\"ns2:ReisInformatieProductDAS\", {})\\\n",
    "                                                                              .get(\"ns2:DynamischeAankomstStaat\", {})\\\n",
    "                                                                              .get(\"ns2:TreinAankomst\", {})\\\n",
    "                                                                              .get(\"ns2:AankomstTijd\",{})\n",
    "                                                                         )\n",
    "                                                    )\n",
    "                                        )\\\n",
    "                                     .reduceByKeyAndWindow(lambda x,y: x, 320, 20)\n",
    "departure_time = departure_stream_parsed.map(lambda x: (x[0], get_actual_time(x[1].get('ns1:PutReisInformatieBoodschapIn', {})\\\n",
    "                                                                                  .get(\"ns2:ReisInformatieProductDVS\", {})\\\n",
    "                                                                                  .get(\"ns2:DynamischeVertrekStaat\", {})\\\n",
    "                                                                                  .get(\"ns2:Trein\", {})\\\n",
    "                                                                                  .get(\"ns2:VertrekTijd\",{})\n",
    "                                                                             )\n",
    "                                                       )\n",
    "                                            )\\\n",
    "                                     .reduceByKeyAndWindow(lambda x,y: x, 320, 20)\n",
    "# Join the stream\n",
    "joined_stream = arrival_time.join(departure_time)"
   ]
  },
  {
   "cell_type": "markdown",
   "metadata": {},
   "source": [
    "**Question III.d. (5/20)** On the joined stream, compute the length of each stay (you can round to the minute) and produce a stream of histograms. You don't need to plot them, a value/count array is enough, like:\n",
    "```\n",
    "-------------------------------------------\n",
    "Time: 2018-05-17 11:10:00\n",
    "-------------------------------------------\n",
    "(0.0, 110)\n",
    "(8.0, 2)\n",
    "(4.0, 3)\n",
    "\n",
    "-------------------------------------------\n",
    "Time: 2018-05-17 11:10:20\n",
    "-------------------------------------------\n",
    "(0.0, 46)\n",
    "(4.0, 2)\n",
    "(1.0, 5)\n",
    "```"
   ]
  },
  {
   "cell_type": "code",
   "execution_count": 20,
   "metadata": {
    "scrolled": true
   },
   "outputs": [
    {
     "data": {
      "application/vnd.jupyter.widget-view+json": {
       "model_id": "",
       "version_major": 2,
       "version_minor": 0
      },
      "text/plain": [
       "FloatProgress(value=0.0, bar_style='info', description='Progress:', layout=Layout(height='25px', width='50%'),…"
      ]
     },
     "metadata": {},
     "output_type": "display_data"
    }
   ],
   "source": [
    "# Filter out trains with more than 5 mins delay (could happen because of sliding interval and message delay)\n",
    "histograms_stream = joined_stream.filter(lambda x: (x[1][1] - x[1][0]).seconds <= 300)\\\n",
    "                                 .map(lambda x: (int((x[1][1] - x[1][0]).seconds / 60), 1))\\\n",
    "                                 .reduceByKey(lambda x, y: x + y)\n",
    "\n",
    "histograms_stream.pprint()"
   ]
  },
  {
   "cell_type": "code",
   "execution_count": 21,
   "metadata": {
    "scrolled": true
   },
   "outputs": [
    {
     "data": {
      "application/vnd.jupyter.widget-view+json": {
       "model_id": "",
       "version_major": 2,
       "version_minor": 0
      },
      "text/plain": [
       "FloatProgress(value=0.0, bar_style='info', description='Progress:', layout=Layout(height='25px', width='50%'),…"
      ]
     },
     "metadata": {},
     "output_type": "display_data"
    }
   ],
   "source": [
    "ssc.start() \n",
    "ssc.awaitTermination(timeout=60)"
   ]
  },
  {
   "cell_type": "code",
   "execution_count": 22,
   "metadata": {
    "scrolled": true
   },
   "outputs": [
    {
     "data": {
      "application/vnd.jupyter.widget-view+json": {
       "model_id": "",
       "version_major": 2,
       "version_minor": 0
      },
      "text/plain": [
       "FloatProgress(value=0.0, bar_style='info', description='Progress:', layout=Layout(height='25px', width='50%'),…"
      ]
     },
     "metadata": {},
     "output_type": "display_data"
    },
    {
     "name": "stdout",
     "output_type": "stream",
     "text": [
      "-------------------------------------------\n",
      "Time: 2020-05-13 20:27:20\n",
      "-------------------------------------------\n",
      "(0, 26)\n",
      "(1, 3)\n",
      "\n",
      "-------------------------------------------\n",
      "Time: 2020-05-13 20:27:40\n",
      "-------------------------------------------\n",
      "(0, 10)\n",
      "(2, 3)\n",
      "(1, 1)\n",
      "\n",
      "-------------------------------------------\n",
      "Time: 2020-05-13 20:28:00\n",
      "-------------------------------------------\n",
      "(0, 12)\n",
      "(2, 3)\n",
      "(1, 4)\n",
      "\n",
      "-------------------------------------------\n",
      "Time: 2020-05-13 20:28:20\n",
      "-------------------------------------------\n",
      "\n",
      "-------------------------------------------\n",
      "Time: 2020-05-13 20:28:40\n",
      "-------------------------------------------\n",
      "\n",
      "-------------------------------------------\n",
      "Time: 2020-05-13 20:29:00\n",
      "-------------------------------------------\n",
      "\n",
      "-------------------------------------------\n",
      "Time: 2020-05-13 20:29:20\n",
      "-------------------------------------------\n",
      "\n",
      "-------------------------------------------\n",
      "Time: 2020-05-13 20:29:40\n",
      "-------------------------------------------\n",
      "\n",
      "-------------------------------------------\n",
      "Time: 2020-05-13 20:30:00\n",
      "-------------------------------------------\n",
      "\n",
      "-------------------------------------------\n",
      "Time: 2020-05-13 20:30:20\n",
      "-------------------------------------------\n",
      "\n",
      "-------------------------------------------\n",
      "Time: 2020-05-13 20:30:40\n",
      "-------------------------------------------\n",
      "\n",
      "-------------------------------------------\n",
      "Time: 2020-05-13 20:31:00\n",
      "-------------------------------------------\n",
      "\n",
      "-------------------------------------------\n",
      "Time: 2020-05-13 20:31:20\n",
      "-------------------------------------------\n",
      "\n",
      "-------------------------------------------\n",
      "Time: 2020-05-13 20:31:40\n",
      "-------------------------------------------\n",
      "\n",
      "-------------------------------------------\n",
      "Time: 2020-05-13 20:32:00\n",
      "-------------------------------------------"
     ]
    }
   ],
   "source": [
    "ssc.stop(stopSparkContext=False, stopGraceFully=True)"
   ]
  },
  {
   "cell_type": "code",
   "execution_count": null,
   "metadata": {},
   "outputs": [],
   "source": []
  }
 ],
 "metadata": {
  "kernelspec": {
   "display_name": "PySpark",
   "language": "",
   "name": "pysparkkernel"
  },
  "language_info": {
   "codemirror_mode": {
    "name": "python",
    "version": 3
   },
   "mimetype": "text/x-python",
   "name": "pyspark",
   "pygments_lexer": "python3"
  }
 },
 "nbformat": 4,
 "nbformat_minor": 4
}
