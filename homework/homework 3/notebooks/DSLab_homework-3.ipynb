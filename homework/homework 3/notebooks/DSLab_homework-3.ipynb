{
 "cells": [
  {
   "cell_type": "markdown",
   "metadata": {},
   "source": [
    "# Homework 3 - Uncovering World Events using Twitter Hashtags\n",
    "\n",
    "## ... and learning about Spark `DataFrames` along the way\n",
    "\n",
    "In this notebook, we will use temporal information about Twitter hashtags to discover trending topics and potentially uncover world events as they occurred. \n",
    "\n",
    "__Hand-in:__\n",
    "\n",
    "- __Due: 28.04.2020 23:59:59 CET__\n",
    "- `git push` your final verion to your group's Renku repository before the due\n",
    "- check if `Dockerfile`, `environment.yml` and `requirements.txt` are properly written\n",
    "- add necessary comments and discussion to make your codes readable"
   ]
  },
  {
   "cell_type": "markdown",
   "metadata": {},
   "source": [
    "### Hashtags\n",
    "\n",
    "The idea here is that when an event is happening and people are having a conversation about it on Twitter, a set of uniform hashtags that represent the event spontaneously evolves. Twitter users then use those hashtags to communicate with one another. Some hashtags, like `#RT` for \"retweet\" or just `#retweet` are used frequently and don't tell us much about what is going on. But a sudden appearance of a hashtag like `#oscars` probably indicates that the oscars are underway. For a particularly cool example of this type of analysis, check out [this blog post about earthquake detection using Twitter data](https://blog.twitter.com/official/en_us/a/2015/usgs-twitter-data-earthquake-detection.html) (although they search the text and not necessarily hashtags)."
   ]
  },
  {
   "cell_type": "code",
   "execution_count": 1,
   "metadata": {
    "scrolled": true
   },
   "outputs": [],
   "source": [
    "%%local\n",
    "%matplotlib inline\n",
    "import matplotlib.pylab as plt\n",
    "plt.rcParams['figure.figsize'] = (10,6)\n",
    "plt.rcParams['font.size'] = 18\n",
    "plt.style.use('fivethirtyeight')"
   ]
  },
  {
   "cell_type": "markdown",
   "metadata": {},
   "source": [
    "## Initialize the `SparkSession`"
   ]
  },
  {
   "cell_type": "code",
   "execution_count": 2,
   "metadata": {},
   "outputs": [
    {
     "name": "stdout",
     "output_type": "stream",
     "text": [
      "Starting Spark application\n"
     ]
    },
    {
     "data": {
      "text/html": [
       "<table>\n",
       "<tr><th>ID</th><th>YARN Application ID</th><th>Kind</th><th>State</th><th>Spark UI</th><th>Driver log</th><th>Current session?</th></tr><tr><td>3714</td><td>application_1587988164357_0330</td><td>pyspark</td><td>idle</td><td><a target=\"_blank\" href=\"http://iccluster044.iccluster.epfl.ch:8088/proxy/application_1587988164357_0330/\">Link</a></td><td><a target=\"_blank\" href=\"http://iccluster069.iccluster.epfl.ch:8042/node/containerlogs/container_e05_1587988164357_0330_01_000001/ebouille\">Link</a></td><td>✔</td></tr></table>"
      ],
      "text/plain": [
       "<IPython.core.display.HTML object>"
      ]
     },
     "metadata": {},
     "output_type": "display_data"
    },
    {
     "data": {
      "application/vnd.jupyter.widget-view+json": {
       "model_id": "",
       "version_major": 2,
       "version_minor": 0
      },
      "text/plain": [
       "FloatProgress(value=0.0, bar_style='info', description='Progress:', layout=Layout(height='25px', width='50%'),…"
      ]
     },
     "metadata": {},
     "output_type": "display_data"
    },
    {
     "name": "stdout",
     "output_type": "stream",
     "text": [
      "SparkSession available as 'spark'.\n"
     ]
    },
    {
     "data": {
      "application/vnd.jupyter.widget-view+json": {
       "model_id": "",
       "version_major": 2,
       "version_minor": 0
      },
      "text/plain": [
       "FloatProgress(value=0.0, bar_style='info', description='Progress:', layout=Layout(height='25px', width='50%'),…"
      ]
     },
     "metadata": {},
     "output_type": "display_data"
    },
    {
     "name": "stdout",
     "output_type": "stream",
     "text": [
      "<pyspark.sql.session.SparkSession object at 0x7f1e0b104110>"
     ]
    }
   ],
   "source": [
    "spark"
   ]
  },
  {
   "cell_type": "code",
   "execution_count": 3,
   "metadata": {},
   "outputs": [
    {
     "data": {
      "text/html": [
       "Current session configs: <tt>{'driverMemory': '1000M', 'executorMemory': '4G', 'executorCores': 4, 'numExecutors': 10, 'kind': 'pyspark'}</tt><br>"
      ],
      "text/plain": [
       "<IPython.core.display.HTML object>"
      ]
     },
     "metadata": {},
     "output_type": "display_data"
    },
    {
     "data": {
      "text/html": [
       "<table>\n",
       "<tr><th>ID</th><th>YARN Application ID</th><th>Kind</th><th>State</th><th>Spark UI</th><th>Driver log</th><th>Current session?</th></tr><tr><td>3609</td><td>application_1587988164357_0225</td><td>pyspark</td><td>idle</td><td><a target=\"_blank\" href=\"http://iccluster044.iccluster.epfl.ch:8088/proxy/application_1587988164357_0225/\">Link</a></td><td><a target=\"_blank\" href=\"http://iccluster069.iccluster.epfl.ch:8042/node/containerlogs/container_e05_1587988164357_0225_01_000001/ebouille\">Link</a></td><td></td></tr><tr><td>3702</td><td>application_1587988164357_0318</td><td>pyspark</td><td>idle</td><td><a target=\"_blank\" href=\"http://iccluster044.iccluster.epfl.ch:8088/proxy/application_1587988164357_0318/\">Link</a></td><td><a target=\"_blank\" href=\"http://iccluster072.iccluster.epfl.ch:8042/node/containerlogs/container_e05_1587988164357_0318_01_000001/ebouille\">Link</a></td><td></td></tr><tr><td>3706</td><td>application_1587988164357_0322</td><td>pyspark</td><td>idle</td><td><a target=\"_blank\" href=\"http://iccluster044.iccluster.epfl.ch:8088/proxy/application_1587988164357_0322/\">Link</a></td><td><a target=\"_blank\" href=\"http://iccluster071.iccluster.epfl.ch:8042/node/containerlogs/container_e05_1587988164357_0322_01_000001/ebouille\">Link</a></td><td></td></tr><tr><td>3707</td><td>application_1587988164357_0323</td><td>pyspark</td><td>idle</td><td><a target=\"_blank\" href=\"http://iccluster044.iccluster.epfl.ch:8088/proxy/application_1587988164357_0323/\">Link</a></td><td><a target=\"_blank\" href=\"http://iccluster071.iccluster.epfl.ch:8042/node/containerlogs/container_e05_1587988164357_0323_01_000001/ebouille\">Link</a></td><td></td></tr><tr><td>3708</td><td>application_1587988164357_0324</td><td>pyspark</td><td>idle</td><td><a target=\"_blank\" href=\"http://iccluster044.iccluster.epfl.ch:8088/proxy/application_1587988164357_0324/\">Link</a></td><td><a target=\"_blank\" href=\"http://iccluster068.iccluster.epfl.ch:8042/node/containerlogs/container_e05_1587988164357_0324_01_000001/ebouille\">Link</a></td><td></td></tr><tr><td>3710</td><td>application_1587988164357_0326</td><td>pyspark</td><td>idle</td><td><a target=\"_blank\" href=\"http://iccluster044.iccluster.epfl.ch:8088/proxy/application_1587988164357_0326/\">Link</a></td><td><a target=\"_blank\" href=\"http://iccluster071.iccluster.epfl.ch:8042/node/containerlogs/container_e05_1587988164357_0326_01_000001/ebouille\">Link</a></td><td></td></tr><tr><td>3713</td><td>application_1587988164357_0329</td><td>pyspark</td><td>idle</td><td><a target=\"_blank\" href=\"http://iccluster044.iccluster.epfl.ch:8088/proxy/application_1587988164357_0329/\">Link</a></td><td><a target=\"_blank\" href=\"http://iccluster071.iccluster.epfl.ch:8042/node/containerlogs/container_e05_1587988164357_0329_01_000001/ebouille\">Link</a></td><td></td></tr><tr><td>3714</td><td>application_1587988164357_0330</td><td>pyspark</td><td>idle</td><td><a target=\"_blank\" href=\"http://iccluster044.iccluster.epfl.ch:8088/proxy/application_1587988164357_0330/\">Link</a></td><td><a target=\"_blank\" href=\"http://iccluster069.iccluster.epfl.ch:8042/node/containerlogs/container_e05_1587988164357_0330_01_000001/ebouille\">Link</a></td><td>✔</td></tr></table>"
      ],
      "text/plain": [
       "<IPython.core.display.HTML object>"
      ]
     },
     "metadata": {},
     "output_type": "display_data"
    }
   ],
   "source": [
    "%%info"
   ]
  },
  {
   "cell_type": "code",
   "execution_count": 4,
   "metadata": {},
   "outputs": [
    {
     "data": {
      "text/html": [
       "\n",
       "<table>\n",
       "  <tr>\n",
       "    <th>Magic</th>\n",
       "    <th>Example</th>\n",
       "    <th>Explanation</th>\n",
       "  </tr>\n",
       "  <tr>\n",
       "    <td>info</td>\n",
       "    <td>%%info</td>\n",
       "    <td>Outputs session information for the current Livy endpoint.</td>\n",
       "  </tr>\n",
       "  <tr>\n",
       "    <td>cleanup</td>\n",
       "    <td>%%cleanup -f</td>\n",
       "    <td>Deletes all sessions for the current Livy endpoint, including this notebook's session. The force flag is mandatory.</td>\n",
       "  </tr>\n",
       "  <tr>\n",
       "    <td>delete</td>\n",
       "    <td>%%delete -f -s 0</td>\n",
       "    <td>Deletes a session by number for the current Livy endpoint. Cannot delete this kernel's session.</td>\n",
       "  </tr>\n",
       "  <tr>\n",
       "    <td>logs</td>\n",
       "    <td>%%logs</td>\n",
       "    <td>Outputs the current session's Livy logs.</td>\n",
       "  </tr>\n",
       "  <tr>\n",
       "    <td>configure</td>\n",
       "    <td>%%configure -f<br/>{\"executorMemory\": \"1000M\", \"executorCores\": 4}</td>\n",
       "    <td>Configure the session creation parameters. The force flag is mandatory if a session has already been\n",
       "    created and the session will be dropped and recreated.<br/>Look at <a href=\"https://github.com/cloudera/livy#request-body\">\n",
       "    Livy's POST /sessions Request Body</a> for a list of valid parameters. Parameters must be passed in as a JSON string.</td>\n",
       "  </tr>\n",
       "  <tr>\n",
       "    <td>spark</td>\n",
       "    <td>%%spark -o df<br/>df = spark.read.parquet('...</td>\n",
       "    <td>Executes spark commands.\n",
       "    Parameters:\n",
       "      <ul>\n",
       "        <li>-o VAR_NAME: The Spark dataframe of name VAR_NAME will be available in the %%local Python context as a\n",
       "          <a href=\"http://pandas.pydata.org/\">Pandas</a> dataframe with the same name.</li>\n",
       "        <li>-m METHOD: Sample method, either <tt>take</tt> or <tt>sample</tt>.</li>\n",
       "        <li>-n MAXROWS: The maximum number of rows of a dataframe that will be pulled from Livy to Jupyter.\n",
       "            If this number is negative, then the number of rows will be unlimited.</li>\n",
       "        <li>-r FRACTION: Fraction used for sampling.</li>\n",
       "      </ul>\n",
       "    </td>\n",
       "  </tr>\n",
       "  <tr>\n",
       "    <td>sql</td>\n",
       "    <td>%%sql -o tables -q<br/>SHOW TABLES</td>\n",
       "    <td>Executes a SQL query against the variable sqlContext (Spark v1.x) or spark (Spark v2.x).\n",
       "    Parameters:\n",
       "      <ul>\n",
       "        <li>-o VAR_NAME: The result of the SQL query will be available in the %%local Python context as a\n",
       "          <a href=\"http://pandas.pydata.org/\">Pandas</a> dataframe.</li>\n",
       "        <li>-q: The magic will return None instead of the dataframe (no visualization).</li>\n",
       "        <li>-m, -n, -r are the same as the %%spark parameters above.</li>\n",
       "      </ul>\n",
       "    </td>\n",
       "  </tr>\n",
       "  <tr>\n",
       "    <td>local</td>\n",
       "    <td>%%local<br/>a = 1</td>\n",
       "    <td>All the code in subsequent lines will be executed locally. Code must be valid Python code.</td>\n",
       "  </tr>\n",
       "  <tr>\n",
       "    <td>send_to_spark</td>\n",
       "    <td>%%send_to_spark -o variable -t str -n var</td>\n",
       "    <td>Sends a variable from local output to spark cluster.\n",
       "    <br/>\n",
       "    Parameters:\n",
       "      <ul>\n",
       "        <li>-i VAR_NAME: Local Pandas DataFrame(or String) of name VAR_NAME will be available in the %%spark context as a \n",
       "          Spark dataframe(or String) with the same name.</li>\n",
       "        <li>-t TYPE: Specifies the type of variable passed as -i. Available options are:\n",
       "         `str` for string and `df` for Pandas DataFrame. Optional, defaults to `str`.</li>\n",
       "        <li>-n NAME: Custom name of variable passed as -i. Optional, defaults to -i variable name.</li>\n",
       "        <li>-m MAXROWS: Maximum amount of Pandas rows that will be sent to Spark. Defaults to 2500.</li>\n",
       "      </ul>\n",
       "    </td>\n",
       "  </tr>\n",
       "</table>\n"
      ],
      "text/plain": [
       "<IPython.core.display.HTML object>"
      ]
     },
     "metadata": {},
     "output_type": "display_data"
    }
   ],
   "source": [
    "%%help"
   ]
  },
  {
   "cell_type": "markdown",
   "metadata": {},
   "source": [
    "## PART I: Set up the hashtag `DataFrame` (10 points / 60)\n",
    "\n",
    "We have prepared the hashtag data spanning the time from May to July, 2016. This is a significant time in modern European history, e.g. see [Brexit](https://en.wikipedia.org/wiki/Brexit). Lets see if we can see any interesting trends about these events in the Twitter data. "
   ]
  },
  {
   "cell_type": "code",
   "execution_count": 5,
   "metadata": {
    "scrolled": true
   },
   "outputs": [
    {
     "data": {
      "application/vnd.jupyter.widget-view+json": {
       "model_id": "",
       "version_major": 2,
       "version_minor": 0
      },
      "text/plain": [
       "FloatProgress(value=0.0, bar_style='info', description='Progress:', layout=Layout(height='25px', width='50%'),…"
      ]
     },
     "metadata": {},
     "output_type": "display_data"
    }
   ],
   "source": [
    "import pyspark.sql.functions as functions"
   ]
  },
  {
   "cell_type": "markdown",
   "metadata": {},
   "source": [
    "### I.a: TODO (1 point/10)\n",
    "\n",
    "Load the **parquet** data from `/data/twitter/parquet/hashtags` into a Spark dataframe using the appropriate `SparkSession` method. \n",
    "\n",
    "Look at the first few rows of the dataset - note the timestamp and its units!"
   ]
  },
  {
   "cell_type": "code",
   "execution_count": 6,
   "metadata": {
    "scrolled": true
   },
   "outputs": [
    {
     "data": {
      "application/vnd.jupyter.widget-view+json": {
       "model_id": "",
       "version_major": 2,
       "version_minor": 0
      },
      "text/plain": [
       "FloatProgress(value=0.0, bar_style='info', description='Progress:', layout=Layout(height='25px', width='50%'),…"
      ]
     },
     "metadata": {},
     "output_type": "display_data"
    }
   ],
   "source": [
    "# TODO\n",
    "df = spark.read.parquet('/data/twitter/parquet/hashtags')"
   ]
  },
  {
   "cell_type": "code",
   "execution_count": 7,
   "metadata": {},
   "outputs": [
    {
     "data": {
      "application/vnd.jupyter.widget-view+json": {
       "model_id": "",
       "version_major": 2,
       "version_minor": 0
      },
      "text/plain": [
       "FloatProgress(value=0.0, bar_style='info', description='Progress:', layout=Layout(height='25px', width='50%'),…"
      ]
     },
     "metadata": {},
     "output_type": "display_data"
    },
    {
     "name": "stdout",
     "output_type": "stream",
     "text": [
      "root\n",
      " |-- timestamp_s: long (nullable = true)\n",
      " |-- id: long (nullable = true)\n",
      " |-- lang: string (nullable = true)\n",
      " |-- hashtag: string (nullable = true)"
     ]
    }
   ],
   "source": [
    "df.printSchema()"
   ]
  },
  {
   "cell_type": "code",
   "execution_count": 8,
   "metadata": {},
   "outputs": [
    {
     "data": {
      "application/vnd.jupyter.widget-view+json": {
       "model_id": "",
       "version_major": 2,
       "version_minor": 0
      },
      "text/plain": [
       "FloatProgress(value=0.0, bar_style='info', description='Progress:', layout=Layout(height='25px', width='50%'),…"
      ]
     },
     "metadata": {},
     "output_type": "display_data"
    },
    {
     "name": "stdout",
     "output_type": "stream",
     "text": [
      "+-----------+------------------+----+-----------------+\n",
      "|timestamp_s|                id|lang|          hashtag|\n",
      "+-----------+------------------+----+-----------------+\n",
      "| 1464768480|737918607980670976|  tr|          lovebts|\n",
      "| 1464768480|737918607980670976|  tr|            방탄소년단|\n",
      "| 1464768480|737918607963873281|  ja|          tokyofm|\n",
      "| 1464768480|737918607976452096|  en|          SotoBot|\n",
      "| 1464768480|737918607976497152|  en|           Fenton|\n",
      "| 1464768480|737918607976497152|  en|     vintageglass|\n",
      "| 1464768480|737918607976497152|  en|        glassbell|\n",
      "| 1464768480|737918607959719941|  en|          vintage|\n",
      "| 1464768480|737918607959719941|  en|            1970s|\n",
      "| 1464768480|737918607959719941|  en|              mod|\n",
      "| 1464768481|737918612158189568|  ar|        ابن_الغيم|\n",
      "| 1464768481|737918612158156802|  en|creativitybooster|\n",
      "| 1464768481|737918612158156802|  en|    growthhacking|\n",
      "| 1464768481|737918612158156802|  en| entrepreneurship|\n",
      "| 1464768481|737918612158222336|  en|    jewelryonetsy|\n",
      "| 1464768481|737918612158222336|  en|          Jetteam|\n",
      "| 1464768481|737918612162392064|  en|       TeenChoice|\n",
      "| 1464768481|737918612162392064|  en| ChoiceMaleHottie|\n",
      "| 1464768481|737918612149829632|  en|       NowPlaying|\n",
      "| 1464768481|737918612149829632|  en|             Maui|\n",
      "+-----------+------------------+----+-----------------+\n",
      "only showing top 20 rows"
     ]
    }
   ],
   "source": [
    "df.show()"
   ]
  },
  {
   "cell_type": "markdown",
   "metadata": {},
   "source": [
    "### User-defined functions\n",
    "\n",
    "A neat trick of spark dataframes is that you can essentially use something very much like an RDD `map` method but without switching to the RDD. If you are familiar with database languages, this works very much like e.g. a user-defined function in SQL. \n",
    "\n",
    "So, for example, if we wanted to make a user-defined python function that returns the hashtags in lowercase, we could do something like this:"
   ]
  },
  {
   "cell_type": "code",
   "execution_count": 9,
   "metadata": {
    "scrolled": true
   },
   "outputs": [
    {
     "data": {
      "application/vnd.jupyter.widget-view+json": {
       "model_id": "",
       "version_major": 2,
       "version_minor": 0
      },
      "text/plain": [
       "FloatProgress(value=0.0, bar_style='info', description='Progress:', layout=Layout(height='25px', width='50%'),…"
      ]
     },
     "metadata": {},
     "output_type": "display_data"
    }
   ],
   "source": [
    "@functions.udf\n",
    "def lowercase(text):\n",
    "    \"\"\"Convert text to lowercase\"\"\"\n",
    "    return text.lower()"
   ]
  },
  {
   "cell_type": "markdown",
   "metadata": {},
   "source": [
    "The @functions.udf is a \"decorator\" -- this is really handy python syntactic sugar and in this case is equivalent to:\n",
    "\n",
    "```python\n",
    "def lowercase(text):\n",
    "    return text.lower()\n",
    "    \n",
    "lowercase = functions.udf(lowercase)\n",
    "```\n",
    "\n",
    "It basically takes our function and adds to its functionality. In this case, it registers our function as a pyspark dataframe user-defined function (UDF).\n",
    "\n",
    "Using these UDFs is very straightforward and analogous to other Spark dataframe operations. For example:"
   ]
  },
  {
   "cell_type": "code",
   "execution_count": 10,
   "metadata": {},
   "outputs": [
    {
     "data": {
      "application/vnd.jupyter.widget-view+json": {
       "model_id": "",
       "version_major": 2,
       "version_minor": 0
      },
      "text/plain": [
       "FloatProgress(value=0.0, bar_style='info', description='Progress:', layout=Layout(height='25px', width='50%'),…"
      ]
     },
     "metadata": {},
     "output_type": "display_data"
    },
    {
     "name": "stdout",
     "output_type": "stream",
     "text": [
      "+------------------+\n",
      "|lowercase(hashtag)|\n",
      "+------------------+\n",
      "|           lovebts|\n",
      "|             방탄소년단|\n",
      "|           tokyofm|\n",
      "|           sotobot|\n",
      "|            fenton|\n",
      "|      vintageglass|\n",
      "|         glassbell|\n",
      "|           vintage|\n",
      "|             1970s|\n",
      "|               mod|\n",
      "|         ابن_الغيم|\n",
      "| creativitybooster|\n",
      "|     growthhacking|\n",
      "|  entrepreneurship|\n",
      "|     jewelryonetsy|\n",
      "|           jetteam|\n",
      "|        teenchoice|\n",
      "|  choicemalehottie|\n",
      "|        nowplaying|\n",
      "|              maui|\n",
      "+------------------+\n",
      "only showing top 20 rows"
     ]
    }
   ],
   "source": [
    "df.select(lowercase(df.hashtag)).show()"
   ]
  },
  {
   "cell_type": "markdown",
   "metadata": {},
   "source": [
    "Using a framework like Spark is all about understanding the ins and outs of how it functions and knowing what it offers. One of the cool things about the dataframe API is that many functions are already defined for you (turning strings into lowercase being one of them). \n",
    "\n",
    "### I.b: TODO (2 points / 10)\n",
    "\n",
    "Find the [Spark python API documentation](https://spark.apache.org/docs/latest/api/python/index.html). Look for the `sql` section and find the listing of `sql.functions`. Repeat the above (turning hashtags into lowercase) but use the built-in function."
   ]
  },
  {
   "cell_type": "code",
   "execution_count": 11,
   "metadata": {},
   "outputs": [
    {
     "data": {
      "application/vnd.jupyter.widget-view+json": {
       "model_id": "",
       "version_major": 2,
       "version_minor": 0
      },
      "text/plain": [
       "FloatProgress(value=0.0, bar_style='info', description='Progress:', layout=Layout(height='25px', width='50%'),…"
      ]
     },
     "metadata": {},
     "output_type": "display_data"
    },
    {
     "name": "stdout",
     "output_type": "stream",
     "text": [
      "+--------------+\n",
      "|lower(hashtag)|\n",
      "+--------------+\n",
      "|       lovebts|\n",
      "|         방탄소년단|\n",
      "|       tokyofm|\n",
      "|       sotobot|\n",
      "|        fenton|\n",
      "+--------------+\n",
      "only showing top 5 rows"
     ]
    }
   ],
   "source": [
    "df.select(functions.lower(df.hashtag)).show(5)"
   ]
  },
  {
   "cell_type": "markdown",
   "metadata": {},
   "source": [
    "We'll work with a combination of these built-in functions and user-defined functions for the remainder of this homework. \n",
    "\n",
    "### I.c: TODO (3 points/10)\n",
    "\n",
    "Create `english_df` consisting of **lowercase** hashtags from only english-language tweets. In addition, convert the timestamp to a more readable format like this and name the column `date`:\n",
    "\n",
    "```\n",
    "2016-05-01 08:30:00\n",
    "```"
   ]
  },
  {
   "cell_type": "markdown",
   "metadata": {},
   "source": [
    "Your `english_df` should look something like this:\n",
    "\n",
    "```\n",
    "+-----------+----+------------+-------------------+\n",
    "|timestamp_s|lang|     hashtag|               date|\n",
    "+-----------+----+------------+-------------------+\n",
    "| 1464768480|  en|     sotobot|2016-06-01 10:08:00|\n",
    "| 1464768480|  en|      fenton|2016-06-01 10:08:00|\n",
    "| 1464768480|  en|vintageglass|2016-06-01 10:08:00|\n",
    "| 1464768480|  en|   glassbell|2016-06-01 10:08:00|\n",
    "| 1464768480|  en|     vintage|2016-06-01 10:08:00|\n",
    "+-----------+----+------------+-------------------+\n",
    "```"
   ]
  },
  {
   "cell_type": "code",
   "execution_count": 12,
   "metadata": {},
   "outputs": [
    {
     "data": {
      "application/vnd.jupyter.widget-view+json": {
       "model_id": "",
       "version_major": 2,
       "version_minor": 0
      },
      "text/plain": [
       "FloatProgress(value=0.0, bar_style='info', description='Progress:', layout=Layout(height='25px', width='50%'),…"
      ]
     },
     "metadata": {},
     "output_type": "display_data"
    },
    {
     "name": "stdout",
     "output_type": "stream",
     "text": [
      "+-----------+----+------------+-------------------+\n",
      "|timestamp_s|lang|     hashtag|               date|\n",
      "+-----------+----+------------+-------------------+\n",
      "| 1464768480|  en|     sotobot|2016-06-01 10:08:00|\n",
      "| 1464768480|  en|      fenton|2016-06-01 10:08:00|\n",
      "| 1464768480|  en|vintageglass|2016-06-01 10:08:00|\n",
      "| 1464768480|  en|   glassbell|2016-06-01 10:08:00|\n",
      "| 1464768480|  en|     vintage|2016-06-01 10:08:00|\n",
      "+-----------+----+------------+-------------------+\n",
      "only showing top 5 rows"
     ]
    }
   ],
   "source": [
    "english_df = df.filter(df.lang == 'en')\\\n",
    "               .withColumn('date', functions.from_unixtime(\"timestamp_s\", \"yyyy-MM-dd HH:mm:SS\"))\\\n",
    "               .withColumn('hashtag', functions.lower(df.hashtag))\\\n",
    "               .drop('id')\n",
    "english_df.show(5)"
   ]
  },
  {
   "cell_type": "markdown",
   "metadata": {},
   "source": [
    "### I.d: TODO (4 points/10)\n",
    "\n",
    "We \"claim\" the data contains all twitters from May to July 2017, however, that's not true. Check which (date, hour) are in `english_df` and which are missing, e.g. 2016-05-01, 10h is in the dataframe while 2016-04-01, 10h not."
   ]
  },
  {
   "cell_type": "code",
   "execution_count": 13,
   "metadata": {},
   "outputs": [
    {
     "data": {
      "application/vnd.jupyter.widget-view+json": {
       "model_id": "",
       "version_major": 2,
       "version_minor": 0
      },
      "text/plain": [
       "FloatProgress(value=0.0, bar_style='info', description='Progress:', layout=Layout(height='25px', width='50%'),…"
      ]
     },
     "metadata": {},
     "output_type": "display_data"
    },
    {
     "name": "stdout",
     "output_type": "stream",
     "text": [
      "+-------------+\n",
      "|     dateHYMD|\n",
      "+-------------+\n",
      "|2016/05/01/08|\n",
      "|2016/05/01/09|\n",
      "|2016/05/01/10|\n",
      "|2016/05/01/11|\n",
      "|2016/05/01/12|\n",
      "|2016/05/01/13|\n",
      "|2016/05/01/14|\n",
      "|2016/05/01/15|\n",
      "|2016/05/01/16|\n",
      "|2016/05/01/17|\n",
      "|2016/05/01/18|\n",
      "|2016/05/01/19|\n",
      "|2016/05/01/20|\n",
      "|2016/05/01/21|\n",
      "|2016/05/01/22|\n",
      "|2016/05/01/23|\n",
      "|2016/05/02/00|\n",
      "|2016/05/02/05|\n",
      "|2016/05/02/06|\n",
      "|2016/05/02/07|\n",
      "+-------------+\n",
      "only showing top 20 rows"
     ]
    }
   ],
   "source": [
    "# check the distinct (date, hour) in english_df\n",
    "en_unique_date_hour = english_df.select(functions.date_format(english_df.date,'yyy/MM/dd/HH').alias('dateHYMD')).distinct().orderBy('date')\n",
    "en_unique_date_hour.show()"
   ]
  },
  {
   "cell_type": "markdown",
   "metadata": {},
   "source": [
    "We can see that the first date time is 2016/05/01/08. In our case, we can say that at least the hours from 2016/05/01/00 to 2016/05/01/07 are missing.(Under the assumption that tweets data hours are taken as UTC.)"
   ]
  },
  {
   "cell_type": "code",
   "execution_count": 14,
   "metadata": {},
   "outputs": [
    {
     "data": {
      "application/vnd.jupyter.widget-view+json": {
       "model_id": "",
       "version_major": 2,
       "version_minor": 0
      },
      "text/plain": [
       "FloatProgress(value=0.0, bar_style='info', description='Progress:', layout=Layout(height='25px', width='50%'),…"
      ]
     },
     "metadata": {},
     "output_type": "display_data"
    },
    {
     "name": "stdout",
     "output_type": "stream",
     "text": [
      "2020"
     ]
    }
   ],
   "source": [
    "en_unique_date_hour.count()"
   ]
  },
  {
   "cell_type": "markdown",
   "metadata": {},
   "source": [
    "In our `english_df`, we have 2020 unique (date, hour) pairs."
   ]
  },
  {
   "cell_type": "markdown",
   "metadata": {},
   "source": [
    "Next, we gonna find out which (date, hour) pairs are missing."
   ]
  },
  {
   "cell_type": "code",
   "execution_count": 15,
   "metadata": {},
   "outputs": [
    {
     "data": {
      "application/vnd.jupyter.widget-view+json": {
       "model_id": "",
       "version_major": 2,
       "version_minor": 0
      },
      "text/plain": [
       "FloatProgress(value=0.0, bar_style='info', description='Progress:', layout=Layout(height='25px', width='50%'),…"
      ]
     },
     "metadata": {},
     "output_type": "display_data"
    },
    {
     "name": "stdout",
     "output_type": "stream",
     "text": [
      "+-------------------+-------------+\n",
      "|              value|     dateHYMD|\n",
      "+-------------------+-------------+\n",
      "|2016-05-01 00:00:00|2016/05/01/00|\n",
      "|2016-05-01 01:00:00|2016/05/01/01|\n",
      "|2016-05-01 02:00:00|2016/05/01/02|\n",
      "|2016-05-01 03:00:00|2016/05/01/03|\n",
      "|2016-05-01 04:00:00|2016/05/01/04|\n",
      "|2016-05-01 05:00:00|2016/05/01/05|\n",
      "|2016-05-01 06:00:00|2016/05/01/06|\n",
      "|2016-05-01 07:00:00|2016/05/01/07|\n",
      "|2016-05-01 08:00:00|2016/05/01/08|\n",
      "|2016-05-01 09:00:00|2016/05/01/09|\n",
      "|2016-05-01 10:00:00|2016/05/01/10|\n",
      "|2016-05-01 11:00:00|2016/05/01/11|\n",
      "|2016-05-01 12:00:00|2016/05/01/12|\n",
      "|2016-05-01 13:00:00|2016/05/01/13|\n",
      "|2016-05-01 14:00:00|2016/05/01/14|\n",
      "|2016-05-01 15:00:00|2016/05/01/15|\n",
      "|2016-05-01 16:00:00|2016/05/01/16|\n",
      "|2016-05-01 17:00:00|2016/05/01/17|\n",
      "|2016-05-01 18:00:00|2016/05/01/18|\n",
      "|2016-05-01 19:00:00|2016/05/01/19|\n",
      "+-------------------+-------------+\n",
      "only showing top 20 rows"
     ]
    }
   ],
   "source": [
    "import datetime as dt\n",
    "import pandas as pd\n",
    "from pyspark.sql.types import IntegerType\n",
    "import numpy as np\n",
    "\n",
    "#all date hours from May to July 2016 (convert from suiss time to utc)\n",
    "START_DATE = dt.datetime(2016,4,30,22,0,0)\n",
    "END_DATE = dt.datetime(2016,7,31,22,0,0)\n",
    "\n",
    "# Generate date range with pandas\n",
    "timerange = pd.date_range(start=START_DATE, end=END_DATE, freq='1h')\n",
    "\n",
    "# Convert to timestamp\n",
    "timestamps = [int(x) for x in timerange.values.astype(np.int64) // 10 ** 9]\n",
    "\n",
    "# Convert to spark dataframe\n",
    "date_range=spark.createDataFrame(timestamps, IntegerType())\n",
    "date_range = date_range.withColumn('value', date_range['value'].cast('timestamp'))\n",
    "date_range=date_range.withColumn('dateHYMD',functions.date_format(date_range['value'],\\\n",
    "                        'yyy/MM/dd/HH')).orderBy('value',ascending=True)\n",
    "date_range.show()"
   ]
  },
  {
   "cell_type": "code",
   "execution_count": 16,
   "metadata": {},
   "outputs": [
    {
     "data": {
      "application/vnd.jupyter.widget-view+json": {
       "model_id": "",
       "version_major": 2,
       "version_minor": 0
      },
      "text/plain": [
       "FloatProgress(value=0.0, bar_style='info', description='Progress:', layout=Layout(height='25px', width='50%'),…"
      ]
     },
     "metadata": {},
     "output_type": "display_data"
    },
    {
     "name": "stdout",
     "output_type": "stream",
     "text": [
      "196"
     ]
    }
   ],
   "source": [
    "# check total number of the missing\n",
    "missing_hour_df=date_range.join(en_unique_date_hour, on=[\"dateHYMD\"], how=\"leftanti\")\n",
    "missing_hour_df.count()"
   ]
  },
  {
   "cell_type": "code",
   "execution_count": 17,
   "metadata": {},
   "outputs": [
    {
     "data": {
      "application/vnd.jupyter.widget-view+json": {
       "model_id": "",
       "version_major": 2,
       "version_minor": 0
      },
      "text/plain": [
       "FloatProgress(value=0.0, bar_style='info', description='Progress:', layout=Layout(height='25px', width='50%'),…"
      ]
     },
     "metadata": {},
     "output_type": "display_data"
    },
    {
     "name": "stdout",
     "output_type": "stream",
     "text": [
      "+-------------+-------------------+\n",
      "|     dateHYMD|              value|\n",
      "+-------------+-------------------+\n",
      "|2016/06/05/09|2016-06-05 09:00:00|\n",
      "|2016/06/06/10|2016-06-06 10:00:00|\n",
      "|2016/05/27/10|2016-05-27 10:00:00|\n",
      "|2016/06/05/16|2016-06-05 16:00:00|\n",
      "|2016/06/06/07|2016-06-06 07:00:00|\n",
      "|2016/06/17/07|2016-06-17 07:00:00|\n",
      "|2016/06/03/02|2016-06-03 02:00:00|\n",
      "|2016/06/17/08|2016-06-17 08:00:00|\n",
      "|2016/06/17/18|2016-06-17 18:00:00|\n",
      "|2016/06/17/00|2016-06-17 00:00:00|\n",
      "|2016/06/02/13|2016-06-02 13:00:00|\n",
      "|2016/06/04/17|2016-06-04 17:00:00|\n",
      "|2016/05/02/10|2016-05-02 10:00:00|\n",
      "|2016/06/06/01|2016-06-06 01:00:00|\n",
      "|2016/06/02/22|2016-06-02 22:00:00|\n",
      "|2016/06/04/03|2016-06-04 03:00:00|\n",
      "|2016/06/05/07|2016-06-05 07:00:00|\n",
      "|2016/06/17/13|2016-06-17 13:00:00|\n",
      "|2016/06/05/19|2016-06-05 19:00:00|\n",
      "|2016/06/05/20|2016-06-05 20:00:00|\n",
      "+-------------+-------------------+\n",
      "only showing top 20 rows"
     ]
    }
   ],
   "source": [
    "missing_hour_df.show()"
   ]
  },
  {
   "cell_type": "markdown",
   "metadata": {},
   "source": [
    "As a result, we find out that the total number of missing hours is 196."
   ]
  },
  {
   "cell_type": "markdown",
   "metadata": {},
   "source": [
    "## PART II: Twitter hashtag trends (50 points / 60)\n",
    "\n",
    "In this section we will try to do a slightly more complicated analysis of the tweets. Our goal is to get an idea of tweet frequency as a function of time for certain hashtags. \n",
    "\n",
    "Lets build this up in steps. First, lets see how we can start to organize the tweets by their timestamps. \n",
    "\n",
    "As a first easy example, lets say we just want to count the number of tweets per minute over the entire span of our data. For this, we first need a \"global\" minute value, e.g. \"minute of the year\" or something similar. \n",
    "\n",
    "Spark provides us with some handy built-in dataframe functions that are made for transforming date and time fields. \n",
    "\n",
    "Have a look [here](http://spark.apache.org/docs/latest/api/python/pyspark.sql.html#module-pyspark.sql.functions) to see the whole list of custom dataframe functions - you will need to use them to complete the next set of TODO items."
   ]
  },
  {
   "cell_type": "markdown",
   "metadata": {},
   "source": [
    "Note that the functions can be combined. Consider the following dataframe and its transformation:"
   ]
  },
  {
   "cell_type": "code",
   "execution_count": 18,
   "metadata": {},
   "outputs": [
    {
     "data": {
      "application/vnd.jupyter.widget-view+json": {
       "model_id": "",
       "version_major": 2,
       "version_minor": 0
      },
      "text/plain": [
       "FloatProgress(value=0.0, bar_style='info', description='Progress:', layout=Layout(height='25px', width='50%'),…"
      ]
     },
     "metadata": {},
     "output_type": "display_data"
    },
    {
     "name": "stdout",
     "output_type": "stream",
     "text": [
      "+---------------------+\n",
      "|SIN(RADIANS(degrees))|\n",
      "+---------------------+\n",
      "|                  0.0|\n",
      "|  0.01745240643728351|\n",
      "|  0.03489949670250097|\n",
      "|  0.05233595624294383|\n",
      "|   0.0697564737441253|\n",
      "|  0.08715574274765817|\n",
      "|  0.10452846326765346|\n",
      "|  0.12186934340514748|\n",
      "|  0.13917310096006544|\n",
      "|  0.15643446504023087|\n",
      "|  0.17364817766693033|\n",
      "|   0.1908089953765448|\n",
      "|  0.20791169081775931|\n",
      "|  0.22495105434386498|\n",
      "|  0.24192189559966773|\n",
      "|  0.25881904510252074|\n",
      "|  0.27563735581699916|\n",
      "|   0.2923717047227367|\n",
      "|   0.3090169943749474|\n",
      "|   0.3255681544571567|\n",
      "+---------------------+\n",
      "only showing top 20 rows"
     ]
    }
   ],
   "source": [
    "from pyspark.sql import Row\n",
    "\n",
    "# create a sample dataframe with one column \"degrees\" going from 0 to 180\n",
    "test_df = spark.createDataFrame(spark.sparkContext.range(180).map(lambda x: Row(degrees=x)), ['degrees'])\n",
    "\n",
    "# define a function \"sin_rad\" that first converts degrees to radians and then takes the sine using built-in functions\n",
    "sin_rad = functions.sin(functions.radians(test_df.degrees))\n",
    "\n",
    "# show the result\n",
    "test_df.select(sin_rad).show()"
   ]
  },
  {
   "cell_type": "markdown",
   "metadata": {},
   "source": [
    "### DataFrames `groupBy`\n",
    "\n",
    "We used `groupBy` already in the previous notebook, but here we will take more advantage of its features. \n",
    "\n",
    "One important thing to note is that unlike other RDD or DataFrame transformations, the `groupBy` does not return another DataFrame, but a `GroupedData` object instead, with its own methods. These methods allow you to do various transformations and aggregations on the data of the grouped rows. \n",
    "\n",
    "Conceptually the procedure is a lot like this:\n",
    "\n",
    "![groupby](https://i.stack.imgur.com/sgCn1.jpg)\n",
    "\n",
    "The column that is used for the `groupBy` is the `key` - once we have the values of a particular key all together, we can use various aggregation functions on them to generate a transformed dataset. In this example, the aggregation function is a simple `sum`. In the simple procedure below, the `key` will be the hashtag."
   ]
  },
  {
   "cell_type": "markdown",
   "metadata": {},
   "source": [
    "### II.a: TODO (1 point / 50)\n",
    "\n",
    "Calculate the top five most common hashtags in the whole english-language dataset.\n",
    "\n",
    "This should be your result:\n",
    "\n",
    "```\n",
    "+-------------+------+\n",
    "|      hashtag| count|\n",
    "+-------------+------+\n",
    "|   mtvhottest|800527|\n",
    "|veranomtv2016|539028|\n",
    "|   teenchoice|345208|\n",
    "|   nowplaying|178561|\n",
    "|  gameinsight|165237|\n",
    "+-------------+------+\n",
    "```"
   ]
  },
  {
   "cell_type": "code",
   "execution_count": 19,
   "metadata": {},
   "outputs": [
    {
     "data": {
      "application/vnd.jupyter.widget-view+json": {
       "model_id": "",
       "version_major": 2,
       "version_minor": 0
      },
      "text/plain": [
       "FloatProgress(value=0.0, bar_style='info', description='Progress:', layout=Layout(height='25px', width='50%'),…"
      ]
     },
     "metadata": {},
     "output_type": "display_data"
    },
    {
     "name": "stdout",
     "output_type": "stream",
     "text": [
      "+-------------+------+\n",
      "|      hashtag| count|\n",
      "+-------------+------+\n",
      "|   mtvhottest|800527|\n",
      "|veranomtv2016|539028|\n",
      "|   teenchoice|345208|\n",
      "|   nowplaying|178561|\n",
      "|  gameinsight|165237|\n",
      "+-------------+------+\n",
      "only showing top 5 rows"
     ]
    }
   ],
   "source": [
    "english_df.groupby('hashtag').agg(functions.count('*').alias('count')).sort(functions.desc('count')).show(5)"
   ]
  },
  {
   "cell_type": "markdown",
   "metadata": {},
   "source": [
    "## Daily hashtag trends\n",
    "\n",
    "Now we will start to complicate the analysis a bit. Remember, our goal is to uncover trending topics on a timescale of a few days. A much needed column then is simply `day`. To convert the date string into day-of-year, you can use the built-in [dayofyear](http://spark.apache.org/docs/latest/api/python/pyspark.sql.html#pyspark.sql.functions.dayofyear) function. \n",
    "\n",
    "In the subsequent sections we will then not only see which hashtags are globally most popular, but which ones experience the biggest changes in popularity - those are the \"trending\" topics. If there is suddenly a substantial increase of a hashtag over a matter of a day or two, it may signify an event taking place. "
   ]
  },
  {
   "cell_type": "markdown",
   "metadata": {},
   "source": [
    "### II.b: TODO (2 points / 50)\n",
    "\n",
    "Create a dataframe called `daily_hashtag` that includes the columns `month`, `week`, `day` and `hashtag`. Use the `english_df` you made above to start, and make sure you find the appropriate spark dataframe functions to make your life easier. Show the result.\n",
    "\n",
    "Try to match this view:\n",
    "\n",
    "```\n",
    "+-----+----+---+------------+\n",
    "|month|week|day|     hashtag|\n",
    "+-----+----+---+------------+\n",
    "|    6|  22|153|     sotobot|\n",
    "|    6|  22|153|      fenton|\n",
    "|    6|  22|153|vintageglass|\n",
    "|    6|  22|153|   glassbell|\n",
    "|    6|  22|153|     vintage|\n",
    "+-----+----+---+------------+\n",
    "```"
   ]
  },
  {
   "cell_type": "code",
   "execution_count": 20,
   "metadata": {},
   "outputs": [
    {
     "data": {
      "application/vnd.jupyter.widget-view+json": {
       "model_id": "",
       "version_major": 2,
       "version_minor": 0
      },
      "text/plain": [
       "FloatProgress(value=0.0, bar_style='info', description='Progress:', layout=Layout(height='25px', width='50%'),…"
      ]
     },
     "metadata": {},
     "output_type": "display_data"
    },
    {
     "name": "stdout",
     "output_type": "stream",
     "text": [
      "+-----+----+---+------------+\n",
      "|month|week|day|     hashtag|\n",
      "+-----+----+---+------------+\n",
      "|    6|  22|153|     sotobot|\n",
      "|    6|  22|153|      fenton|\n",
      "|    6|  22|153|vintageglass|\n",
      "|    6|  22|153|   glassbell|\n",
      "|    6|  22|153|     vintage|\n",
      "+-----+----+---+------------+\n",
      "only showing top 5 rows"
     ]
    }
   ],
   "source": [
    "daily_hashtag = english_df.select(functions.month(english_df.date).alias('month'),\n",
    "                                  functions.weekofyear(english_df.date).alias('week'),\n",
    "                                  functions.dayofyear(english_df.date).alias('day'),\n",
    "                                  english_df.hashtag)\n",
    "daily_hashtag.show(5)"
   ]
  },
  {
   "cell_type": "markdown",
   "metadata": {},
   "source": [
    "### II.c: TODO (2 points / 50)\n",
    "\n",
    "Now we want to calculate the number of times a hashtag is used per day. Sort in descending order of daily counts and show the result. Call the resulting dataframe `day_counts`.\n",
    "\n",
    "Your output should look like this:\n",
    "\n",
    "```\n",
    "+---+----------+----+-----+\n",
    "|day|   hashtag|week|count|\n",
    "+---+----------+----+-----+\n",
    "|204|mtvhottest|  29|66372|\n",
    "|205|mtvhottest|  29|63495|\n",
    "|207|mtvhottest|  30|60768|\n",
    "|208|mtvhottest|  30|59065|\n",
    "|199|mtvhottest|  28|57956|\n",
    "+---+----------+----+-----+\n",
    "```\n",
    "\n",
    "<div class=\"alert alert-info\">\n",
    "<p>Make sure you use `cache()` when you create `day_counts` because we will need it in the steps that follow!</p>\n",
    "</div>"
   ]
  },
  {
   "cell_type": "code",
   "execution_count": 21,
   "metadata": {},
   "outputs": [
    {
     "data": {
      "application/vnd.jupyter.widget-view+json": {
       "model_id": "",
       "version_major": 2,
       "version_minor": 0
      },
      "text/plain": [
       "FloatProgress(value=0.0, bar_style='info', description='Progress:', layout=Layout(height='25px', width='50%'),…"
      ]
     },
     "metadata": {},
     "output_type": "display_data"
    },
    {
     "name": "stdout",
     "output_type": "stream",
     "text": [
      "+---+----------+----+-----+\n",
      "|day|   hashtag|week|count|\n",
      "+---+----------+----+-----+\n",
      "|204|mtvhottest|  29|66372|\n",
      "|205|mtvhottest|  29|63495|\n",
      "|207|mtvhottest|  30|60768|\n",
      "|208|mtvhottest|  30|59065|\n",
      "|199|mtvhottest|  28|57956|\n",
      "+---+----------+----+-----+\n",
      "only showing top 5 rows"
     ]
    }
   ],
   "source": [
    "day_counts = daily_hashtag.groupby('day', 'hashtag', 'week').agg(functions.count('*').alias('count')).sort(functions.desc('count'))\n",
    "day_counts.cache()\n",
    "day_counts.show(5)"
   ]
  },
  {
   "cell_type": "markdown",
   "metadata": {},
   "source": [
    "### II.d: TODO (2 points / 50)\n",
    "\n",
    "To get an idea of which hashtags stay popular for several days, calculate the average number of daily occurences for each week. \n",
    "\n",
    "__Hint:__ use the `week` column we created above. Sort in descending order and show the top 20."
   ]
  },
  {
   "cell_type": "code",
   "execution_count": 22,
   "metadata": {},
   "outputs": [
    {
     "data": {
      "application/vnd.jupyter.widget-view+json": {
       "model_id": "",
       "version_major": 2,
       "version_minor": 0
      },
      "text/plain": [
       "FloatProgress(value=0.0, bar_style='info', description='Progress:', layout=Layout(height='25px', width='50%'),…"
      ]
     },
     "metadata": {},
     "output_type": "display_data"
    },
    {
     "name": "stdout",
     "output_type": "stream",
     "text": [
      "+----+-------------------+------+------------------+\n",
      "|week|            hashtag| total|               avg|\n",
      "+----+-------------------+------+------------------+\n",
      "|  29|         mtvhottest|364430| 52061.42857142857|\n",
      "|  30|         mtvhottest|335489|           47927.0|\n",
      "|  19|         teenchoice|140480|20068.571428571428|\n",
      "|  25|      veranomtv2016|125075| 17867.85714285714|\n",
      "|  26|      veranomtv2016|119813| 17116.14285714286|\n",
      "|  27|      veranomtv2016|101336| 14476.57142857143|\n",
      "|  30|      veranomtv2016| 87572|12510.285714285714|\n",
      "|  28|         mtvhottest| 86014|12287.714285714286|\n",
      "|  23|      mtvawardsstar| 73151|10450.142857142857|\n",
      "|  30|       demsinphilly| 70446|10063.714285714286|\n",
      "|  29|      veranomtv2016| 58267| 8323.857142857143|\n",
      "|  29|           rncincle| 57367| 8195.285714285714|\n",
      "|  30| pushawardslizquens| 57036|            8148.0|\n",
      "|  27|      altonsterling| 51331|            7333.0|\n",
      "|  25|             brexit| 49152| 7021.714285714285|\n",
      "|  28|      veranomtv2016| 45107| 6443.857142857143|\n",
      "|  28|         teenchoice| 45079| 6439.857142857143|\n",
      "|  28|          pokemongo| 34166| 4880.857142857143|\n",
      "|  28|aldub1stanniversary| 33653| 4807.571428571428|\n",
      "|  27|         teenchoice| 32053|            4579.0|\n",
      "+----+-------------------+------+------------------+\n",
      "only showing top 20 rows"
     ]
    }
   ],
   "source": [
    "temp = day_counts.groupby('week', 'hashtag').agg(functions.sum('count').alias('total'))\n",
    "temp.withColumn('avg', temp.total / 7).sort(functions.desc('avg')).show()"
   ]
  },
  {
   "cell_type": "markdown",
   "metadata": {},
   "source": [
    "### Using `Window` functions \n",
    "\n",
    "Window functions are another awesome feature of dataframes. They allow users to accomplish complex tasks using very concise and simple code. \n",
    "\n",
    "Above we computed just the hashtag that had the most occurrences on *any* day. Now lets say we want to know the top tweets for *each* day.  \n",
    "\n",
    "This is a non-trivial thing to compute and requires \"windowing\" our data. I recommend reading this [window functions article](https://databricks.com/blog/2015/07/15/introducing-window-functions-in-spark-sql.html) to get acquainted with the idea. You can think of a window function as a fine-grained and more flexible `groupBy`. \n",
    "\n",
    "There are two things we need to define to use window functions:\n",
    "\n",
    "1. the \"window\" to use, based on which columns (partitioning) and how the rows should be ordered \n",
    "2. the computation to carry out for each windowed group, e.g. a max, an average etc.\n",
    "\n",
    "Lets see how this works by example. We will define a window function, `daily_window` that will partition data based on the `day` column. Within each window, the rows will be ordered by the daily hashtag count that we computed above. Finally, we will use the rank function **over** this window to give us the ranking of top tweets. \n",
    "\n",
    "In the end, this is a fairly complicated operation achieved in just a few lines of code! (can you think of how to do this with an RDD??)"
   ]
  },
  {
   "cell_type": "code",
   "execution_count": 23,
   "metadata": {
    "scrolled": true
   },
   "outputs": [
    {
     "data": {
      "application/vnd.jupyter.widget-view+json": {
       "model_id": "",
       "version_major": 2,
       "version_minor": 0
      },
      "text/plain": [
       "FloatProgress(value=0.0, bar_style='info', description='Progress:', layout=Layout(height='25px', width='50%'),…"
      ]
     },
     "metadata": {},
     "output_type": "display_data"
    }
   ],
   "source": [
    "from pyspark.sql import Window"
   ]
  },
  {
   "cell_type": "markdown",
   "metadata": {},
   "source": [
    "First, we specify the window function and the ordering:"
   ]
  },
  {
   "cell_type": "code",
   "execution_count": 24,
   "metadata": {
    "scrolled": true
   },
   "outputs": [
    {
     "data": {
      "application/vnd.jupyter.widget-view+json": {
       "model_id": "",
       "version_major": 2,
       "version_minor": 0
      },
      "text/plain": [
       "FloatProgress(value=0.0, bar_style='info', description='Progress:', layout=Layout(height='25px', width='50%'),…"
      ]
     },
     "metadata": {},
     "output_type": "display_data"
    }
   ],
   "source": [
    "daily_window = Window.partitionBy('day').orderBy(functions.desc('count'))"
   ]
  },
  {
   "cell_type": "markdown",
   "metadata": {},
   "source": [
    "The above window function says that we should window the data on the `day` column and order it by count. \n",
    "\n",
    "Now we need to define what we want to compute on the windowed data. We will start by just calculating the daily ranking of hashtags, so we can use the helpful built-in `functions.rank()` and sort:"
   ]
  },
  {
   "cell_type": "code",
   "execution_count": 25,
   "metadata": {
    "scrolled": true
   },
   "outputs": [
    {
     "data": {
      "application/vnd.jupyter.widget-view+json": {
       "model_id": "",
       "version_major": 2,
       "version_minor": 0
      },
      "text/plain": [
       "FloatProgress(value=0.0, bar_style='info', description='Progress:', layout=Layout(height='25px', width='50%'),…"
      ]
     },
     "metadata": {},
     "output_type": "display_data"
    }
   ],
   "source": [
    "daily_rank = functions.rank() \\\n",
    "                      .over(daily_window) \\\n",
    "                      .alias('rank')"
   ]
  },
  {
   "cell_type": "markdown",
   "metadata": {},
   "source": [
    "### II.e: TODO (3 points / 50)\n",
    "Now compute the top five hashtags for each day in our data:"
   ]
  },
  {
   "cell_type": "code",
   "execution_count": 26,
   "metadata": {},
   "outputs": [
    {
     "data": {
      "application/vnd.jupyter.widget-view+json": {
       "model_id": "",
       "version_major": 2,
       "version_minor": 0
      },
      "text/plain": [
       "FloatProgress(value=0.0, bar_style='info', description='Progress:', layout=Layout(height='25px', width='50%'),…"
      ]
     },
     "metadata": {},
     "output_type": "display_data"
    },
    {
     "name": "stdout",
     "output_type": "stream",
     "text": [
      "+---+--------------------+-----+----+\n",
      "|day|             hashtag|count|rank|\n",
      "+---+--------------------+-----+----+\n",
      "|148|dolceamoresatotoo...| 5216|   1|\n",
      "|148|           727outnow| 3563|   2|\n",
      "|148|     aldubgraziecomo| 2892|   3|\n",
      "|148|     khilafatispeace| 2039|   4|\n",
      "|148|          nowplaying| 1707|   5|\n",
      "|137|  aldub10thmonthsary| 6920|   1|\n",
      "|137|       gameofthrones| 2982|   2|\n",
      "|137|                 job| 2177|   3|\n",
      "|137|          teenchoice| 2158|   4|\n",
      "|137|          nowplaying| 2062|   5|\n",
      "|133|          teenchoice|24781|   1|\n",
      "|133| dolceamoreforgotten|10192|   2|\n",
      "|133|   aldub43rdweeksary| 5326|   3|\n",
      "|133|choicemusicgroupmale| 4007|   4|\n",
      "|133|dolceamoreitsallc...| 3601|   5|\n",
      "|193|          teenchoice| 6944|   1|\n",
      "|193|            euro2016| 6027|   2|\n",
      "|193|           pokemongo| 5912|   3|\n",
      "|193|    aldubiyamin2days| 5152|   4|\n",
      "|193|    blacklivesmatter| 4763|   5|\n",
      "+---+--------------------+-----+----+\n",
      "only showing top 20 rows"
     ]
    }
   ],
   "source": [
    "day_counts.select('day', 'hashtag', 'count', daily_rank).filter(functions.col('rank') <= 5).show()"
   ]
  },
  {
   "cell_type": "markdown",
   "metadata": {},
   "source": [
    "## II.f: TODO - Compute the top five trending tweets per week (20 points / 50)\n",
    "\n",
    "Use window functions (or other techniques!) to produce lists of top few trending tweets for each week. What's a \"trending\" tweet? Something that seems to be suddenly growing very rapidly in popularity. You should identify \"brexit\" in week 25 and other events like the death of The Artist Formerly Known as Prince, the Met gala, Euro 2016, the terrorist attacks in Nice, France etc. Make it as simple or as complicated as you want! The final listing should be clear and concise and the flow of your analysis should be easy to follow. If you make an implementation that is not immediately obvious, make sure you provide comments either in markdown cells or in comments in the code itself. \n"
   ]
  },
  {
   "cell_type": "code",
   "execution_count": 27,
   "metadata": {
    "scrolled": true
   },
   "outputs": [
    {
     "data": {
      "application/vnd.jupyter.widget-view+json": {
       "model_id": "",
       "version_major": 2,
       "version_minor": 0
      },
      "text/plain": [
       "FloatProgress(value=0.0, bar_style='info', description='Progress:', layout=Layout(height='25px', width='50%'),…"
      ]
     },
     "metadata": {},
     "output_type": "display_data"
    }
   ],
   "source": [
    "# Do analysis on each hashtag\n",
    "hashtag_window = Window.partitionBy('hashtag').orderBy('day')\n",
    "\n",
    "# Get increment in count for each day\n",
    "hashtag_count_lag = functions.lag('count') \\\n",
    "                             .over(hashtag_window) \\\n",
    "                             .alias('prev_count')\n",
    "hashtag_count_diff = (day_counts['count'] - hashtag_count_lag).alias('diff')"
   ]
  },
  {
   "cell_type": "code",
   "execution_count": 28,
   "metadata": {},
   "outputs": [
    {
     "data": {
      "application/vnd.jupyter.widget-view+json": {
       "model_id": "",
       "version_major": 2,
       "version_minor": 0
      },
      "text/plain": [
       "FloatProgress(value=0.0, bar_style='info', description='Progress:', layout=Layout(height='25px', width='50%'),…"
      ]
     },
     "metadata": {},
     "output_type": "display_data"
    }
   ],
   "source": [
    "# 1. Calculate a index of how trending a hashtag is in a week\n",
    "\n",
    "# Step 1\n",
    "# we only care about positive increments when determining\n",
    "# how trending a hashtag is on a certain day\n",
    "\n",
    "# Step 2\n",
    "# Calculate trend_index of a hashtag in a week as sum of positive increments\n",
    "weekly_hashtag_trendIndexs = day_counts.select('week', 'hashtag', hashtag_count_diff) \\\n",
    "                                       .filter(functions.col('diff') > 0) \\\n",
    "                                       .groupBy('week', 'hashtag').agg(functions.sum('diff').alias('trend_index'))"
   ]
  },
  {
   "cell_type": "code",
   "execution_count": 29,
   "metadata": {},
   "outputs": [
    {
     "data": {
      "application/vnd.jupyter.widget-view+json": {
       "model_id": "",
       "version_major": 2,
       "version_minor": 0
      },
      "text/plain": [
       "FloatProgress(value=0.0, bar_style='info', description='Progress:', layout=Layout(height='25px', width='50%'),…"
      ]
     },
     "metadata": {},
     "output_type": "display_data"
    },
    {
     "name": "stdout",
     "output_type": "stream",
     "text": [
      "+----+--------------------+----+\n",
      "|week|             hashtag|rank|\n",
      "+----+--------------------+----+\n",
      "|  18|             metgala|   1|\n",
      "|  18| 화양연화onstageepilogue|   2|\n",
      "|  18|   dolceamorethesong|   3|\n",
      "|  18|          mothersday|   4|\n",
      "|  18|  maythe4thbewithyou|   5|\n",
      "|  19|          teenchoice|   1|\n",
      "|  19|          eurovision|   2|\n",
      "|  19|dolceamoreitsallc...|   3|\n",
      "|  19| dolceamoremeanttobe|   4|\n",
      "|  19|choicemusicgroupmale|   5|\n",
      "|  20|  aldub10thmonthsary|   1|\n",
      "|  20|   aldub44thweeksary|   2|\n",
      "|  20| dolceamorewhitelies|   3|\n",
      "|  20|  aldubloversinitaly|   4|\n",
      "|  20|      aldubwemissyou|   5|\n",
      "|  21|               bbmas|   1|\n",
      "|  21| dolceamorepanaginip|   2|\n",
      "|  21|            uclfinal|   3|\n",
      "|  21|      dolceamoretuko|   4|\n",
      "|  21|   aldub45thweeksary|   5|\n",
      "|  22|   dolceamorebistado|   1|\n",
      "|  22|    aldubmissinghalf|   2|\n",
      "|  22|     aldubhomeatlast|   3|\n",
      "|  22|      aldubbackatone|   4|\n",
      "|  22|         memorialday|   5|\n",
      "|  23|       mtvawardsstar|   1|\n",
      "|  23|             orlando|   2|\n",
      "|  23|     mtvsnapmexdanna|   3|\n",
      "|  23|            euro2016|   4|\n",
      "|  23|           nbafinals|   5|\n",
      "|  24|  aldub11thmonthsary|   1|\n",
      "|  24|           nbafinals|   2|\n",
      "|  24|          fathersday|   3|\n",
      "|  24|          tonyawards|   4|\n",
      "|  24|       mtvawardsstar|   5|\n",
      "|  25|       veranomtv2016|   1|\n",
      "|  25|              brexit|   2|\n",
      "|  25|           nbafinals|   3|\n",
      "|  25|               euref|   4|\n",
      "|  25|       nobillnobreak|   5|\n",
      "|  26|       veranomtv2016|   1|\n",
      "|  26|           betawards|   2|\n",
      "|  26|       gameofthrones|   3|\n",
      "|  26|            euro2016|   4|\n",
      "|  26|        growingupshy|   5|\n",
      "|  27|              dallas|   1|\n",
      "|  27|          teenchoice|   2|\n",
      "|  27|    blacklivesmatter|   3|\n",
      "|  27|            euro2016|   4|\n",
      "|  27|aldubmainecelebra...|   5|\n",
      "|  28|          mtvhottest|   1|\n",
      "|  28| aldub1stanniversary|   2|\n",
      "|  28|       veranomtv2016|   3|\n",
      "|  28|         prayfornice|   4|\n",
      "|  28|              turkey|   5|\n",
      "|  29|          mtvhottest|   1|\n",
      "|  29|            rncincle|   2|\n",
      "|  29|          6yearsof1d|   3|\n",
      "|  29|       veranomtv2016|   4|\n",
      "|  29|6yearsofonedirection|   5|\n",
      "|  30|        demsinphilly|   1|\n",
      "|  30|          mtvhottest|   2|\n",
      "|  30|       veranomtv2016|   3|\n",
      "|  30|     savemarinajoyce|   4|\n",
      "|  30|  pushawardslizquens|   5|\n",
      "|  31|          teenchoice|   1|\n",
      "|  31|   choicemalewebstar|   2|\n",
      "|  31|    teenchoiceawards|   3|\n",
      "|  31|   aldublolalifeanew|   4|\n",
      "|  31|          sharknado4|   5|\n",
      "+----+--------------------+----+"
     ]
    }
   ],
   "source": [
    "# 2. Retrieve the top 5 trending hashtags of each week\n",
    "weekly_window = Window.partitionBy('week').orderBy(functions.desc('trend_index'))\n",
    "weekly_hashtag_rank = functions.rank() \\\n",
    "                               .over(weekly_window) \\\n",
    "                               .alias('rank')\n",
    "weekly_hashtag_trendIndexs.select('week', 'hashtag', weekly_hashtag_rank) \\\n",
    "                          .filter(functions.col('rank') < 6) \\\n",
    "                          .orderBy('week', 'rank') \\\n",
    "                          .show(100)"
   ]
  },
  {
   "cell_type": "markdown",
   "metadata": {},
   "source": [
    "## Plotting the timeseries of hashtag counts and using KMeans clustering\n",
    "\n",
    "### II.g: TODO (8 points / 50)\n",
    "\n",
    "The lists we obtained above are nice, but lets actually visualize some data. \n",
    "\n",
    "1. create a matrix that consists of hashtags as rows and daily counts as columns (hint: use `groupBy` and methods of `GroupedData`). \n",
    "2. use the `VectorAssembler` from the Spark ML library to create the feature vector which will consist of daily counts. \n",
    "\n",
    "If you extract any of these vectors you will obtain an array that represents the time series of daily counts - plot this time series for a few interesting hashtags you identified above. \n",
    "\n",
    "__Hint__: `isin` method of DataFrame columns might be useful. "
   ]
  },
  {
   "cell_type": "code",
   "execution_count": 30,
   "metadata": {},
   "outputs": [
    {
     "data": {
      "application/vnd.jupyter.widget-view+json": {
       "model_id": "",
       "version_major": 2,
       "version_minor": 0
      },
      "text/plain": [
       "FloatProgress(value=0.0, bar_style='info', description='Progress:', layout=Layout(height='25px', width='50%'),…"
      ]
     },
     "metadata": {},
     "output_type": "display_data"
    }
   ],
   "source": [
    "from pyspark.ml.feature import VectorAssembler"
   ]
  },
  {
   "cell_type": "code",
   "execution_count": 31,
   "metadata": {},
   "outputs": [
    {
     "data": {
      "application/vnd.jupyter.widget-view+json": {
       "model_id": "",
       "version_major": 2,
       "version_minor": 0
      },
      "text/plain": [
       "FloatProgress(value=0.0, bar_style='info', description='Progress:', layout=Layout(height='25px', width='50%'),…"
      ]
     },
     "metadata": {},
     "output_type": "display_data"
    }
   ],
   "source": [
    "hashtag_window = Window.partitionBy('hashtag')\n",
    "# Get max count for each hashtag\n",
    "hashtag_count_max = functions.max('count') \\\n",
    "                             .over(hashtag_window) \\\n",
    "                             .alias('max_count')\n",
    "\n",
    "# normalize counts (used in II.h)\n",
    "hashtag_count_norm = (day_counts['count'] / hashtag_count_max).alias('norm_count')\n",
    "day_counts_norm = day_counts.select('day', 'hashtag', hashtag_count_norm, 'count')"
   ]
  },
  {
   "cell_type": "code",
   "execution_count": 32,
   "metadata": {
    "scrolled": true
   },
   "outputs": [
    {
     "data": {
      "application/vnd.jupyter.widget-view+json": {
       "model_id": "",
       "version_major": 2,
       "version_minor": 0
      },
      "text/plain": [
       "FloatProgress(value=0.0, bar_style='info', description='Progress:', layout=Layout(height='25px', width='50%'),…"
      ]
     },
     "metadata": {},
     "output_type": "display_data"
    }
   ],
   "source": [
    "# Prepare timeseries for each hashtag\n",
    "daily_df = day_counts_norm.groupby('hashtag').pivot('day').sum('count').na.fill(0)"
   ]
  },
  {
   "cell_type": "code",
   "execution_count": 33,
   "metadata": {},
   "outputs": [
    {
     "data": {
      "application/vnd.jupyter.widget-view+json": {
       "model_id": "",
       "version_major": 2,
       "version_minor": 0
      },
      "text/plain": [
       "FloatProgress(value=0.0, bar_style='info', description='Progress:', layout=Layout(height='25px', width='50%'),…"
      ]
     },
     "metadata": {},
     "output_type": "display_data"
    }
   ],
   "source": [
    "assembler = VectorAssembler(inputCols=daily_df.columns[1:], outputCol='features')\n",
    "daily_vector = assembler.transform(daily_df).select(\"hashtag\",\"features\")"
   ]
  },
  {
   "cell_type": "markdown",
   "metadata": {},
   "source": [
    "**Explanation**: We plotted timeseries 'brexit', 'euref', 'nice' here. As we can see from the graph below, each hashtag peaked at the same day when the event happened. The 'brexit' and 'euref' also have the same trend which makes total sense."
   ]
  },
  {
   "cell_type": "code",
   "execution_count": 34,
   "metadata": {},
   "outputs": [
    {
     "data": {
      "application/vnd.jupyter.widget-view+json": {
       "model_id": "",
       "version_major": 2,
       "version_minor": 0
      },
      "text/plain": [
       "FloatProgress(value=0.0, bar_style='info', description='Progress:', layout=Layout(height='25px', width='50%'),…"
      ]
     },
     "metadata": {},
     "output_type": "display_data"
    },
    {
     "data": {
      "application/vnd.jupyter.widget-view+json": {
       "model_id": "",
       "version_major": 2,
       "version_minor": 0
      },
      "text/plain": [
       "FloatProgress(value=0.0, bar_style='info', description='Progress:', layout=Layout(height='25px', width='50%'),…"
      ]
     },
     "metadata": {},
     "output_type": "display_data"
    }
   ],
   "source": [
    "%%spark -o fewhashtag_feature\n",
    "fewhashtag_feature = daily_vector.filter(functions.col('hashtag').isin(['nice','brexit','euref'])).orderBy('hashtag')"
   ]
  },
  {
   "cell_type": "code",
   "execution_count": 35,
   "metadata": {},
   "outputs": [
    {
     "data": {
      "image/png": "[encoded data removed]",
      "text/plain": [
       "<Figure size 720x432 with 1 Axes>"
      ]
     },
     "metadata": {},
     "output_type": "display_data"
    }
   ],
   "source": [
    "%%local\n",
    "indexes = [122, 123, 124, 125, 126, 127, 128, 129, 130, 131, 132, 133, 134, 135, 136, 137, 138, 139, 140, 141, 142, 143, 144, 145, 146, 147, 148, 149, 150, 151, 152, 153, 154, \n",
    "           159, 160, 161, 162, 163, 164, 165, 166, 167, 168, 170, 171, 172, 173, 174, 175, 176,177, 178, 179, 180, 181, 182, 183, 184, 185, 186, 187, 188, 189, 190, 191, 192, \n",
    "           193, 194, 195, 196, 197, 198, 199, 200, 201, 202, 203, 204, 205, 206, 207, 208, 209, 210, 211, 212, 213, 214]\n",
    "# fig, axs = plt.subplots(ncols=3,figsize=(25,5)) \n",
    "plt.plot(indexes,fewhashtag_feature['features'][0]['values'],label='brexit')\n",
    "plt.plot(indexes,fewhashtag_feature['features'][1]['values'],label='euref')\n",
    "plt.plot(indexes,fewhashtag_feature['features'][2]['values'],label='nice')\n",
    "plt.xlabel('day')\n",
    "plt.ylabel('counts')\n",
    "plt.title('Counts verus Days')\n",
    "plt.legend()\n",
    "plt.show()"
   ]
  },
  {
   "cell_type": "markdown",
   "metadata": {},
   "source": [
    "### II.h: TODO - Use KMeans to cluster hashtags based on the daily count timeseries (12 points / 50)\n",
    "\n",
    "Use the DataFrame you created above to cluster the hashtag timeseries. Train the model and calculate the cluster membership for all hashtags. \n",
    "\n",
    "Show the cluster that includes \"brexit\" - does it make sense?\n",
    "\n",
    "Again, be creative and see if you can get the clustering to give you meaningful hashtag groupings. Make sure you document your process and code and make your final notebook easy to understand even if the result is not optimal or complete. \n",
    "\n",
    "__Hint:__ Additional data cleaning or filtering might be necessary to get useful results from the model. "
   ]
  },
  {
   "cell_type": "markdown",
   "metadata": {},
   "source": [
    "**Explanation**: Hashtags which do not have many counts means they are not hot topic in the internet during that period. We set a thershold 1000 for total counts and filter out those have fewer counts to ensure that the remaining hashtags are hit with high possibility."
   ]
  },
  {
   "cell_type": "code",
   "execution_count": 36,
   "metadata": {},
   "outputs": [
    {
     "data": {
      "application/vnd.jupyter.widget-view+json": {
       "model_id": "",
       "version_major": 2,
       "version_minor": 0
      },
      "text/plain": [
       "FloatProgress(value=0.0, bar_style='info', description='Progress:', layout=Layout(height='25px', width='50%'),…"
      ]
     },
     "metadata": {},
     "output_type": "display_data"
    },
    {
     "name": "stdout",
     "output_type": "stream",
     "text": [
      "5070"
     ]
    }
   ],
   "source": [
    "# Extract features\n",
    "\n",
    "# Step 1: Use normalized count as feature\n",
    "daily_df_norm = day_counts_norm.groupby('hashtag').pivot('day').sum('norm_count').na.fill(0)\n",
    "\n",
    "# Step 2: Vectorize features\n",
    "assembler = VectorAssembler(inputCols=daily_df.columns[1:], outputCol='features')\n",
    "tmp = assembler.transform(daily_df_norm).select(\"hashtag\",\"features\")\n",
    "\n",
    "# Step 3: Include total counts of each hashtag\n",
    "day_counts_total = day_counts.select('hashtag', 'count').groupBy('hashtag').agg(functions.sum('count').alias('totalCount'))\n",
    "daily_vector = tmp.join(day_counts_total, on=[\"hashtag\"])\n",
    "daily_vector.cache()\n",
    "\n",
    "# Step 4: Filter out hashtags with total counts < 1000\n",
    "daily_over1000_df = daily_vector.filter(functions.col('totalCount')>=1000)\n",
    "daily_over1000_df.count()"
   ]
  },
  {
   "cell_type": "markdown",
   "metadata": {},
   "source": [
    "**Explanation**: To cluster with K means, we need to select a good K be the number of center of clusters in order to have better clustering. Therefore, we randomly select 30 numbers from 10 to 400 and apply K means for each and evaluate the cost for the whole dataset. After that, we plot the Cost verus K in order to find out a suitable K for clustering."
   ]
  },
  {
   "cell_type": "code",
   "execution_count": 37,
   "metadata": {},
   "outputs": [
    {
     "data": {
      "application/vnd.jupyter.widget-view+json": {
       "model_id": "",
       "version_major": 2,
       "version_minor": 0
      },
      "text/plain": [
       "FloatProgress(value=0.0, bar_style='info', description='Progress:', layout=Layout(height='25px', width='50%'),…"
      ]
     },
     "metadata": {},
     "output_type": "display_data"
    }
   ],
   "source": [
    "# Find optimal K (num of clusters) using elbow method\n",
    "### Run this block take a couple of minutes to find K\n",
    "### You can skip this block and the following 2 blocks\n",
    "\n",
    "import numpy as np\n",
    "from pyspark.ml.clustering import KMeans\n",
    "\n",
    "# randomly select Ks between 10 to 400\n",
    "Ks = [int(np.floor(e)) for e in np.linspace(10, 400, num=30)]\n",
    "\n",
    "# apply K means for each candidate k\n",
    "cost = [0 for i in range(30)]\n",
    "for ind,k in enumerate(Ks):\n",
    "    kmeans = KMeans().setK(k).setSeed(1).setFeaturesCol(\"features\")\n",
    "    model = kmeans.fit(daily_over1000_df)\n",
    "    cost[ind] = model.computeCost(daily_over1000_df) "
   ]
  },
  {
   "cell_type": "code",
   "execution_count": 38,
   "metadata": {},
   "outputs": [
    {
     "data": {
      "application/vnd.jupyter.widget-view+json": {
       "model_id": "",
       "version_major": 2,
       "version_minor": 0
      },
      "text/plain": [
       "FloatProgress(value=0.0, bar_style='info', description='Progress:', layout=Layout(height='25px', width='50%'),…"
      ]
     },
     "metadata": {},
     "output_type": "display_data"
    },
    {
     "data": {
      "application/vnd.jupyter.widget-view+json": {
       "model_id": "",
       "version_major": 2,
       "version_minor": 0
      },
      "text/plain": [
       "FloatProgress(value=0.0, bar_style='info', description='Progress:', layout=Layout(height='25px', width='50%'),…"
      ]
     },
     "metadata": {},
     "output_type": "display_data"
    }
   ],
   "source": [
    "%%spark -o cost_df\n",
    "# download the cost and corresponding K from spark to local\n",
    "from pyspark.sql.types import *\n",
    "cost_data = [(c,k) for c,k in zip(cost,Ks)]\n",
    "cost_df = spark.createDataFrame(cost_data)"
   ]
  },
  {
   "cell_type": "code",
   "execution_count": 39,
   "metadata": {},
   "outputs": [
    {
     "data": {
      "image/png": "[encoded data removed]",
      "text/plain": [
       "<Figure size 1080x432 with 1 Axes>"
      ]
     },
     "metadata": {},
     "output_type": "display_data"
    }
   ],
   "source": [
    "%%local\n",
    "# Plot the Elbow\n",
    "cost = cost_df._1\n",
    "Ks = cost_df._2\n",
    "fig, ax = plt.subplots(1,1, figsize =(15,6))\n",
    "ax.plot(Ks,cost)\n",
    "ax.set_xlabel('k')\n",
    "ax.set_ylabel('cost')\n",
    "ax.set_title('Cost vs K')\n",
    "plt.show()"
   ]
  },
  {
   "cell_type": "markdown",
   "metadata": {},
   "source": [
    "According to the Ks list, we decided to choose 200 as final K."
   ]
  },
  {
   "cell_type": "code",
   "execution_count": 40,
   "metadata": {},
   "outputs": [
    {
     "data": {
      "application/vnd.jupyter.widget-view+json": {
       "model_id": "",
       "version_major": 2,
       "version_minor": 0
      },
      "text/plain": [
       "FloatProgress(value=0.0, bar_style='info', description='Progress:', layout=Layout(height='25px', width='50%'),…"
      ]
     },
     "metadata": {},
     "output_type": "display_data"
    }
   ],
   "source": [
    "k = 200\n",
    "kmeans = KMeans().setK(k).setSeed(1).setFeaturesCol(\"features\")\n",
    "model = kmeans.fit(daily_over1000_df)\n",
    "# Make predictions\n",
    "predictions = model.transform(daily_over1000_df)"
   ]
  },
  {
   "cell_type": "code",
   "execution_count": 41,
   "metadata": {},
   "outputs": [
    {
     "data": {
      "application/vnd.jupyter.widget-view+json": {
       "model_id": "",
       "version_major": 2,
       "version_minor": 0
      },
      "text/plain": [
       "FloatProgress(value=0.0, bar_style='info', description='Progress:', layout=Layout(height='25px', width='50%'),…"
      ]
     },
     "metadata": {},
     "output_type": "display_data"
    },
    {
     "name": "stdout",
     "output_type": "stream",
     "text": [
      "[Row(prediction=77)]"
     ]
    }
   ],
   "source": [
    "# show the cluster which contains 'brexit'\n",
    "brexit_cluster = predictions.filter(functions.col('hashtag')=='brexit').select('prediction').collect()\n",
    "brexit_cluster"
   ]
  },
  {
   "cell_type": "code",
   "execution_count": 42,
   "metadata": {},
   "outputs": [
    {
     "data": {
      "application/vnd.jupyter.widget-view+json": {
       "model_id": "",
       "version_major": 2,
       "version_minor": 0
      },
      "text/plain": [
       "FloatProgress(value=0.0, bar_style='info', description='Progress:', layout=Layout(height='25px', width='50%'),…"
      ]
     },
     "metadata": {},
     "output_type": "display_data"
    },
    {
     "name": "stdout",
     "output_type": "stream",
     "text": [
      "+------------------+\n",
      "|           hashtag|\n",
      "+------------------+\n",
      "|      1dreamboy2ff|\n",
      "|      1dstaywithus|\n",
      "|         aimhvideo|\n",
      "|alduboverloadkilig|\n",
      "|         askorange|\n",
      "|               bbn|\n",
      "|            brexit|\n",
      "|        brexitvote|\n",
      "|           britain|\n",
      "|             bulls|\n",
      "|           cameron|\n",
      "|      davidcameron|\n",
      "|    dolceamorehhww|\n",
      "|             euref|\n",
      "|      eureferendum|\n",
      "|      eurefresults|\n",
      "|           flyinsg|\n",
      "|    flyinsingapore|\n",
      "|          indyref2|\n",
      "|            knicks|\n",
      "|             leave|\n",
      "|       mtvmusicevo|\n",
      "|          nbadraft|\n",
      "|        referendum|\n",
      "|              remo|\n",
      "|            sixers|\n",
      "|stylishmsgapparels|\n",
      "|           tatinof|\n",
      "|       theshallows|\n",
      "+------------------+"
     ]
    }
   ],
   "source": [
    "# show elements in \"brexit\" cluster\n",
    "result_cluster = predictions.filter(functions.col('prediction')== brexit_cluster[0].prediction)\n",
    "result_cluster.select('hashtag').orderBy('hashtag').show(100)"
   ]
  },
  {
   "cell_type": "markdown",
   "metadata": {},
   "source": [
    "**Explanation**: As we can see, many hashtag relevant to 'brexit' are shown here, such as 'brexitvote', 'cameron', 'euref', 'leave'. Makes total sense!!!"
   ]
  },
  {
   "cell_type": "code",
   "execution_count": 43,
   "metadata": {},
   "outputs": [
    {
     "data": {
      "application/vnd.jupyter.widget-view+json": {
       "model_id": "",
       "version_major": 2,
       "version_minor": 0
      },
      "text/plain": [
       "FloatProgress(value=0.0, bar_style='info', description='Progress:', layout=Layout(height='25px', width='50%'),…"
      ]
     },
     "metadata": {},
     "output_type": "display_data"
    }
   ],
   "source": [
    "sc.stop()"
   ]
  }
 ],
 "metadata": {
  "kernelspec": {
   "display_name": "PySpark",
   "language": "",
   "name": "pysparkkernel"
  },
  "language_info": {
   "codemirror_mode": {
    "name": "python",
    "version": 3
   },
   "mimetype": "text/x-python",
   "name": "pyspark",
   "pygments_lexer": "python3"
  }
 },
 "nbformat": 4,
 "nbformat_minor": 4
}
